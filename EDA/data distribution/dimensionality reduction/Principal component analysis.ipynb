{
 "cells": [
  {
   "cell_type": "code",
   "execution_count": 1,
   "id": "ec38452b-e05b-432c-8ae3-7f0bd194cab6",
   "metadata": {},
   "outputs": [],
   "source": [
    "import pandas as pd\n",
    "from sklearn.decomposition import PCA\n",
    "from sklearn.preprocessing import StandardScaler"
   ]
  },
  {
   "cell_type": "code",
   "execution_count": 2,
   "id": "28ade0bb-a953-4c46-88c6-14ae49fcdfbc",
   "metadata": {},
   "outputs": [],
   "source": [
    "df = pd.read_csv(r\"C:\\Users\\basde\\Downloads\\playground-series-s3e24\\train.csv\")"
   ]
  },
  {
   "cell_type": "code",
   "execution_count": 8,
   "id": "a5d683b3-9e8b-40c3-8b77-32346f7a5998",
   "metadata": {},
   "outputs": [],
   "source": [
    "features = df.drop(columns=['id', 'smoking'])"
   ]
  },
  {
   "cell_type": "code",
   "execution_count": 9,
   "id": "ca65837a-0a90-46fb-9aa3-b7023f4af705",
   "metadata": {},
   "outputs": [],
   "source": [
    "scaler = StandardScaler()\n",
    "scaled_features = scaler.fit_transform(features)"
   ]
  },
  {
   "cell_type": "code",
   "execution_count": 28,
   "id": "3f6a1c46-e1e1-41b9-97d4-4ccc79671490",
   "metadata": {},
   "outputs": [],
   "source": [
    "# If n_components is not set, it will be the number of features.\n",
    "pca = PCA(n_components=8)\n",
    "principal_components = pca.fit_transform(scaled_features)"
   ]
  },
  {
   "cell_type": "code",
   "execution_count": 29,
   "id": "70006a94-5ef2-4319-a02f-5db1bc19cd8b",
   "metadata": {},
   "outputs": [],
   "source": [
    "pca_df = pd.DataFrame(data=principal_components)"
   ]
  },
  {
   "cell_type": "code",
   "execution_count": 30,
   "id": "081b6f65-d0fd-442b-abc4-1ede7a1e50b9",
   "metadata": {},
   "outputs": [],
   "source": [
    "final_df = pd.concat([pca_df, df[['smoking']]], axis=1)"
   ]
  },
  {
   "cell_type": "code",
   "execution_count": 31,
   "id": "c680635e-09d0-4d2c-a5d2-792c9977b809",
   "metadata": {},
   "outputs": [
    {
     "name": "stdout",
     "output_type": "stream",
     "text": [
      "Explained variance by each component: [0.20445065 0.10619703 0.08149305 0.06827215 0.06585984 0.05953544\n",
      " 0.04920546 0.04593811]\n",
      "Total explained variance by 2 components: 0.68\n",
      "\n",
      "DataFrame with Principal Components:\n",
      "          0         1         2         3         4         5         6  \\\n",
      "0  0.960143  0.976923 -1.956298 -1.071300 -0.563011 -1.561063  0.428796   \n",
      "1  0.210887  5.274566 -5.520988  1.706747  4.835730  3.137934 -1.676118   \n",
      "2  1.263916 -1.114100 -0.646922  0.636022 -0.274310 -1.621167 -1.240356   \n",
      "3  3.950327 -1.182368 -0.866905 -1.698953  0.724084  0.162398 -0.474352   \n",
      "4 -0.591412 -1.983237 -0.888322 -0.829224 -0.001653  0.348551  0.475405   \n",
      "\n",
      "          7  \n",
      "0 -0.283878  \n",
      "1 -0.393582  \n",
      "2 -0.307351  \n",
      "3 -1.085726  \n",
      "4 -0.107668  \n"
     ]
    }
   ],
   "source": [
    "# Explained variance ratio\n",
    "explained_variance = pca.explained_variance_ratio_\n",
    "print(f\"Explained variance by each component: {explained_variance}\")\n",
    "print(f\"Total explained variance by 2 components: {sum(explained_variance):.2f}\")\n",
    "\n",
    "# Display the resulting DataFrame\n",
    "print(\"\\nDataFrame with Principal Components:\")\n",
    "print(pca_df.head())\n",
    "\n",
    "# explained_variance_ratio_: This shows the percentage of variance each principal component accounts for. For example, if the output is [0.75, 0.15], it means:\n",
    "\n",
    "#    * Principal Component 1 (PC1) captures 75% of the total variance in the original data.\n",
    "#    * Principal Component 2 (PC2) captures an additional 15% of the variance.\n",
    "\n",
    "# Total Explained Variance: By summing the ratios, you get the cumulative variance explained. In the example above, the total is 90% (0.75 + 0.15). This means your new 2-component dataset retains 90% of the information from the original features.\n",
    "\n",
    "# Your Goal: Aim for a high total explained variance (e.g., 85-95%) with the fewest components possible. This confirms your dimensionality reduction was successful and didn't lose too much critical information.\n",
    "\n"
   ]
  },
  {
   "cell_type": "code",
   "execution_count": 32,
   "id": "413a6a5f-f07a-4d08-b20d-b6b85cc80394",
   "metadata": {},
   "outputs": [
    {
     "name": "stdout",
     "output_type": "stream",
     "text": [
      "[[-0.14967343  0.33114485  0.40506181  0.3601597   0.10189012  0.10798064\n",
      "  -0.04807479 -0.04796954  0.16984426  0.19309234  0.09843281  0.03763501\n",
      "   0.26795327 -0.26431464  0.04691252  0.34038454 -0.02208202  0.24992519\n",
      "   0.15566039  0.25746102  0.23238912  0.05536426]\n",
      " [ 0.43603018 -0.27137232 -0.05914396  0.12156773 -0.26500167 -0.26486895\n",
      "   0.20346569  0.20450813  0.32779915  0.28419316  0.21321064  0.31884004\n",
      "   0.11567959 -0.0222413   0.29682454 -0.07650798 -0.02547174 -0.08973432\n",
      "   0.13497843  0.07961476  0.11383903 -0.07047087]\n",
      " [-0.13761015 -0.05220164 -0.03838781 -0.07689719  0.1482222   0.15314927\n",
      "  -0.33002485 -0.33081009 -0.14526429 -0.08568971 -0.13062809  0.57687787\n",
      "   0.02194586  0.15562988  0.53898693 -0.01230089 -0.02371937 -0.0502339\n",
      "   0.05736717  0.07777121  0.02988171 -0.01415478]\n",
      " [ 0.02252439 -0.04361403 -0.05442803 -0.03574081 -0.06859101 -0.06610204\n",
      "   0.21608803  0.22022018 -0.39423693 -0.410678   -0.08171746 -0.02001354\n",
      "  -0.0503011   0.03268788 -0.01373528  0.0041086  -0.00838109  0.03693003\n",
      "   0.53032678  0.45980402  0.24157989 -0.04077554]\n",
      " [-0.00758618  0.12977371  0.09222301  0.07875395  0.08320858  0.0713388\n",
      "   0.4306625   0.42903758 -0.24326206 -0.25271236 -0.06559425  0.23161689\n",
      "   0.12318248 -0.17735446  0.29435772  0.08543813 -0.00991702  0.18595274\n",
      "  -0.35354849 -0.26501233 -0.18779169  0.01017183]\n",
      " [-0.07875985 -0.02302799 -0.06751733 -0.10939363  0.47366687  0.47153942\n",
      "   0.29669674  0.29157478  0.28410716  0.29069608 -0.13523818  0.03473729\n",
      "  -0.21226407  0.29013052 -0.01101938 -0.01647813 -0.05766354 -0.08388406\n",
      "   0.14450876  0.08820921  0.05968376 -0.00756612]\n",
      " [ 0.22072009 -0.20906938 -0.08515091  0.02807786  0.3554302   0.35069738\n",
      "  -0.06906843 -0.07392356 -0.13730499 -0.14753559  0.39677351 -0.06663419\n",
      "   0.37818282 -0.30659949 -0.105084   -0.16592029 -0.03079413 -0.21175694\n",
      "  -0.03321834  0.00427104  0.06345655 -0.33309912]\n",
      " [ 0.02146215  0.0570122   0.01391795 -0.00159966  0.00926724  0.00475505\n",
      "  -0.0038453  -0.00203455  0.01770882  0.02875357  0.05859982  0.01041455\n",
      "  -0.14448601  0.08378635  0.04271465  0.06557666  0.84996263  0.18312822\n",
      "   0.01385187 -0.00537841 -0.01554468 -0.44813666]]\n"
     ]
    }
   ],
   "source": [
    "print(pca.components_)"
   ]
  },
  {
   "cell_type": "code",
   "execution_count": 33,
   "id": "74ab3435-46a0-4b76-baf9-e35cb6187532",
   "metadata": {},
   "outputs": [
    {
     "name": "stdout",
     "output_type": "stream",
     "text": [
      "PCA Component Loadings:\n",
      "        age  height(cm)  weight(kg)  waist(cm)  eyesight(left)  \\\n",
      "0 -0.149673    0.331145    0.405062   0.360160        0.101890   \n",
      "1  0.436030   -0.271372   -0.059144   0.121568       -0.265002   \n",
      "2 -0.137610   -0.052202   -0.038388  -0.076897        0.148222   \n",
      "3  0.022524   -0.043614   -0.054428  -0.035741       -0.068591   \n",
      "4 -0.007586    0.129774    0.092223   0.078754        0.083209   \n",
      "5 -0.078760   -0.023028   -0.067517  -0.109394        0.473667   \n",
      "6  0.220720   -0.209069   -0.085151   0.028078        0.355430   \n",
      "7  0.021462    0.057012    0.013918  -0.001600        0.009267   \n",
      "\n",
      "   eyesight(right)  hearing(left)  hearing(right)  systolic  relaxation  ...  \\\n",
      "0         0.107981      -0.048075       -0.047970  0.169844    0.193092  ...   \n",
      "1        -0.264869       0.203466        0.204508  0.327799    0.284193  ...   \n",
      "2         0.153149      -0.330025       -0.330810 -0.145264   -0.085690  ...   \n",
      "3        -0.066102       0.216088        0.220220 -0.394237   -0.410678  ...   \n",
      "4         0.071339       0.430663        0.429038 -0.243262   -0.252712  ...   \n",
      "5         0.471539       0.296697        0.291575  0.284107    0.290696  ...   \n",
      "6         0.350697      -0.069068       -0.073924 -0.137305   -0.147536  ...   \n",
      "7         0.004755      -0.003845       -0.002035  0.017709    0.028754  ...   \n",
      "\n",
      "   triglyceride       HDL       LDL  hemoglobin  Urine protein  \\\n",
      "0      0.267953 -0.264315  0.046913    0.340385      -0.022082   \n",
      "1      0.115680 -0.022241  0.296825   -0.076508      -0.025472   \n",
      "2      0.021946  0.155630  0.538987   -0.012301      -0.023719   \n",
      "3     -0.050301  0.032688 -0.013735    0.004109      -0.008381   \n",
      "4      0.123182 -0.177354  0.294358    0.085438      -0.009917   \n",
      "5     -0.212264  0.290131 -0.011019   -0.016478      -0.057664   \n",
      "6      0.378183 -0.306599 -0.105084   -0.165920      -0.030794   \n",
      "7     -0.144486  0.083786  0.042715    0.065577       0.849963   \n",
      "\n",
      "   serum creatinine       AST       ALT       Gtp  dental caries  \n",
      "0          0.249925  0.155660  0.257461  0.232389       0.055364  \n",
      "1         -0.089734  0.134978  0.079615  0.113839      -0.070471  \n",
      "2         -0.050234  0.057367  0.077771  0.029882      -0.014155  \n",
      "3          0.036930  0.530327  0.459804  0.241580      -0.040776  \n",
      "4          0.185953 -0.353548 -0.265012 -0.187792       0.010172  \n",
      "5         -0.083884  0.144509  0.088209  0.059684      -0.007566  \n",
      "6         -0.211757 -0.033218  0.004271  0.063457      -0.333099  \n",
      "7          0.183128  0.013852 -0.005378 -0.015545      -0.448137  \n",
      "\n",
      "[8 rows x 22 columns]\n"
     ]
    }
   ],
   "source": [
    "loadings_df = pd.DataFrame(data=pca.components_,\n",
    "                           columns=features.columns)\n",
    "\n",
    "print(\"PCA Component Loadings:\")\n",
    "print(loadings_df)\n",
    "\n",
    "# Look for large absolute values: A feature with a high positive or high negative loading score is a strong driver of that component. \n",
    "# For example, if feature3 has a loading of 0.68 for Principal Component 1, it means feature3 contributes significantly to it.\n",
    "\n",
    "# Look at the signs (positive or negative): The sign tells you the direction of the correlation. \n",
    "# Features with the same sign (both positive or both negative) on a component vary in the same direction. Features with opposite signs vary in opposite directions.\n"
   ]
  },
  {
   "cell_type": "code",
   "execution_count": null,
   "id": "f4328a7b-75d4-477e-868c-f174cdfade1d",
   "metadata": {},
   "outputs": [],
   "source": []
  },
  {
   "cell_type": "code",
   "execution_count": null,
   "id": "af62ea6f-72ab-40d2-89b0-d971f933b223",
   "metadata": {},
   "outputs": [],
   "source": []
  }
 ],
 "metadata": {
  "kernelspec": {
   "display_name": "Python 3 (ipykernel)",
   "language": "python",
   "name": "python3"
  },
  "language_info": {
   "codemirror_mode": {
    "name": "ipython",
    "version": 3
   },
   "file_extension": ".py",
   "mimetype": "text/x-python",
   "name": "python",
   "nbconvert_exporter": "python",
   "pygments_lexer": "ipython3",
   "version": "3.11.9"
  }
 },
 "nbformat": 4,
 "nbformat_minor": 5
}
