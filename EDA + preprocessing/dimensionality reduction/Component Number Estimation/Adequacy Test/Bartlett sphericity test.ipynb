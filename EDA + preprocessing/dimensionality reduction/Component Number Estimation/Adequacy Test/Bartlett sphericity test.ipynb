{
 "cells": [
  {
   "cell_type": "code",
   "execution_count": 1,
   "id": "da455cd9-ceb3-4f3a-b48d-31f69c7e52f8",
   "metadata": {},
   "outputs": [],
   "source": [
    "# Normality: Data in each group must be normally distributed. This test is sensitive to deviations from univariate normality.\n",
    "\n",
    "# Independence: The samples for each group must be independent of one another.\n",
    "\n",
    "# Random Sampling: Each group should be a random sample from its respective population.\n",
    "\n",
    "# Scale: Data must be interval or ratio (i.e., numeric data with meaningful differences, like temperature or height). This is because the test relies on calculating variance, which isn't valid for categorical or ranked (ordinal) data."
   ]
  },
  {
   "cell_type": "code",
   "execution_count": 2,
   "id": "ddda6d45-58e2-443d-8ef5-e506bc970ca9",
   "metadata": {},
   "outputs": [],
   "source": [
    "import pandas as pd\n",
    "import numpy as np\n",
    "from sklearn.datasets import load_iris\n",
    "from factor_analyzer.factor_analyzer import calculate_bartlett_sphericity\n"
   ]
  },
  {
   "cell_type": "code",
   "execution_count": 3,
   "id": "121aa83c-9803-4333-8eac-bf259e8480a2",
   "metadata": {},
   "outputs": [],
   "source": [
    "iris = load_iris()\n",
    "df = pd.DataFrame(iris.data, columns=iris.feature_names)"
   ]
  },
  {
   "cell_type": "code",
   "execution_count": 4,
   "id": "b3735dd2-eef9-4ce6-8984-447ec031098a",
   "metadata": {},
   "outputs": [
    {
     "data": {
      "text/plain": [
       "Index(['sepal length (cm)', 'sepal width (cm)', 'petal length (cm)',\n",
       "       'petal width (cm)'],\n",
       "      dtype='object')"
      ]
     },
     "execution_count": 4,
     "metadata": {},
     "output_type": "execute_result"
    }
   ],
   "source": [
    "df.columns\n"
   ]
  },
  {
   "cell_type": "code",
   "execution_count": 5,
   "id": "575faa00-5ff4-4b4f-9cf9-1d222e135231",
   "metadata": {},
   "outputs": [],
   "source": [
    "\n",
    "df.dropna(inplace=True)"
   ]
  },
  {
   "cell_type": "code",
   "execution_count": 6,
   "id": "b5701213-b21a-4d41-92e1-a1a08c2ad03e",
   "metadata": {},
   "outputs": [
    {
     "data": {
      "text/plain": [
       "(706.9592430234756, 1.9226796044143468e-149)"
      ]
     },
     "execution_count": 6,
     "metadata": {},
     "output_type": "execute_result"
    }
   ],
   "source": [
    "# Factor Analysis (Bartlett's Test of Sphericity):\n",
    "# It tests whether your correlation matrix is significantly different from an identity matrix.\n",
    "# An identity matrix would mean your variables are completely uncorrelated, making a factor analysis pointless.\n",
    "\n",
    "chi_square_value,p_value=calculate_bartlett_sphericity(df)\n",
    "chi_square_value, p_value\n",
    "\n",
    "# The null hypothesis is that the variables are uncorrelated (i.e., the correlation matrix is an identity matrix).\n",
    "# The p-value tells you the probability of observing your data (or more extreme data) if the null hypothesis were true. \n",
    "# You compare this p-value to a pre-determined significance level (alpha, or α), which is typically set at 0.05. lower p-value means less chance for no correlation."
   ]
  },
  {
   "cell_type": "code",
   "execution_count": null,
   "id": "31577e56-6934-494b-b3de-0ac37f97a9e2",
   "metadata": {},
   "outputs": [],
   "source": []
  },
  {
   "cell_type": "code",
   "execution_count": null,
   "id": "1a7186ae-890d-4c2c-9bf3-ed6d9101f57c",
   "metadata": {},
   "outputs": [],
   "source": []
  }
 ],
 "metadata": {
  "kernelspec": {
   "display_name": "Python 3 (ipykernel)",
   "language": "python",
   "name": "python3"
  },
  "language_info": {
   "codemirror_mode": {
    "name": "ipython",
    "version": 3
   },
   "file_extension": ".py",
   "mimetype": "text/x-python",
   "name": "python",
   "nbconvert_exporter": "python",
   "pygments_lexer": "ipython3",
   "version": "3.11.9"
  }
 },
 "nbformat": 4,
 "nbformat_minor": 5
}
