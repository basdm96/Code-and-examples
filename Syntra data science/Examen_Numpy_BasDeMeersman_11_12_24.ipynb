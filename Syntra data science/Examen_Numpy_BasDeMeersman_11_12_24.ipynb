{
 "cells": [
  {
   "cell_type": "code",
   "execution_count": 1,
   "id": "855016b7-393a-459b-8ecf-0bb7afa958e9",
   "metadata": {},
   "outputs": [],
   "source": [
    "import numpy as np\n"
   ]
  },
  {
   "cell_type": "code",
   "execution_count": 2,
   "id": "650452bc-962d-464c-8e4a-41193c43567e",
   "metadata": {},
   "outputs": [],
   "source": [
    "# vraag 1 \n",
    "data = np.array([\"Mercedes\", \"pear\", \"antipasta\", \"ananas\"])\n",
    "data"
   ]
  },
  {
   "cell_type": "code",
   "execution_count": 3,
   "id": "7fcf5549-1a38-400b-921e-23f7fdb1fbcc",
   "metadata": {},
   "outputs": [
    {
     "name": "stdout",
     "output_type": "stream",
     "text": [
      "Mercedes pear antipasta ananas \n"
     ]
    }
   ],
   "source": [
    "# vraag 2 \n",
    "for i in range (0, 4):\n",
    "    print (data[i], end =\" \")\n",
    "print()"
   ]
  },
  {
   "cell_type": "code",
   "execution_count": 4,
   "id": "29d17888-d531-40d8-9ed2-353b10e3398e",
   "metadata": {},
   "outputs": [
    {
     "data": {
      "text/plain": [
       "array([1, 1, 1, 1, 1, 1, 1, 1, 1, 1, 1, 1, 1, 1, 1])"
      ]
     },
     "execution_count": 4,
     "metadata": {},
     "output_type": "execute_result"
    }
   ],
   "source": [
    "# vraag 3\n",
    "one =np.ones(15, dtype=int)\n",
    "one"
   ]
  },
  {
   "cell_type": "code",
   "execution_count": 5,
   "id": "ae51296c-9eb0-483e-aa2f-50120767a797",
   "metadata": {},
   "outputs": [
    {
     "data": {
      "text/plain": [
       "array([ 2, 10,  3, 10,  4,  4])"
      ]
     },
     "execution_count": 5,
     "metadata": {},
     "output_type": "execute_result"
    }
   ],
   "source": [
    "# vraag 4 \n",
    "vier = np.random.randint(1, 11, size=6)\n",
    "vier"
   ]
  },
  {
   "cell_type": "code",
   "execution_count": 6,
   "id": "be72cfd1-f124-4f18-bf92-a5e26665bc3d",
   "metadata": {},
   "outputs": [
    {
     "data": {
      "text/plain": [
       "array([[ 2, 10,  8,  6],\n",
       "       [11, 13,  9,  3],\n",
       "       [ 2,  3, 18,  7]])"
      ]
     },
     "execution_count": 6,
     "metadata": {},
     "output_type": "execute_result"
    }
   ],
   "source": [
    "# vraag 5\n",
    "vijf = np.random.randint(1, 21, size=(3, 4))\n",
    "vijf"
   ]
  },
  {
   "cell_type": "code",
   "execution_count": 7,
   "id": "bcf3a2d0-7899-4a22-ae30-393011ca0b4a",
   "metadata": {},
   "outputs": [
    {
     "name": "stdout",
     "output_type": "stream",
     "text": [
      "Dimensies:  2 \n",
      "Shape:  (3, 4) \n",
      "Size:  12\n"
     ]
    }
   ],
   "source": [
    "# vraag 6\n",
    "print(\"Dimensies: \",vijf.ndim,\"\\nShape: \", vijf.shape,\"\\nSize: \",vijf.size)"
   ]
  },
  {
   "cell_type": "code",
   "execution_count": 8,
   "id": "80c45cf7-3a7a-4ce2-9f0a-aad6199fa212",
   "metadata": {},
   "outputs": [
    {
     "name": "stdout",
     "output_type": "stream",
     "text": [
      "13\n"
     ]
    }
   ],
   "source": [
    "# vraag 7\n",
    "print(vijf[1,1])"
   ]
  },
  {
   "cell_type": "code",
   "execution_count": 9,
   "id": "e3b64f30-07c7-44f3-9949-97e52acd4f23",
   "metadata": {},
   "outputs": [
    {
     "data": {
      "text/plain": [
       "array([ 2,  4,  6,  8, 10, 12, 14, 16, 18, 20])"
      ]
     },
     "execution_count": 9,
     "metadata": {},
     "output_type": "execute_result"
    }
   ],
   "source": [
    "# vraag 8\n",
    "acht = np.arange(2, 21, 2)\n",
    "acht"
   ]
  },
  {
   "cell_type": "code",
   "execution_count": 10,
   "id": "df634981-9155-4ee5-8371-576352642dae",
   "metadata": {},
   "outputs": [
    {
     "data": {
      "text/plain": [
       "array([2, 4, 6, 8])"
      ]
     },
     "execution_count": 10,
     "metadata": {},
     "output_type": "execute_result"
    }
   ],
   "source": [
    "# vraag 9\n",
    "negen = np.arange(2, 10, 2)\n",
    "negen"
   ]
  },
  {
   "cell_type": "code",
   "execution_count": 11,
   "id": "3b0db3c6-523d-45a5-805a-2e02f02dccde",
   "metadata": {},
   "outputs": [
    {
     "name": "stdout",
     "output_type": "stream",
     "text": [
      "[2 4 6 8]\n"
     ]
    }
   ],
   "source": [
    "# vraag 10\n",
    "print(negen[:4])"
   ]
  },
  {
   "cell_type": "code",
   "execution_count": 12,
   "id": "6fbdf89e-ec50-4a96-9b04-9c14b5496560",
   "metadata": {},
   "outputs": [
    {
     "name": "stdout",
     "output_type": "stream",
     "text": [
      "[2 4 6 8]\n"
     ]
    }
   ],
   "source": [
    "# vraag 11\n",
    "print(negen[-4:])"
   ]
  },
  {
   "cell_type": "code",
   "execution_count": 13,
   "id": "909feb35-5789-43ed-a8fe-8d7ca11cbfe1",
   "metadata": {},
   "outputs": [
    {
     "data": {
      "text/plain": [
       "array(['1', '2', '3', '3', '2', '1'], dtype='<U1')"
      ]
     },
     "execution_count": 13,
     "metadata": {},
     "output_type": "execute_result"
    }
   ],
   "source": [
    "# vraag 12\n",
    "x = np.array([1, 2, 3], dtype=str)\n",
    "y = np.array([3, 2, 1], dtype=str)\n",
    "twaalf = np.concatenate((x, y))\n",
    "twaalf"
   ]
  },
  {
   "cell_type": "code",
   "execution_count": 14,
   "id": "acbdc7c2-94b0-4dbd-b0ed-6d5c8352d7b7",
   "metadata": {},
   "outputs": [
    {
     "data": {
      "text/plain": [
       "array([2, 1, 0, 1, 2])"
      ]
     },
     "execution_count": 14,
     "metadata": {},
     "output_type": "execute_result"
    }
   ],
   "source": [
    "# vraag 13\n",
    "x = np.array([-2, -1, 0, 1, 2])\n",
    "dertien = np.abs(x)\n",
    "dertien"
   ]
  },
  {
   "cell_type": "code",
   "execution_count": 15,
   "id": "52e916d0-a9f5-4fcb-8451-ff4a618e2a32",
   "metadata": {},
   "outputs": [
    {
     "data": {
      "text/plain": [
       "array([ 0,  2,  4,  6,  8, 10, 12, 14, 16, 18, 20])"
      ]
     },
     "execution_count": 15,
     "metadata": {},
     "output_type": "execute_result"
    }
   ],
   "source": [
    "# vraag 14\n",
    "veertien = np.linspace(0, 20, 11, dtype= int)\n",
    "veertien"
   ]
  },
  {
   "cell_type": "code",
   "execution_count": 16,
   "id": "d05670ab-6905-482c-84bd-dddbde14f6ca",
   "metadata": {},
   "outputs": [
    {
     "name": "stdout",
     "output_type": "stream",
     "text": [
      "ln(x) = [0.         0.69314718 1.38629436 4.60517019]\n",
      "log2(x) = [0.         1.         2.         6.64385619]\n",
      "log10(x) = [0.         0.30103    0.60205999 2.        ]\n"
     ]
    }
   ],
   "source": [
    "# vraag 15\n",
    "x = np.array([1, 2, 4, 100])\n",
    "# a \n",
    "print(\"ln(x) =\", np.log(x))\n",
    "# b\n",
    "print(\"log2(x) =\", np.log2(x))\n",
    "# c\n",
    "print(\"log10(x) =\", np.log10(x))"
   ]
  },
  {
   "cell_type": "code",
   "execution_count": 17,
   "id": "7e4433a6-79f8-4f4f-9aab-4518d15b9aca",
   "metadata": {},
   "outputs": [
    {
     "name": "stdout",
     "output_type": "stream",
     "text": [
      "['ERIC' 'PAUL' 'SEAN']\n",
      "['Eric' 'Paul' 'Sean']\n"
     ]
    }
   ],
   "source": [
    "# vraag 16\n",
    "zestien = np.array(['eric', 'paul', 'sean'])\n",
    "# a \n",
    "ZESTIEN = np.char.upper(zestien)\n",
    "print(ZESTIEN)\n",
    "# b\n",
    "Zestien = np.char.capitalize(zestien)\n",
    "print(Zestien)"
   ]
  }
 ],
 "metadata": {
  "kernelspec": {
   "display_name": "Python 3 (ipykernel)",
   "language": "python",
   "name": "python3"
  },
  "language_info": {
   "codemirror_mode": {
    "name": "ipython",
    "version": 3
   },
   "file_extension": ".py",
   "mimetype": "text/x-python",
   "name": "python",
   "nbconvert_exporter": "python",
   "pygments_lexer": "ipython3",
   "version": "3.11.9"
  }
 },
 "nbformat": 4,
 "nbformat_minor": 5
}
