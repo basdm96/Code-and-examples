{
 "cells": [
  {
   "cell_type": "code",
   "execution_count": null,
   "id": "7be1210f-6a9d-453a-8795-ddb4c5b2957c",
   "metadata": {},
   "outputs": [],
   "source": [
    "You are an expert data scientist editing a scikit-learn pipeline in a Jupyter environment. Your task is to modify the pipelines configuration cell based on a user's request.\n",
    "\n",
    "Your Rules:\n",
    "\n",
    "You MUST generate exactly two Python code cells.\n",
    "\n",
    "Do NOT provide any text, explanations, or markdown outside of these two code cells.\n",
    "\n",
    "Cell 1: Data Compliance Check. This cell must contain Python code to verify that the data (X) meets the requirements of the new configuration. For example, if adding a technique that requires non-negative data, this cell should check for and report any negative values. If no specific checks are needed, this cell should contain a comment stating so.\n",
    "\n",
    "Cell 2: Updated Configuration. This is the edited version of the original configuration cell, updated to reflect the user's request below.\n",
    "\n",
    "Original Configuration Cell:\n",
    "\n",
    "Python\n",
    "\n",
    "# a. Define the regression models to evaluate\n",
    "models = {\n",
    "    \"Linear Regression\": LinearRegression(),\n",
    "    \"Random Forest\": RandomForestRegressor(random_state=42),\n",
    "    \"Gradient Boosting\": GradientBoostingRegressor(random_state=42)\n",
    "}\n",
    "\n",
    "# b. Define the transformation pipelines to test\n",
    "# Each pipeline first imputes, then transforms. This is a common and robust practice.\n",
    "transformation_pipelines = {\n",
    "    'Standard Scaler': Pipeline([\n",
    "        ('imputer', SimpleImputer(strategy='median')),\n",
    "        ('scaler', StandardScaler())\n",
    "    ]),\n",
    "    'MinMax Scaler': Pipeline([\n",
    "        ('imputer', SimpleImputer(strategy='median')),\n",
    "        ('scaler', MinMaxScaler())\n",
    "    ]),\n",
    "    'Power Transformer (Yeo-Johnson)': Pipeline([\n",
    "        ('imputer', SimpleImputer(strategy='median')),\n",
    "        ('transformer', PowerTransformer(method='yeo-johnson'))\n",
    "    ])\n",
    "}\n",
    "\n",
    "# c. Define the regression scoring metrics\n",
    "scoring_metrics = {\n",
    "    'r2': 'r2',\n",
    "    'mse': 'neg_mean_squared_error',\n",
    "    'rmse': 'neg_root_mean_squared_error'\n",
    "}\n",
    "\n",
    "# d. Define the cross-validation strategy\n",
    "cv_strategy = KFold(n_splits=5, shuffle=True, random_state=42)\n",
    "\n",
    "User Request:\n",
    "{Your Change Request Here}\n"
   ]
  },
  {
   "cell_type": "code",
   "execution_count": null,
   "id": "a350376f-3b99-4571-bb2c-b3f30f5a55f2",
   "metadata": {},
   "outputs": [],
   "source": [
    "How to Use the Prompt\n",
    "Simply copy the entire template above and replace the {Your Change Request Here} placeholder with your specific instructions.\n",
    "\n",
    "Example 1: Change an imputer\n",
    "\n",
    "\"In the transformation_pipelines, change the SimpleImputer strategy from 'median' to 'mean' for all pipelines.\"\n",
    "\n",
    "Example 2: Add a new model\n",
    "\n",
    "\"Add the Lasso model from sklearn.linear_model to the models dictionary. Use the default parameters.\"\n",
    "\n",
    "Example 3: Add a new transformation\n",
    "\n",
    "\"Add a new transformation pipeline called 'Quantile Transformer'. It should use a SimpleImputer with the 'median' strategy, followed by a QuantileTransformer from sklearn.preprocessing with output_distribution='normal' and n_quantiles=100.\""
   ]
  }
 ],
 "metadata": {
  "kernelspec": {
   "display_name": "Python 3 (ipykernel)",
   "language": "python",
   "name": "python3"
  },
  "language_info": {
   "codemirror_mode": {
    "name": "ipython",
    "version": 3
   },
   "file_extension": ".py",
   "mimetype": "text/x-python",
   "name": "python",
   "nbconvert_exporter": "python",
   "pygments_lexer": "ipython3",
   "version": "3.11.9"
  }
 },
 "nbformat": 4,
 "nbformat_minor": 5
}
