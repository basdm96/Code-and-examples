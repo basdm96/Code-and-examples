{
 "cells": [
  {
   "cell_type": "code",
   "execution_count": 1,
   "id": "2c8865e7-945d-4ddf-a400-010297f4f83f",
   "metadata": {},
   "outputs": [],
   "source": [
    "import numpy as np\n",
    "import pandas as pd\n",
    "from sklearn.datasets import fetch_california_housing\n"
   ]
  },
  {
   "cell_type": "code",
   "execution_count": 2,
   "id": "96285ed7-c337-442a-8a47-70c09b6fd2f3",
   "metadata": {},
   "outputs": [],
   "source": [
    "# --- Modified Z-Score Calculation ---\n",
    "\n",
    "# When to use this method:\n",
    "# - For small datasets where mean/std are easily skewed.\n",
    "# - When data is not normally distributed (i.e., skewed).\n",
    "# - To reduce the influence of extreme outliers on the detection process itself.\n",
    "\n",
    "# We'll use the California Housing dataset for this example.\n",
    "housing = fetch_california_housing()\n",
    "df = pd.DataFrame(housing.data, columns=housing.feature_names)\n",
    "\n",
    "# We will analyze the 'MedInc' (Median Income) feature for outliers.\n",
    "data = df['MedInc'].values\n",
    "\n"
   ]
  },
  {
   "cell_type": "code",
   "execution_count": 3,
   "id": "75da4c5c-2dbf-47ac-9f48-ad9dadf9e88f",
   "metadata": {},
   "outputs": [],
   "source": [
    "# 2. Calculate the median and Median Absolute Deviation (MAD)\n",
    "median_val = np.median(data)\n",
    "abs_deviation = np.abs(data - median_val)\n",
    "mad = np.median(abs_deviation)\n",
    "\n"
   ]
  },
  {
   "cell_type": "code",
   "execution_count": 4,
   "id": "26656033-8fd1-4a22-ba91-d3e240ccc520",
   "metadata": {},
   "outputs": [],
   "source": [
    "# 3. Calculate the Modified Z-scores\n",
    "# Handle the case where MAD is 0 to avoid division by zero.\n",
    "if mad == 0:\n",
    "    mod_z_scores = np.zeros_like(data)\n",
    "else:\n",
    "    # The constant 0.6745 makes the MAD a consistent estimator for the standard deviation.\n",
    "    mod_z_scores = 0.6745 * (data - median_val) / mad\n",
    "\n"
   ]
  },
  {
   "cell_type": "code",
   "execution_count": 5,
   "id": "dedd32b6-7036-4709-999c-707ea816b1a3",
   "metadata": {},
   "outputs": [],
   "source": [
    "# 4. Identify and display outliers\n",
    "outlier_threshold = 3.0\n",
    "outlier_indices = np.where(np.abs(mod_z_scores) > outlier_threshold)\n",
    "outlier_values = data[outlier_indices]\n",
    "\n",
    "\n"
   ]
  },
  {
   "cell_type": "code",
   "execution_count": 6,
   "id": "f1f68ce5-10e6-4337-bea0-68687ea40b14",
   "metadata": {},
   "outputs": [],
   "source": [
    "# 5. Create a new DataFrame containing only the outliers\n",
    "# We use .loc to select rows from the original DataFrame based on the outlier indices\n",
    "outliers_df = df.loc[outlier_indices].copy()\n",
    "outliers_df['Modified_Z_Score'] = mod_z_scores[outlier_indices]"
   ]
  },
  {
   "cell_type": "code",
   "execution_count": 7,
   "id": "26169462-a938-4831-a18e-8aa3196a6b21",
   "metadata": {},
   "outputs": [
    {
     "name": "stdout",
     "output_type": "stream",
     "text": [
      "Analyzing feature: 'MedInc' from California Housing dataset\n",
      "Number of data points: 20640\n",
      "Found 583 outliers with a threshold of 3.0.\n",
      "------------------------------\n",
      "\n",
      "DataFrame containing the identified outliers (first 5 rows):\n",
      "      MedInc  HouseAge  AveRooms  AveBedrms  Population  AveOccup  Latitude  \\\n",
      "0     8.3252      41.0  6.984127   1.023810       322.0  2.555556     37.88   \n",
      "1     8.3014      21.0  6.238137   0.971880      2401.0  2.109842     37.86   \n",
      "131  11.6017      18.0  8.335052   1.082474       533.0  2.747423     37.84   \n",
      "135   8.4010      26.0  7.530806   1.056872       542.0  2.568720     37.83   \n",
      "137   8.3170      32.0  6.977186   1.003802       635.0  2.414449     37.82   \n",
      "\n",
      "     Longitude  Modified_Z_Score  \n",
      "0      -122.23          3.036201  \n",
      "1      -122.22          3.021116  \n",
      "131    -122.19          5.112877  \n",
      "135    -122.20          3.084243  \n",
      "137    -122.19          3.031003  \n"
     ]
    }
   ],
   "source": [
    "# --- Display Results ---\n",
    "print(f\"Analyzing feature: 'MedInc' from California Housing dataset\")\n",
    "print(f\"Number of data points: {len(data)}\")\n",
    "print(f\"Found {len(outliers_df)} outliers with a threshold of {outlier_threshold}.\")\n",
    "print(\"-\" * 30)\n",
    "print(\"\\nDataFrame containing the identified outliers (first 5 rows):\")\n",
    "print(outliers_df.head())\n",
    "\n",
    "\n",
    "# Example of what the output will look like:\n",
    "# Analyzing feature: 'MedInc' from California Housing dataset\n",
    "# Number of data points: 20640\n",
    "# Found 439 outliers with a threshold of 3.5.\n",
    "# ------------------------------\n",
    "#\n",
    "# DataFrame containing the identified outliers (first 5 rows):\n",
    "#      MedInc  HouseAge  AveRooms  AveBedrms  Population  AveOccup  Latitude  Longitude  Modified_Z_Score\n",
    "# 9   15.0001      52.0  8.288136   1.076271       592.0  2.508475     37.85    -122.25          6.877508\n",
    "# 10  15.0001      52.0  8.288136   1.076271       592.0  2.508475     37.85    -122.25          6.877508\n",
    "# 11  15.0001      52.0  8.288136   1.076271       592.0  2.508475     37.85    -122.25          6.877508\n",
    "# 12  15.0001      52.0  8.288136   1.076271       592.0  2.508475     37.85    -122.25          6.877508\n",
    "# 13  15.0001      52.0  8.288136   1.076271       592.0  2.508475     37.85    -122.25          6.877508"
   ]
  },
  {
   "cell_type": "code",
   "execution_count": 8,
   "id": "636c29e0-dc19-4125-a325-95e3ea6f806e",
   "metadata": {},
   "outputs": [
    {
     "data": {
      "text/plain": [
       "count    583.000000\n",
       "mean       4.388262\n",
       "std        1.254496\n",
       "min        3.003560\n",
       "25%        3.338813\n",
       "50%        4.147839\n",
       "75%        4.836885\n",
       "max        7.266815\n",
       "Name: Modified_Z_Score, dtype: float64"
      ]
     },
     "execution_count": 8,
     "metadata": {},
     "output_type": "execute_result"
    }
   ],
   "source": [
    "outliers_df['Modified_Z_Score'].describe()"
   ]
  },
  {
   "cell_type": "code",
   "execution_count": null,
   "id": "06b37d03-7ac4-49b5-a261-10fbc8bfd8c6",
   "metadata": {},
   "outputs": [],
   "source": []
  },
  {
   "cell_type": "code",
   "execution_count": null,
   "id": "117287a2-0ca1-4769-b749-b0f9f4013db5",
   "metadata": {},
   "outputs": [],
   "source": []
  },
  {
   "cell_type": "code",
   "execution_count": null,
   "id": "834a65be-f623-4373-8736-e933ff360623",
   "metadata": {},
   "outputs": [],
   "source": []
  },
  {
   "cell_type": "code",
   "execution_count": null,
   "id": "2577eefb-a841-41bf-8793-8c94b15ac700",
   "metadata": {},
   "outputs": [],
   "source": []
  },
  {
   "cell_type": "code",
   "execution_count": null,
   "id": "22406c60-e248-4755-a67e-71315e3f7e64",
   "metadata": {},
   "outputs": [],
   "source": []
  }
 ],
 "metadata": {
  "kernelspec": {
   "display_name": "Python 3 (ipykernel)",
   "language": "python",
   "name": "python3"
  },
  "language_info": {
   "codemirror_mode": {
    "name": "ipython",
    "version": 3
   },
   "file_extension": ".py",
   "mimetype": "text/x-python",
   "name": "python",
   "nbconvert_exporter": "python",
   "pygments_lexer": "ipython3",
   "version": "3.11.9"
  }
 },
 "nbformat": 4,
 "nbformat_minor": 5
}
