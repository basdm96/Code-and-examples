{
 "cells": [
  {
   "cell_type": "code",
   "execution_count": 1,
   "id": "b43a277a-2e34-4c93-984c-7f040d94f7da",
   "metadata": {},
   "outputs": [],
   "source": [
    "import pandas as pd\n",
    "import numpy as np\n",
    "import matplotlib.pyplot as plt\n",
    "import seaborn as sns\n",
    "from sklearn.datasets import fetch_openml"
   ]
  },
  {
   "cell_type": "code",
   "execution_count": 2,
   "id": "e11b6a86-9d21-44ea-a722-3cb14b296d35",
   "metadata": {},
   "outputs": [],
   "source": [
    "# ---\n",
    "# 1. Introduction & Use Case\n",
    "# ---\n",
    "\n",
    "# Mode Imputation for Outliers\n",
    "#\n",
    "# When to use:\n",
    "# This technique is most suitable for categorical features (or discrete numerical features with a limited number of values).\n",
    "# Outliers in this context are typically categories that occur with very low frequency. These might be data entry errors\n",
    "# or simply rare events that you want to group into a more common category to prevent a model from overfitting to them.\n",
    "#\n",
    "# Data Requirements:\n",
    "# - The data should be categorical or discrete.\n",
    "# - It's not recommended for continuous numerical data, where replacing an outlier with the mode could\n",
    "#   significantly distort the distribution. For numerical data, consider techniques like clipping, log transformation,\n",
    "#   or imputing with the mean/median.\n",
    "\n"
   ]
  },
  {
   "cell_type": "code",
   "execution_count": 3,
   "id": "b0fa5ec7-4cf5-4eef-abfa-5a7750fd0c87",
   "metadata": {},
   "outputs": [
    {
     "name": "stdout",
     "output_type": "stream",
     "text": [
      "Loading the Ames Housing dataset...\n",
      "Dataset loaded successfully.\n",
      "------------------------------\n"
     ]
    }
   ],
   "source": [
    "# ---\n",
    "# 2. Load Sample Data\n",
    "# ---\n",
    "print(\"Loading the Ames Housing dataset...\")\n",
    "# We'll use the Ames Housing dataset, which contains various categorical and numerical features.\n",
    "housing = fetch_openml(name=\"house_prices\", as_frame=True)\n",
    "df = housing.frame\n",
    "print(\"Dataset loaded successfully.\")\n",
    "print(\"-\" * 30)\n",
    "\n",
    "\n"
   ]
  },
  {
   "cell_type": "code",
   "execution_count": 4,
   "id": "10deb7ce-8862-494a-89a3-bb14bfbfd9f7",
   "metadata": {},
   "outputs": [
    {
     "name": "stdout",
     "output_type": "stream",
     "text": [
      "Original value counts for the 'MSZoning' feature:\n",
      "MSZoning\n",
      "RL           1151\n",
      "RM            218\n",
      "FV             65\n",
      "RH             16\n",
      "'C (all)'      10\n",
      "Name: count, dtype: int64\n",
      "------------------------------\n"
     ]
    }
   ],
   "source": [
    "# ---\n",
    "# 3. Select a Feature\n",
    "# ---\n",
    "\n",
    "# We will work with the 'MSZoning' feature, which describes the general zoning classification of the sale.\n",
    "# Let's first inspect the frequency of each category.\n",
    "feature_name = 'MSZoning'\n",
    "print(f\"Original value counts for the '{feature_name}' feature:\")\n",
    "print(df[feature_name].value_counts())\n",
    "print(\"-\" * 30)\n",
    "\n",
    "\n"
   ]
  },
  {
   "cell_type": "code",
   "execution_count": 5,
   "id": "7100417d-ee87-4d0f-b2f6-4dd0f44b09f5",
   "metadata": {},
   "outputs": [
    {
     "name": "stdout",
     "output_type": "stream",
     "text": [
      "The mode for 'MSZoning' is: 'RL'\n",
      "Categories identified as outliers (less than 1.0% frequency): [\"'C (all)'\"]\n",
      "------------------------------\n"
     ]
    }
   ],
   "source": [
    "# ---\n",
    "# 4. Identify and Impute Outliers\n",
    "# ---\n",
    "\n",
    "# For categorical data, we can define outliers as categories with a very low frequency.\n",
    "# Let's identify categories that appear in less than 1% of the rows as outliers.\n",
    "\n",
    "# Create a copy of the original column to store the transformed data\n",
    "transformed_feature_name = f\"{feature_name}_mode_imputed\"\n",
    "df[transformed_feature_name] = df[feature_name]\n",
    "\n",
    "# Calculate the mode (most frequent category)\n",
    "mode_value = df[transformed_feature_name].mode()[0]\n",
    "print(f\"The mode for '{feature_name}' is: '{mode_value}'\")\n",
    "\n",
    "# Calculate the frequency of each category\n",
    "value_counts = df[transformed_feature_name].value_counts()\n",
    "total_rows = len(df)\n",
    "\n",
    "# Identify infrequent categories (our \"outliers\")\n",
    "# We'll set a threshold of 1%\n",
    "threshold = 0.01\n",
    "outlier_categories = value_counts[value_counts / total_rows < threshold].index.tolist()\n",
    "\n",
    "print(f\"Categories identified as outliers (less than {threshold*100}% frequency): {outlier_categories}\")\n",
    "print(\"-\" * 30)\n",
    "\n",
    "\n"
   ]
  },
  {
   "cell_type": "code",
   "execution_count": 6,
   "id": "8429d13f-525a-4808-9e5e-fc7665998603",
   "metadata": {},
   "outputs": [],
   "source": [
    "# Create a DataFrame to store the identified outlier rows before we change them\n",
    "outlier_indices = df[transformed_feature_name].isin(outlier_categories)\n",
    "outlier_df = df[outlier_indices].copy()\n",
    "\n",
    "# Add a column to show the original value, which we are treating as the \"outlier score\"\n",
    "outlier_df['outlier_category'] = outlier_df[transformed_feature_name]\n",
    "\n",
    "\n",
    "# Apply mode imputation\n",
    "# We replace the outlier categories with the mode value.\n",
    "df.loc[outlier_indices, transformed_feature_name] = mode_value\n",
    "\n",
    "\n"
   ]
  },
  {
   "cell_type": "code",
   "execution_count": 7,
   "id": "daac7ec7-651c-4f8e-810b-cc676fb78219",
   "metadata": {},
   "outputs": [
    {
     "name": "stdout",
     "output_type": "stream",
     "text": [
      "Head of the DataFrame with the new imputed column:\n",
      "  MSZoning MSZoning_mode_imputed\n",
      "0       RL                    RL\n",
      "1       RL                    RL\n",
      "2       RL                    RL\n",
      "3       RL                    RL\n",
      "4       RL                    RL\n",
      "------------------------------\n",
      "Value counts for 'MSZoning_mode_imputed' after mode imputation:\n",
      "MSZoning_mode_imputed\n",
      "RL    1161\n",
      "RM     218\n",
      "FV      65\n",
      "RH      16\n",
      "Name: count, dtype: int64\n",
      "------------------------------\n",
      "DataFrame containing only the rows identified as outliers (before imputation):\n",
      "      MSZoning outlier_category\n",
      "30   'C (all)'        'C (all)'\n",
      "88   'C (all)'        'C (all)'\n",
      "93   'C (all)'        'C (all)'\n",
      "495  'C (all)'        'C (all)'\n",
      "557  'C (all)'        'C (all)'\n",
      "\n",
      "Total outlier rows found: 10\n",
      "------------------------------\n"
     ]
    }
   ],
   "source": [
    "# ---\n",
    "# 5. Show the Results\n",
    "# ---\n",
    "\n",
    "print(\"Head of the DataFrame with the new imputed column:\")\n",
    "print(df[[feature_name, transformed_feature_name]].head())\n",
    "print(\"-\" * 30)\n",
    "\n",
    "print(f\"Value counts for '{transformed_feature_name}' after mode imputation:\")\n",
    "print(df[transformed_feature_name].value_counts())\n",
    "print(\"-\" * 30)\n",
    "\n",
    "print(\"DataFrame containing only the rows identified as outliers (before imputation):\")\n",
    "# Displaying only the relevant columns for clarity\n",
    "print(outlier_df[[feature_name, 'outlier_category']].head())\n",
    "print(f\"\\nTotal outlier rows found: {len(outlier_df)}\")\n",
    "print(\"-\" * 30)\n",
    "\n",
    "\n"
   ]
  },
  {
   "cell_type": "code",
   "execution_count": 8,
   "id": "e02cfd6c-71e1-46f7-87e2-d6598026c8e2",
   "metadata": {},
   "outputs": [
    {
     "name": "stdout",
     "output_type": "stream",
     "text": [
      "Generating before-and-after visualization...\n"
     ]
    },
    {
     "data": {
      "image/png": "[encoded data removed]",
      "text/plain": [
       "<Figure size 1600x600 with 2 Axes>"
      ]
     },
     "metadata": {},
     "output_type": "display_data"
    },
    {
     "name": "stdout",
     "output_type": "stream",
     "text": [
      "\n",
      "Visualization complete. Notice how the rare categorie 'C (all)' is gone,\n",
      "and their counts have been added to the mode category 'RL'.\n"
     ]
    }
   ],
   "source": [
    "print(\"Generating before-and-after visualization...\")\n",
    "\n",
    "plt.style.use('seaborn-v0_8-whitegrid')\n",
    "fig, axes = plt.subplots(1, 2, figsize=(16, 6), sharey=True)\n",
    "fig.suptitle(f'Effect of Mode Imputation on \"{feature_name}\" Feature', fontsize=16)\n",
    "\n",
    "# Before\n",
    "# Using barplot and explicitly setting 'hue' to prevent FutureWarning\n",
    "counts_before = df[feature_name].value_counts()\n",
    "sns.barplot(ax=axes[0], x=counts_before.index, y=counts_before.values, palette='pastel', hue=counts_before.index, legend=False)\n",
    "axes[0].set_title('Before Imputation')\n",
    "axes[0].set_xlabel('Category')\n",
    "axes[0].set_ylabel('Frequency')\n",
    "axes[0].tick_params(axis='x', rotation=45)\n",
    "\n",
    "# After\n",
    "# Using barplot and explicitly setting 'hue' to prevent FutureWarning\n",
    "counts_after = df[transformed_feature_name].value_counts()\n",
    "sns.barplot(ax=axes[1], x=counts_after.index, y=counts_after.values, palette='pastel', hue=counts_after.index, legend=False)\n",
    "axes[1].set_title('After Imputation')\n",
    "axes[1].set_xlabel('Category')\n",
    "axes[1].set_ylabel('') # Hide y-label for the second plot\n",
    "axes[1].tick_params(axis='x', rotation=45)\n",
    "\n",
    "plt.tight_layout(rect=[0, 0.03, 1, 0.95])\n",
    "plt.show()\n",
    "\n",
    "print(\"\\nVisualization complete. Notice how the rare categorie 'C (all)' is gone,\")\n",
    "print(f\"and their counts have been added to the mode category '{mode_value}'.\")\n"
   ]
  },
  {
   "cell_type": "code",
   "execution_count": null,
   "id": "19ff64cd-a064-4bfe-882a-a027db0ff387",
   "metadata": {},
   "outputs": [],
   "source": []
  }
 ],
 "metadata": {
  "kernelspec": {
   "display_name": "Python 3 (ipykernel)",
   "language": "python",
   "name": "python3"
  },
  "language_info": {
   "codemirror_mode": {
    "name": "ipython",
    "version": 3
   },
   "file_extension": ".py",
   "mimetype": "text/x-python",
   "name": "python",
   "nbconvert_exporter": "python",
   "pygments_lexer": "ipython3",
   "version": "3.11.9"
  }
 },
 "nbformat": 4,
 "nbformat_minor": 5
}
