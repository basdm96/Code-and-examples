{
 "cells": [
  {
   "cell_type": "code",
   "execution_count": 1,
   "id": "402e5ee1-2010-48f9-a8c6-4f65d59bb0a3",
   "metadata": {},
   "outputs": [],
   "source": [
    "import pandas as pd\n",
    "import numpy as np\n",
    "from sklearn.preprocessing import MinMaxScaler\n",
    "from sklearn.model_selection import KFold, cross_val_score\n",
    "from sklearn.ensemble import RandomForestClassifier\n"
   ]
  },
  {
   "cell_type": "code",
   "execution_count": 2,
   "id": "e853975d-517d-433b-bb50-a8af4cfba107",
   "metadata": {},
   "outputs": [],
   "source": [
    "train = pd.read_csv(r\"C:\\Users\\basde\\Downloads\\playground-series-s3e24\\train.csv\")"
   ]
  },
  {
   "cell_type": "code",
   "execution_count": 3,
   "id": "5dc8519e-44cc-46aa-82d5-6725d60b1dca",
   "metadata": {},
   "outputs": [],
   "source": [
    "X = train.drop('smoking', axis=1)\n",
    "y = train['smoking']"
   ]
  },
  {
   "cell_type": "code",
   "execution_count": 4,
   "id": "e5f6ca46-b39a-4b25-ab4e-efd045a7e751",
   "metadata": {},
   "outputs": [],
   "source": [
    "scaler = MinMaxScaler(feature_range=(0, 1))\n",
    "normalized_X = scaler.fit_transform(X)"
   ]
  },
  {
   "cell_type": "code",
   "execution_count": 5,
   "id": "5c580c75-c50f-480d-8c30-0603c512390b",
   "metadata": {},
   "outputs": [],
   "source": [
    "random_forest_model = RandomForestClassifier()"
   ]
  },
  {
   "cell_type": "code",
   "execution_count": 6,
   "id": "70fcf18e-66f9-4d10-9d57-c0b9f52ff3d2",
   "metadata": {},
   "outputs": [],
   "source": [
    "k_folds = KFold(n_splits=5, shuffle=True, random_state=2023)"
   ]
  },
  {
   "cell_type": "code",
   "execution_count": 7,
   "id": "f5d251e2-cbfd-4684-9e8a-0ddb72ee751c",
   "metadata": {},
   "outputs": [],
   "source": [
    "scores = cross_val_score(random_forest_model, normalized_X, y, cv=k_folds, scoring='accuracy')"
   ]
  },
  {
   "cell_type": "code",
   "execution_count": 8,
   "id": "a1a1841a-4773-4369-a703-4dd41661efab",
   "metadata": {},
   "outputs": [
    {
     "name": "stdout",
     "output_type": "stream",
     "text": [
      "Cross-Validation Scores for each fold: [0.77941731 0.77256601 0.77542306 0.7775894  0.77309975]\n",
      "Average CV Score: 0.7756\n",
      "Standard Deviation of CV Scores: 0.0026\n"
     ]
    }
   ],
   "source": [
    "print(\"Cross-Validation Scores for each fold:\", scores)\n",
    "print(f\"Average CV Score: {np.mean(scores):.4f}\")\n",
    "print(f\"Standard Deviation of CV Scores: {np.std(scores):.4f}\")"
   ]
  },
  {
   "cell_type": "code",
   "execution_count": 9,
   "id": "c509b3a7-076a-4df8-9c37-e068dcdf3e38",
   "metadata": {},
   "outputs": [],
   "source": [
    "from sklearn.neighbors import KNeighborsClassifier\n",
    "from sklearn.tree import DecisionTreeClassifier\n",
    "from sklearn.linear_model import LogisticRegression"
   ]
  },
  {
   "cell_type": "code",
   "execution_count": 12,
   "id": "f942f452-3dcf-4e02-9bb3-26046cc08403",
   "metadata": {},
   "outputs": [],
   "source": [
    "dt_model = DecisionTreeClassifier()"
   ]
  },
  {
   "cell_type": "code",
   "execution_count": 13,
   "id": "84e9dda6-bb42-4949-813f-93909f10c11f",
   "metadata": {},
   "outputs": [],
   "source": [
    "scores = cross_val_score(dt_model , normalized_X, y, cv=k_folds, scoring='accuracy')"
   ]
  },
  {
   "cell_type": "code",
   "execution_count": 14,
   "id": "7b3ce1d5-7f4e-40d8-9824-612fb7d5fc9a",
   "metadata": {},
   "outputs": [
    {
     "name": "stdout",
     "output_type": "stream",
     "text": [
      "Cross-Validation Scores for each fold: [0.69314329 0.69300807 0.6960849  0.69445229 0.68902075]\n",
      "Average CV Score: 0.6931\n",
      "Standard Deviation of CV Scores: 0.0023\n"
     ]
    }
   ],
   "source": [
    "print(\"Cross-Validation Scores for each fold:\", scores)\n",
    "print(f\"Average CV Score: {np.mean(scores):.4f}\")\n",
    "print(f\"Standard Deviation of CV Scores: {np.std(scores):.4f}\")"
   ]
  },
  {
   "cell_type": "code",
   "execution_count": 15,
   "id": "24756c77-d6b6-4267-bf45-8d7864575bfa",
   "metadata": {},
   "outputs": [],
   "source": [
    "knn_model = KNeighborsClassifier()"
   ]
  },
  {
   "cell_type": "code",
   "execution_count": 16,
   "id": "d5772125-1159-49b9-ab7a-f5688b95b3a4",
   "metadata": {},
   "outputs": [],
   "source": [
    "scores = cross_val_score(knn_model, normalized_X, y, cv=k_folds, scoring='accuracy')"
   ]
  },
  {
   "cell_type": "code",
   "execution_count": 17,
   "id": "03a02573-4a88-4672-90c9-99a217163d94",
   "metadata": {},
   "outputs": [
    {
     "name": "stdout",
     "output_type": "stream",
     "text": [
      "Cross-Validation Scores for each fold: [0.7192327  0.71212835 0.718282   0.7174657  0.71856457]\n",
      "Average CV Score: 0.7171\n",
      "Standard Deviation of CV Scores: 0.0026\n"
     ]
    }
   ],
   "source": [
    "print(\"Cross-Validation Scores for each fold:\", scores)\n",
    "print(f\"Average CV Score: {np.mean(scores):.4f}\")\n",
    "print(f\"Standard Deviation of CV Scores: {np.std(scores):.4f}\")"
   ]
  },
  {
   "cell_type": "code",
   "execution_count": 18,
   "id": "67f28885-cdfa-4be0-902e-b24d9ffbd2b1",
   "metadata": {},
   "outputs": [],
   "source": [
    "train['BMI'] = train['weight(kg)'] / (train['height(cm)'] / 100)**2\n",
    "train['Chol_LDL'] = (train['LDL'] + train['Cholesterol']) * 2"
   ]
  },
  {
   "cell_type": "code",
   "execution_count": 19,
   "id": "12bf09f3-b577-4a41-b611-ec4af0426fc3",
   "metadata": {},
   "outputs": [],
   "source": [
    "X = train.drop(['smoking','weight(kg)','height(cm)','LDL','Cholesterol','waist(cm)'], axis=1)\n",
    "y = train['smoking']"
   ]
  },
  {
   "cell_type": "code",
   "execution_count": 26,
   "id": "1900eba6-80cf-4d94-a7f8-92a864f8ca23",
   "metadata": {},
   "outputs": [],
   "source": [
    "scaler = MinMaxScaler(feature_range=(0, 1))\n",
    "normalized_X = scaler.fit_transform(X)"
   ]
  },
  {
   "cell_type": "code",
   "execution_count": 27,
   "id": "1eb249d3-0b6b-44be-b610-c686bd00abeb",
   "metadata": {},
   "outputs": [],
   "source": [
    "scores = cross_val_score(random_forest_model, normalized_X, y, cv=k_folds, scoring='accuracy')"
   ]
  },
  {
   "cell_type": "code",
   "execution_count": 28,
   "id": "66aab150-1f74-40bc-9d8f-d86216b98113",
   "metadata": {},
   "outputs": [
    {
     "name": "stdout",
     "output_type": "stream",
     "text": [
      "Cross-Validation Scores for each fold: [0.76889991 0.76528209 0.76782519 0.76867288 0.76669492]\n",
      "Average CV Score: 0.7675\n",
      "Standard Deviation of CV Scores: 0.0013\n"
     ]
    }
   ],
   "source": [
    "print(\"Cross-Validation Scores for each fold:\", scores)\n",
    "print(f\"Average CV Score: {np.mean(scores):.4f}\")\n",
    "print(f\"Standard Deviation of CV Scores: {np.std(scores):.4f}\")"
   ]
  },
  {
   "cell_type": "code",
   "execution_count": 29,
   "id": "d21f95ef-9c6a-45ac-9248-c24c9312742a",
   "metadata": {},
   "outputs": [],
   "source": [
    "scores = cross_val_score(dt_model , normalized_X, y, cv=k_folds, scoring='accuracy')"
   ]
  },
  {
   "cell_type": "code",
   "execution_count": 30,
   "id": "8a98f111-0db6-49f5-a667-32a88ce9d5cc",
   "metadata": {},
   "outputs": [
    {
     "name": "stdout",
     "output_type": "stream",
     "text": [
      "Cross-Validation Scores for each fold: [0.6845724  0.68547298 0.68688581 0.68519042 0.6812345 ]\n",
      "Average CV Score: 0.6847\n",
      "Standard Deviation of CV Scores: 0.0019\n"
     ]
    }
   ],
   "source": [
    "print(\"Cross-Validation Scores for each fold:\", scores)\n",
    "print(f\"Average CV Score: {np.mean(scores):.4f}\")\n",
    "print(f\"Standard Deviation of CV Scores: {np.std(scores):.4f}\")"
   ]
  },
  {
   "cell_type": "code",
   "execution_count": 31,
   "id": "d930e06e-bf48-4176-9868-4745de733f34",
   "metadata": {},
   "outputs": [],
   "source": [
    "scores = cross_val_score(knn_model, normalized_X, y, cv=k_folds, scoring='accuracy')"
   ]
  },
  {
   "cell_type": "code",
   "execution_count": 32,
   "id": "cb692b6f-a2c1-4ae9-8c48-d4da2ad00a0d",
   "metadata": {},
   "outputs": [
    {
     "name": "stdout",
     "output_type": "stream",
     "text": [
      "Cross-Validation Scores for each fold: [0.70730252 0.70258391 0.70139085 0.70559794 0.70252111]\n",
      "Average CV Score: 0.7039\n",
      "Standard Deviation of CV Scores: 0.0022\n"
     ]
    }
   ],
   "source": [
    "print(\"Cross-Validation Scores for each fold:\", scores)\n",
    "print(f\"Average CV Score: {np.mean(scores):.4f}\")\n",
    "print(f\"Standard Deviation of CV Scores: {np.std(scores):.4f}\")"
   ]
  },
  {
   "cell_type": "code",
   "execution_count": null,
   "id": "6baed363-c395-4715-b4a7-9d5616634351",
   "metadata": {},
   "outputs": [],
   "source": []
  },
  {
   "cell_type": "code",
   "execution_count": null,
   "id": "e60ac6af-b479-41b9-bebb-8ce0ed909f62",
   "metadata": {},
   "outputs": [],
   "source": []
  }
 ],
 "metadata": {
  "kernelspec": {
   "display_name": "Python 3 (ipykernel)",
   "language": "python",
   "name": "python3"
  },
  "language_info": {
   "codemirror_mode": {
    "name": "ipython",
    "version": 3
   },
   "file_extension": ".py",
   "mimetype": "text/x-python",
   "name": "python",
   "nbconvert_exporter": "python",
   "pygments_lexer": "ipython3",
   "version": "3.11.9"
  }
 },
 "nbformat": 4,
 "nbformat_minor": 5
}
