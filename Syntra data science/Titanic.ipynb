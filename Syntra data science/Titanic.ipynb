{
 "cells": [
  {
   "cell_type": "code",
   "execution_count": 18,
   "id": "4ec582f7-ed04-4b4f-b8b2-d6541c357d63",
   "metadata": {},
   "outputs": [],
   "source": [
    "import pandas as pd\n",
    "from sklearn.preprocessing import LabelEncoder\n",
    "import xgboost as xgb\n",
    "from sklearn.model_selection import train_test_split\n",
    "from sklearn.metrics import accuracy_score\n",
    "from sklearn.model_selection import GridSearchCV\n",
    "import numpy as np\n",
    "import warnings\n",
    "warnings.filterwarnings(\"ignore\")"
   ]
  },
  {
   "cell_type": "code",
   "execution_count": null,
   "id": "b8038b6a-f103-4c34-b874-ad2923ff8355",
   "metadata": {},
   "outputs": [],
   "source": [
    "https://drive.google.com/drive/folders/1-_6K0X3q8BK-Urlu8na6AN15tzFsWzKR?usp=drive_link"
   ]
  },
  {
   "cell_type": "code",
   "execution_count": 2,
   "id": "59a68530-ac7d-4cbf-bc67-1bac060a0f65",
   "metadata": {},
   "outputs": [],
   "source": [
    "data = pd.read_csv(r\"C:\\Users\\basde\\Downloads\\titanic.csv\", delimiter = \";\")"
   ]
  },
  {
   "cell_type": "code",
   "execution_count": 3,
   "id": "1589d983-9c2a-4bcc-aa42-6d0f0fdb8607",
   "metadata": {},
   "outputs": [],
   "source": [
    "data['Fare'] = data['Fare'].apply(lambda x: x.replace('.', '', x.count('.') - 1))"
   ]
  },
  {
   "cell_type": "code",
   "execution_count": 4,
   "id": "4a7a0334-5e40-4f47-87e5-85623ca71109",
   "metadata": {},
   "outputs": [],
   "source": [
    "data['Fare'] = data['Fare'].astype('float')"
   ]
  },
  {
   "cell_type": "code",
   "execution_count": 5,
   "id": "e8af19d3-5379-4f1e-9e14-351503f6f024",
   "metadata": {},
   "outputs": [],
   "source": [
    "\n",
    "data['Fare'].fillna(data['Fare'].mean(), inplace=True)"
   ]
  },
  {
   "cell_type": "code",
   "execution_count": 6,
   "id": "2cad55b1-5211-4079-a2db-f586ad3fb9aa",
   "metadata": {},
   "outputs": [],
   "source": [
    "import re\n",
    "data['Name'] = data['Name'].apply(lambda x: re.sub(r'[)]∗[^)]*', '', x).strip())\n",
    "data['Name'] = data['Name'].str.replace(r'\"[^\"]*\"', '', regex=True)\n",
    "data['Name'] = data['Name'].str.split('(').str[0]\n",
    "data['LastName'] = data['Name'].str.split(',').str.get(0).str.strip()\n",
    "data['Name'] = data['Name'].str.split(',').str.get(1).str.strip()\n",
    "data['Titel'] = data['Name'].str.split('.').str.get(0).str.strip()\n",
    "data['Name'] = data['Name'].str.split('.').str.get(1).str.strip()\n",
    "data['Titel'].replace({\n",
    "    'Mlle':'Miss',\n",
    "    'Ms':'Miss',\n",
    "    'Mme':'Mrs',\n",
    "    'Col':'Rare',\n",
    "    'Major':'Rare',\n",
    "    'Lady':'Rare',\n",
    "    'Sir':'Rare',\n",
    "    'Don':'Rare',\n",
    "    'Capt':'Rare',\n",
    "    'the Countess':'Rare',\n",
    "    'Jonkheer':'Rare',\n",
    "    'Dona':'Rare'\n",
    "}, inplace=True)\n",
    "data.drop('Name', axis=1, inplace=True)\n",
    "data.drop('LastName', axis=1, inplace=True)"
   ]
  },
  {
   "cell_type": "code",
   "execution_count": 7,
   "id": "68efb6aa-c7e1-4d53-add5-212146a7c4ae",
   "metadata": {},
   "outputs": [],
   "source": [
    "data['Fam_Size'] = data['SibSp'] + data['Parch'] + 1 \n",
    "data['Has_Relatives'] = data.apply(lambda row: True if row['Parch'] > 0 or row['SibSp'] > 0 else False, axis=1)\n",
    "data.drop('Parch', axis=1, inplace=True)\n",
    "data.drop('SibSp', axis=1, inplace=True)"
   ]
  },
  {
   "cell_type": "code",
   "execution_count": 8,
   "id": "ca9de1e6-ba67-495c-b75f-34762fbc8dff",
   "metadata": {},
   "outputs": [],
   "source": [
    "data.drop('Ticket', axis=1, inplace=True)"
   ]
  },
  {
   "cell_type": "code",
   "execution_count": 9,
   "id": "c0983faf-8b34-4619-b71e-1e324be8ff7d",
   "metadata": {},
   "outputs": [
    {
     "data": {
      "text/plain": [
       "0      G\n",
       "1      C\n",
       "2      G\n",
       "3      C\n",
       "4      G\n",
       "      ..\n",
       "886    G\n",
       "887    B\n",
       "888    F\n",
       "889    C\n",
       "890    G\n",
       "Name: Deck, Length: 891, dtype: object"
      ]
     },
     "execution_count": 9,
     "metadata": {},
     "output_type": "execute_result"
    }
   ],
   "source": [
    "data['Deck'] = data['Cabin'].astype(str).str[0]\n",
    "\n",
    "def cabin_estimator(i):\n",
    "    \"\"\"Grouping Deck feature by the first letter via Fare\"\"\"\n",
    "    a = 0\n",
    "    if i<16:\n",
    "        a = \"G\"\n",
    "    elif i>=16 and i<27:\n",
    "        a = \"F\"\n",
    "    elif i>=27 and i<38:\n",
    "        a = \"T\"\n",
    "    elif i>=38 and i<47:\n",
    "        a = \"A\"\n",
    "    elif i>= 47 and i<53:\n",
    "        a = \"E\"\n",
    "    elif i>= 53 and i<54:\n",
    "        a = \"D\"\n",
    "    elif i>=54 and i<116:\n",
    "        a = 'C'\n",
    "    else:\n",
    "        a = \"B\"\n",
    "    return a\n",
    "with_N = data[data['Deck'] == \"n\"]\n",
    "without_N = data[data['Deck'] != \"n\"]\n",
    "with_N['Fare'] = pd.to_numeric(with_N['Fare'], errors='coerce')\n",
    "with_N['Deck'] = with_N.Fare.apply(lambda x: cabin_estimator(x))\n",
    "##applying cabin estimator function. \n",
    "concatenated_df = pd.concat([with_N, without_N], axis=0)\n",
    "concatenated_df.sort_index(inplace=True)\n",
    "## getting back Cabin. \n",
    "data['Deck'] = concatenated_df['Deck']\n",
    "data['Deck']"
   ]
  },
  {
   "cell_type": "code",
   "execution_count": 10,
   "id": "543dde76-9742-44f7-a8d7-130fa17f7758",
   "metadata": {},
   "outputs": [],
   "source": [
    "data['Fare'] = pd.qcut(data['Fare'], q=6, labels=['1','2','3','4','5','6'])"
   ]
  },
  {
   "cell_type": "code",
   "execution_count": 11,
   "id": "058b60a2-d21d-4274-946e-eb9c72d6be19",
   "metadata": {},
   "outputs": [
    {
     "data": {
      "text/plain": [
       "Deck\n",
       "G    298\n",
       "C    219\n",
       "B    128\n",
       "F    112\n",
       "T     40\n",
       "E     35\n",
       "D     33\n",
       "A     26\n",
       "Name: count, dtype: int64"
      ]
     },
     "execution_count": 11,
     "metadata": {},
     "output_type": "execute_result"
    }
   ],
   "source": [
    "data['Deck'].value_counts()\n"
   ]
  },
  {
   "cell_type": "code",
   "execution_count": 12,
   "id": "e39f7878-858e-45c5-99e2-ac6d747f5218",
   "metadata": {},
   "outputs": [],
   "source": [
    "data.drop('Embarked', axis=1, inplace=True)\n",
    "data.drop('Cabin', axis=1, inplace=True)\n",
    "data.drop('Fam_Size', axis=1, inplace=True)"
   ]
  },
  {
   "cell_type": "code",
   "execution_count": 13,
   "id": "371d7438-6c93-40d4-ac40-888b787d48ae",
   "metadata": {},
   "outputs": [],
   "source": [
    "data['Age'] = data.groupby(['Titel'])['Age'].transform(lambda x: x.fillna(x.median()))\n",
    "# hier vul ik de missende leeftijden volgens het gemiddelde per titel"
   ]
  },
  {
   "cell_type": "code",
   "execution_count": 14,
   "id": "dee61400-c506-4686-8704-f18a3d21512b",
   "metadata": {},
   "outputs": [],
   "source": [
    "data['Age'] = pd.cut(data['Age'], bins=[0, 15, 29, 60, 100] , labels= [0, 1, 2, 3], right=True)"
   ]
  },
  {
   "cell_type": "code",
   "execution_count": 15,
   "id": "2d9a20e7-3043-4b50-8db5-2ed275bdcf22",
   "metadata": {},
   "outputs": [],
   "source": [
    "data['Has_Relatives'] = data['Has_Relatives'].replace({True: 1, False: 0})"
   ]
  },
  {
   "cell_type": "code",
   "execution_count": 21,
   "id": "2b738d85-be87-4d69-b8b4-02c3245bbd03",
   "metadata": {},
   "outputs": [],
   "source": [
    "le = LabelEncoder()\n",
    "data['Titel'] = le.fit_transform(data['Titel'])\n",
    "data['Deck'] = le.fit_transform(data['Deck'])"
   ]
  },
  {
   "cell_type": "code",
   "execution_count": null,
   "id": "5826dc65-bdad-41cc-87d5-42f2fb7bf002",
   "metadata": {},
   "outputs": [],
   "source": []
  },
  {
   "cell_type": "code",
   "execution_count": 22,
   "id": "296860f3-d2b0-4935-a43d-29094625c1d0",
   "metadata": {},
   "outputs": [
    {
     "data": {
      "text/html": [
       "<div>\n",
       "<style scoped>\n",
       "    .dataframe tbody tr th:only-of-type {\n",
       "        vertical-align: middle;\n",
       "    }\n",
       "\n",
       "    .dataframe tbody tr th {\n",
       "        vertical-align: top;\n",
       "    }\n",
       "\n",
       "    .dataframe thead th {\n",
       "        text-align: right;\n",
       "    }\n",
       "</style>\n",
       "<table border=\"1\" class=\"dataframe\">\n",
       "  <thead>\n",
       "    <tr style=\"text-align: right;\">\n",
       "      <th></th>\n",
       "      <th>PassengerId</th>\n",
       "      <th>Survived</th>\n",
       "      <th>Pclass</th>\n",
       "      <th>Sex</th>\n",
       "      <th>Age</th>\n",
       "      <th>Fare</th>\n",
       "      <th>Titel</th>\n",
       "      <th>Has_Relatives</th>\n",
       "      <th>Deck</th>\n",
       "    </tr>\n",
       "  </thead>\n",
       "  <tbody>\n",
       "    <tr>\n",
       "      <th>0</th>\n",
       "      <td>1</td>\n",
       "      <td>0</td>\n",
       "      <td>3</td>\n",
       "      <td>1</td>\n",
       "      <td>1</td>\n",
       "      <td>1</td>\n",
       "      <td>3</td>\n",
       "      <td>1</td>\n",
       "      <td>6</td>\n",
       "    </tr>\n",
       "    <tr>\n",
       "      <th>1</th>\n",
       "      <td>2</td>\n",
       "      <td>1</td>\n",
       "      <td>1</td>\n",
       "      <td>0</td>\n",
       "      <td>2</td>\n",
       "      <td>6</td>\n",
       "      <td>4</td>\n",
       "      <td>1</td>\n",
       "      <td>2</td>\n",
       "    </tr>\n",
       "    <tr>\n",
       "      <th>2</th>\n",
       "      <td>3</td>\n",
       "      <td>1</td>\n",
       "      <td>3</td>\n",
       "      <td>0</td>\n",
       "      <td>1</td>\n",
       "      <td>1</td>\n",
       "      <td>2</td>\n",
       "      <td>0</td>\n",
       "      <td>6</td>\n",
       "    </tr>\n",
       "    <tr>\n",
       "      <th>3</th>\n",
       "      <td>4</td>\n",
       "      <td>1</td>\n",
       "      <td>1</td>\n",
       "      <td>0</td>\n",
       "      <td>2</td>\n",
       "      <td>4</td>\n",
       "      <td>4</td>\n",
       "      <td>1</td>\n",
       "      <td>2</td>\n",
       "    </tr>\n",
       "    <tr>\n",
       "      <th>4</th>\n",
       "      <td>5</td>\n",
       "      <td>0</td>\n",
       "      <td>3</td>\n",
       "      <td>1</td>\n",
       "      <td>2</td>\n",
       "      <td>1</td>\n",
       "      <td>3</td>\n",
       "      <td>0</td>\n",
       "      <td>6</td>\n",
       "    </tr>\n",
       "    <tr>\n",
       "      <th>...</th>\n",
       "      <td>...</td>\n",
       "      <td>...</td>\n",
       "      <td>...</td>\n",
       "      <td>...</td>\n",
       "      <td>...</td>\n",
       "      <td>...</td>\n",
       "      <td>...</td>\n",
       "      <td>...</td>\n",
       "      <td>...</td>\n",
       "    </tr>\n",
       "    <tr>\n",
       "      <th>886</th>\n",
       "      <td>887</td>\n",
       "      <td>0</td>\n",
       "      <td>2</td>\n",
       "      <td>1</td>\n",
       "      <td>1</td>\n",
       "      <td>2</td>\n",
       "      <td>6</td>\n",
       "      <td>0</td>\n",
       "      <td>6</td>\n",
       "    </tr>\n",
       "    <tr>\n",
       "      <th>887</th>\n",
       "      <td>888</td>\n",
       "      <td>1</td>\n",
       "      <td>1</td>\n",
       "      <td>0</td>\n",
       "      <td>1</td>\n",
       "      <td>4</td>\n",
       "      <td>2</td>\n",
       "      <td>0</td>\n",
       "      <td>1</td>\n",
       "    </tr>\n",
       "    <tr>\n",
       "      <th>888</th>\n",
       "      <td>889</td>\n",
       "      <td>0</td>\n",
       "      <td>3</td>\n",
       "      <td>0</td>\n",
       "      <td>1</td>\n",
       "      <td>3</td>\n",
       "      <td>2</td>\n",
       "      <td>1</td>\n",
       "      <td>5</td>\n",
       "    </tr>\n",
       "    <tr>\n",
       "      <th>889</th>\n",
       "      <td>890</td>\n",
       "      <td>1</td>\n",
       "      <td>1</td>\n",
       "      <td>1</td>\n",
       "      <td>1</td>\n",
       "      <td>4</td>\n",
       "      <td>3</td>\n",
       "      <td>0</td>\n",
       "      <td>2</td>\n",
       "    </tr>\n",
       "    <tr>\n",
       "      <th>890</th>\n",
       "      <td>891</td>\n",
       "      <td>0</td>\n",
       "      <td>3</td>\n",
       "      <td>1</td>\n",
       "      <td>2</td>\n",
       "      <td>1</td>\n",
       "      <td>3</td>\n",
       "      <td>0</td>\n",
       "      <td>6</td>\n",
       "    </tr>\n",
       "  </tbody>\n",
       "</table>\n",
       "<p>891 rows × 9 columns</p>\n",
       "</div>"
      ],
      "text/plain": [
       "     PassengerId  Survived  Pclass  Sex Age Fare  Titel  Has_Relatives  Deck\n",
       "0              1         0       3    1   1    1      3              1     6\n",
       "1              2         1       1    0   2    6      4              1     2\n",
       "2              3         1       3    0   1    1      2              0     6\n",
       "3              4         1       1    0   2    4      4              1     2\n",
       "4              5         0       3    1   2    1      3              0     6\n",
       "..           ...       ...     ...  ...  ..  ...    ...            ...   ...\n",
       "886          887         0       2    1   1    2      6              0     6\n",
       "887          888         1       1    0   1    4      2              0     1\n",
       "888          889         0       3    0   1    3      2              1     5\n",
       "889          890         1       1    1   1    4      3              0     2\n",
       "890          891         0       3    1   2    1      3              0     6\n",
       "\n",
       "[891 rows x 9 columns]"
      ]
     },
     "execution_count": 22,
     "metadata": {},
     "output_type": "execute_result"
    }
   ],
   "source": [
    "data"
   ]
  },
  {
   "cell_type": "code",
   "execution_count": null,
   "id": "e7346816-ad99-4840-a0b2-a3ef364fa924",
   "metadata": {},
   "outputs": [],
   "source": []
  }
 ],
 "metadata": {
  "kernelspec": {
   "display_name": "Python 3 (ipykernel)",
   "language": "python",
   "name": "python3"
  },
  "language_info": {
   "codemirror_mode": {
    "name": "ipython",
    "version": 3
   },
   "file_extension": ".py",
   "mimetype": "text/x-python",
   "name": "python",
   "nbconvert_exporter": "python",
   "pygments_lexer": "ipython3",
   "version": "3.11.9"
  }
 },
 "nbformat": 4,
 "nbformat_minor": 5
}
