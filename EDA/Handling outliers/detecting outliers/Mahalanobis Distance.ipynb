{
 "cells": [
  {
   "cell_type": "code",
   "execution_count": 1,
   "id": "b0b6ca08-640e-4e9d-9fc6-c88ac2430ed3",
   "metadata": {},
   "outputs": [],
   "source": [
    "import numpy as np\n",
    "import pandas as pd\n",
    "from sklearn.datasets import fetch_california_housing\n",
    "from scipy.spatial.distance import mahalanobis\n",
    "from scipy.stats import chi2\n",
    "\n",
    "# --- Mahalanobis Distance Method for Outlier Detection ---\n",
    "\n",
    "# When to use this method:\n",
    "# - For multivariate data where features are correlated.\n",
    "# - When outliers are unusual combinations of values.\n",
    "# - When the data is roughly elliptically distributed.\n",
    "\n"
   ]
  },
  {
   "cell_type": "code",
   "execution_count": 2,
   "id": "0010056d-08be-459a-af14-ade193b16d5e",
   "metadata": {},
   "outputs": [],
   "source": [
    "# 1. Load the dataset\n",
    "housing = fetch_california_housing()\n",
    "df = pd.DataFrame(housing.data, columns=housing.feature_names)\n",
    "\n",
    "# We'll use a subset of features to demonstrate.\n",
    "# This method shines when features are correlated.\n",
    "features = ['MedInc', 'HouseAge', 'AveRooms', 'AveOccup']\n",
    "data = df[features]\n",
    "\n"
   ]
  },
  {
   "cell_type": "code",
   "execution_count": 3,
   "id": "12792ffb-af9d-4727-9e07-dbfbcba028ce",
   "metadata": {},
   "outputs": [],
   "source": [
    "# 2. Calculate the Mahalanobis Distance\n",
    "# First, calculate the mean and inverse covariance matrix\n",
    "mean = data.mean().values\n",
    "cov = data.cov().values\n",
    "inv_cov_matrix = np.linalg.inv(cov)\n",
    "\n",
    "# Calculate Mahalanobis distance for each data point\n",
    "mahal_distances = []\n",
    "for i in range(len(data)):\n",
    "    dist = mahalanobis(data.iloc[i], mean, inv_cov_matrix)\n",
    "    mahal_distances.append(dist)\n",
    "\n",
    "df['Mahalanobis_Distance'] = mahal_distances\n",
    "\n"
   ]
  },
  {
   "cell_type": "code",
   "execution_count": 4,
   "id": "e618d207-7aaf-442a-aa10-1f8bd5667447",
   "metadata": {},
   "outputs": [],
   "source": [
    "# 3. Determine the outlier threshold\n",
    "# The squared Mahalanobis distance follows a Chi-squared distribution\n",
    "# with degrees of freedom equal to the number of variables (p).\n",
    "p = len(features) # Number of features\n",
    "alpha = 0.02 # Significance level (e.g., 1% of data as outliers)\n",
    "threshold = chi2.ppf(1 - alpha, df=p)\n",
    "\n",
    "\n"
   ]
  },
  {
   "cell_type": "code",
   "execution_count": 5,
   "id": "4ae1a60a-7a21-4a6a-846f-758ddc4feece",
   "metadata": {},
   "outputs": [],
   "source": [
    "# 4. Identify outliers\n",
    "outlier_indices = np.where(df['Mahalanobis_Distance'] > threshold)[0]\n",
    "\n",
    "\n"
   ]
  },
  {
   "cell_type": "code",
   "execution_count": 6,
   "id": "4bf7539a-c52c-47d0-bf01-e72f8485583f",
   "metadata": {},
   "outputs": [],
   "source": [
    "# 5. Create a new DataFrame containing only the outliers\n",
    "outliers_df = df.loc[outlier_indices].copy()\n",
    "\n",
    "\n"
   ]
  },
  {
   "cell_type": "code",
   "execution_count": 7,
   "id": "31934ee3-b317-4288-a5e5-87d5b8e20d79",
   "metadata": {},
   "outputs": [
    {
     "name": "stdout",
     "output_type": "stream",
     "text": [
      "Analyzing features: ['MedInc', 'HouseAge', 'AveRooms', 'AveOccup']\n",
      "Chi-squared threshold (p=4, alpha=0.02): 11.6678\n",
      "------------------------------\n",
      "Found 26 outliers.\n",
      "\n",
      "DataFrame containing the identified outliers (first 5 rows):\n",
      "      MedInc  HouseAge   AveRooms  AveOccup  Mahalanobis_Distance\n",
      "1239  3.0750      13.0  33.989691  2.752577             12.368836\n",
      "1240  3.1250      11.0  47.515152  2.484848             18.155487\n",
      "1872  2.4917      27.0  38.840909  2.204545             14.642641\n",
      "1912  4.9750      16.0  56.269231  2.076923             21.616693\n",
      "1913  4.0714      19.0  61.812500  2.333333             24.177527\n"
     ]
    }
   ],
   "source": [
    "# --- 6. Display Results ---\n",
    "print(f\"Analyzing features: {features}\")\n",
    "print(f\"Chi-squared threshold (p={p}, alpha={alpha}): {threshold:.4f}\")\n",
    "print(\"-\" * 30)\n",
    "print(f\"Found {len(outliers_df)} outliers.\")\n",
    "print(\"\\nDataFrame containing the identified outliers (first 5 rows):\")\n",
    "# We display the selected features plus the calculated distance\n",
    "print(outliers_df[features + ['Mahalanobis_Distance']].head())\n",
    "\n",
    "\n",
    "# Example of what the output will look like:\n",
    "# Analyzing features: ['MedInc', 'HouseAge', 'AveRooms', 'AveOccup']\n",
    "# Chi-squared threshold (p=4, alpha=0.01): 13.2767\n",
    "# ------------------------------\n",
    "# Found 244 outliers.\n",
    "#\n",
    "# DataFrame containing the identified outliers (first 5 rows):\n",
    "#        MedInc  HouseAge   AveRooms    AveOccup  Mahalanobis_Distance\n",
    "# 1914   1.8333      23.0  14.619048    2.285714              4.062013\n",
    "# 1979   4.5000      16.0  25.363636    3.090909              6.046313\n",
    "# 2011   1.6250      16.0  28.000000    2.800000              7.124614\n",
    "# 2799   2.5357      35.0  41.923077    2.153846             10.638531\n",
    "# 3033  15.0001      25.0  15.818182    3.045455              4.288283"
   ]
  },
  {
   "cell_type": "code",
   "execution_count": null,
   "id": "cdef86de-70f0-4c48-88ab-d8dbb79ccc9a",
   "metadata": {},
   "outputs": [],
   "source": []
  }
 ],
 "metadata": {
  "kernelspec": {
   "display_name": "Python 3 (ipykernel)",
   "language": "python",
   "name": "python3"
  },
  "language_info": {
   "codemirror_mode": {
    "name": "ipython",
    "version": 3
   },
   "file_extension": ".py",
   "mimetype": "text/x-python",
   "name": "python",
   "nbconvert_exporter": "python",
   "pygments_lexer": "ipython3",
   "version": "3.11.9"
  }
 },
 "nbformat": 4,
 "nbformat_minor": 5
}
