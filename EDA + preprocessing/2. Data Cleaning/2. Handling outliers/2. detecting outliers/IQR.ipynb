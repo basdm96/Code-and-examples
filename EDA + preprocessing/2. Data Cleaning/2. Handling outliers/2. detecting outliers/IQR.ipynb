{
 "cells": [
  {
   "cell_type": "code",
   "execution_count": 1,
   "id": "23738f84-720a-4e68-a694-05cd83d4b819",
   "metadata": {},
   "outputs": [],
   "source": [
    "import numpy as np\n",
    "import pandas as pd\n",
    "from sklearn.datasets import fetch_california_housing\n",
    "\n"
   ]
  },
  {
   "cell_type": "code",
   "execution_count": 2,
   "id": "e8b14ab9-91ed-4a79-9f9b-4849cf17895b",
   "metadata": {},
   "outputs": [],
   "source": [
    "# --- IQR (Interquartile Range) Method for Outlier Detection ---\n",
    "\n",
    "# When to use this method:\n",
    "# - When the data is skewed (not normally distributed).\n",
    "# - When you need a method that is robust to extreme outliers.\n",
    "# - It's the basis for outlier detection in standard box plots.\n"
   ]
  },
  {
   "cell_type": "code",
   "execution_count": 3,
   "id": "62a3cfe4-bd59-4d91-8f25-e19c84241828",
   "metadata": {},
   "outputs": [],
   "source": [
    "# 1. We'll use the California Housing dataset for this example.\n",
    "housing = fetch_california_housing()\n",
    "df = pd.DataFrame(housing.data, columns=housing.feature_names)\n",
    "\n",
    "# We will analyze the 'MedInc' (Median Income) feature for outliers.\n",
    "data = df['MedInc'].values\n"
   ]
  },
  {
   "cell_type": "code",
   "execution_count": 4,
   "id": "5f36351e-dccd-421a-ba3d-fcf099853c94",
   "metadata": {},
   "outputs": [],
   "source": [
    "# 2. Calculate Q1, Q3, and the Interquartile Range (IQR)\n",
    "Q1 = np.percentile(data, 25)\n",
    "Q3 = np.percentile(data, 75)\n",
    "IQR = Q3 - Q1\n",
    "\n"
   ]
  },
  {
   "cell_type": "code",
   "execution_count": 5,
   "id": "83c4bd04-5355-4079-8aab-1167d2ac8fdc",
   "metadata": {},
   "outputs": [],
   "source": [
    "# 3. Define the outlier bounds\n",
    "# The 1.5 factor is a standard convention.\n",
    "lower_bound = Q1 - 1.5 * IQR\n",
    "upper_bound = Q3 + 1.5 * IQR\n",
    "\n"
   ]
  },
  {
   "cell_type": "code",
   "execution_count": 6,
   "id": "fec408a6-a732-4ddd-9e9f-4d5eeeafd607",
   "metadata": {},
   "outputs": [],
   "source": [
    "# 4. Identify outliers\n",
    "# Find indices of data points that are outside the lower and upper bounds.\n",
    "outlier_indices = np.where((data < lower_bound) | (data > upper_bound))[0]\n",
    "\n"
   ]
  },
  {
   "cell_type": "code",
   "execution_count": 7,
   "id": "df6ce20a-7d34-4457-89a5-c5bbb064c01e",
   "metadata": {},
   "outputs": [],
   "source": [
    "# 5. Create a new DataFrame containing only the outliers\n",
    "# We use .loc to select rows from the original DataFrame based on the outlier indices.\n",
    "outliers_df = df.loc[outlier_indices].copy()\n",
    "\n",
    "# Add a column to specify if the outlier is high or low for context\n",
    "outliers_df['Outlier_Type'] = np.where(outliers_df['MedInc'] > upper_bound, 'High', 'Low')\n",
    "\n",
    "\n"
   ]
  },
  {
   "cell_type": "code",
   "execution_count": 8,
   "id": "983fc0fa-9512-4390-96b2-095c253a10b1",
   "metadata": {},
   "outputs": [
    {
     "name": "stdout",
     "output_type": "stream",
     "text": [
      "Analyzing feature: 'MedInc' from California Housing dataset using IQR Method\n",
      "Q1: 2.5634, Q3: 4.7432, IQR: 2.1799\n",
      "Lower Bound for Outliers: -0.7064\n",
      "Upper Bound for Outliers: 8.0130\n",
      "------------------------------\n",
      "Found 681 outliers.\n",
      "\n",
      "DataFrame containing the identified outliers (first 5 rows):\n",
      "      MedInc  HouseAge  AveRooms  AveBedrms  Population  AveOccup  Latitude  \\\n",
      "0     8.3252      41.0  6.984127   1.023810       322.0  2.555556     37.88   \n",
      "1     8.3014      21.0  6.238137   0.971880      2401.0  2.109842     37.86   \n",
      "131  11.6017      18.0  8.335052   1.082474       533.0  2.747423     37.84   \n",
      "134   8.2049      28.0  6.978947   0.968421       463.0  2.436842     37.83   \n",
      "135   8.4010      26.0  7.530806   1.056872       542.0  2.568720     37.83   \n",
      "\n",
      "     Longitude Outlier_Type  \n",
      "0      -122.23         High  \n",
      "1      -122.22         High  \n",
      "131    -122.19         High  \n",
      "134    -122.19         High  \n",
      "135    -122.20         High  \n"
     ]
    }
   ],
   "source": [
    "# --- Display Results ---\n",
    "print(f\"Analyzing feature: 'MedInc' from California Housing dataset using IQR Method\")\n",
    "print(f\"Q1: {Q1:.4f}, Q3: {Q3:.4f}, IQR: {IQR:.4f}\")\n",
    "print(f\"Lower Bound for Outliers: {lower_bound:.4f}\")\n",
    "print(f\"Upper Bound for Outliers: {upper_bound:.4f}\")\n",
    "print(\"-\" * 30)\n",
    "print(f\"Found {len(outliers_df)} outliers.\")\n",
    "print(\"\\nDataFrame containing the identified outliers (first 5 rows):\")\n",
    "print(outliers_df.head())\n",
    "\n",
    "# Example of what the output will look like:\n",
    "# Analyzing feature: 'MedInc' from California Housing dataset using IQR Method\n",
    "# Q1: 2.5634, Q3: 4.7432, IQR: 2.1798\n",
    "# Lower Bound for Outliers: -0.7064\n",
    "# Upper Bound for Outliers: 8.0129\n",
    "# ------------------------------\n",
    "# Found 697 outliers.\n",
    "#\n",
    "# DataFrame containing the identified outliers (first 5 rows):\n",
    "#      MedInc  HouseAge  AveRooms  AveBedrms  Population  AveOccup  Latitude  Longitude Outlier_Type\n",
    "# 9   15.0001      52.0  8.288136   1.076271       592.0  2.508475     37.85    -122.25         High\n",
    "# 10  15.0001      52.0  8.288136   1.076271       592.0  2.508475     37.85    -122.25         High\n",
    "# 11  15.0001      52.0  8.288136   1.076271       592.0  2.508475     37.85    -122.25         High\n",
    "# 12  15.0001      52.0  8.288136   1.076271       592.0  2.508475     37.85    -122.25         High\n",
    "# 13  15.0001      52.0  8.288136   1.076271       592.0  2.508475     37.85    -122.25         High"
   ]
  },
  {
   "cell_type": "code",
   "execution_count": 9,
   "id": "c1ec2181-b7d9-4b20-910d-7a1085079db1",
   "metadata": {},
   "outputs": [
    {
     "data": {
      "text/plain": [
       "count      681\n",
       "unique       1\n",
       "top       High\n",
       "freq       681\n",
       "Name: Outlier_Type, dtype: object"
      ]
     },
     "execution_count": 9,
     "metadata": {},
     "output_type": "execute_result"
    }
   ],
   "source": [
    "outliers_df['Outlier_Type'].describe()"
   ]
  },
  {
   "cell_type": "code",
   "execution_count": null,
   "id": "f2fef4eb-8e5b-4204-9ec1-a9cb5ab17dfe",
   "metadata": {},
   "outputs": [],
   "source": []
  },
  {
   "cell_type": "code",
   "execution_count": null,
   "id": "aaa3e952-beb9-4466-b9db-82045141ae44",
   "metadata": {},
   "outputs": [],
   "source": []
  }
 ],
 "metadata": {
  "kernelspec": {
   "display_name": "Python 3 (ipykernel)",
   "language": "python",
   "name": "python3"
  },
  "language_info": {
   "codemirror_mode": {
    "name": "ipython",
    "version": 3
   },
   "file_extension": ".py",
   "mimetype": "text/x-python",
   "name": "python",
   "nbconvert_exporter": "python",
   "pygments_lexer": "ipython3",
   "version": "3.11.9"
  }
 },
 "nbformat": 4,
 "nbformat_minor": 5
}
