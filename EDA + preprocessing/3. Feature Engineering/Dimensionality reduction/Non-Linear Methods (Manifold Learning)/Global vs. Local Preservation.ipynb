{
 "cells": [
  {
   "cell_type": "code",
   "execution_count": null,
   "id": "b5c91ba4-5dca-4c0d-9a5d-132b398ac3ce",
   "metadata": {},
   "outputs": [],
   "source": [
    "# Global vs. Local Preservation\n",
    "# The fundamental difference between the two methods lies in what they try to preserve:\n",
    "\n",
    "# Isomap's Goal: Preserve Global Distances 🌍\n",
    "# Isomap first calculates the shortest path between all pairs of points along the surface of the data manifold (the geodesic distance). It then creates a low-dimensional embedding that tries to maintain these global distances. This is why it's so good at unrolling a Swiss Roll into a clean rectangle—it understands the global geometry.\n",
    "\n",
    "\n",
    "# LLE's Goal: Preserve Local Neighborhoods 🏘️\n",
    "# LLE, on the other hand, doesn't care about the distance between a point on one end of the Swiss Roll and a point on the other. It only cares about a point's immediate neighbors. It assumes that in a small enough patch, the data is linear. Its only goal is to make sure that the local \"constellations\" of points look the same in the low-dimensional space.\n",
    "\n",
    "# When is LLE Better for Feature Extraction?\n",
    "# While Isomap's global view is great for visualization, LLE's local focus makes it more suitable in certain scenarios:\n",
    "\n",
    "# Computational Efficiency: Isomap's need to calculate the shortest path between all pairs of points is computationally very expensive, especially with large datasets. LLE only needs to look at local neighborhoods, making it significantly faster and more scalable. 🚀\n",
    "\n",
    "# Focus on Local Structure: In many machine learning problems, the most important information is contained in the local structure of the data. For example, in image recognition, the subtle differences between handwritten \"7s\" and \"1s\" are local phenomena. LLE is specifically designed to preserve these local relationships, which can lead to more discriminative features for a classifier.\n",
    "\n",
    "# Less Sensitive to \"Holes\": Because Isomap relies on finding paths across the entire dataset, it can fail or produce strange results if the data manifold has holes or is non-convex. LLE, by only considering local patches, can often handle these kinds of complex topologies more gracefully.\n",
    "\n",
    "# Think of it this way: Isomap is like creating a large, accurate world map, which is great for understanding continents. LLE is like creating a set of highly detailed city maps; it may not show you how the cities relate globally, but it gives you much better information for navigating within each city. For tasks like classification, navigating the local neighborhood is often what matters most."
   ]
  }
 ],
 "metadata": {
  "kernelspec": {
   "display_name": "Python 3 (ipykernel)",
   "language": "python",
   "name": "python3"
  },
  "language_info": {
   "codemirror_mode": {
    "name": "ipython",
    "version": 3
   },
   "file_extension": ".py",
   "mimetype": "text/x-python",
   "name": "python",
   "nbconvert_exporter": "python",
   "pygments_lexer": "ipython3",
   "version": "3.11.9"
  }
 },
 "nbformat": 4,
 "nbformat_minor": 5
}
