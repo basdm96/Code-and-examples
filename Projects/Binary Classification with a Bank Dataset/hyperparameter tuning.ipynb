{
 "cells": [
  {
   "cell_type": "code",
   "execution_count": 1,
   "id": "68491c94-3ead-4fb2-9e48-d277b66d6a51",
   "metadata": {},
   "outputs": [],
   "source": [
    "import pandas as pd\n",
    "import numpy as np\n",
    "import lightgbm as lgb\n",
    "import optuna\n",
    "from sklearn.model_selection import StratifiedKFold\n",
    "from sklearn.preprocessing import LabelEncoder\n",
    "optuna.logging.set_verbosity(optuna.logging.INFO)"
   ]
  },
  {
   "cell_type": "code",
   "execution_count": 2,
   "id": "6933996a-506f-4924-b39d-90d084333036",
   "metadata": {},
   "outputs": [],
   "source": [
    "dft = pd.read_csv(r\"C:\\Users\\basde\\Documents\\GitHub\\Code-and-examples\\Projects\\Binary Classification with a Bank Dataset\\train.csv\")\n",
    "dfo = pd.read_csv(r\"C:\\Users\\basde\\Documents\\GitHub\\Code-and-examples\\Projects\\Binary Classification with a Bank Dataset\\bank-full.csv\", delimiter=';')\n",
    "\n",
    "dfo['y'] = dfo['y'].map({'no' : 0, 'yes': 1})\n",
    "df = pd.concat([dft, dfo])\n",
    "y = df['y']\n",
    "df = df.drop('y', axis=1)\n",
    "df = df.drop(['id'], axis=1)\n",
    "df['feature'] = df['duration'] * df['campaign'] * df['pdays']"
   ]
  },
  {
   "cell_type": "code",
   "execution_count": 16,
   "id": "18c38bac-4981-4dd9-82f6-b9fcac517623",
   "metadata": {},
   "outputs": [],
   "source": [
    "test = pd.read_csv(r\"C:\\Users\\basde\\Documents\\GitHub\\Code-and-examples\\Projects\\Binary Classification with a Bank Dataset/test.csv\")\n",
    "testf = test.drop(['id'], axis=1)\n",
    "testf['feature'] = testf['duration'] * testf['campaign'] * testf['pdays']"
   ]
  },
  {
   "cell_type": "code",
   "execution_count": 17,
   "id": "adc7b7a8-b605-41c6-be01-6612ad1ea030",
   "metadata": {},
   "outputs": [],
   "source": [
    "for col in categorical_features:\n",
    "    test[col] = test[col].astype('category')"
   ]
  },
  {
   "cell_type": "code",
   "execution_count": 14,
   "id": "b7e53df4-ad49-42bf-80e3-2e7e1c71c908",
   "metadata": {},
   "outputs": [
    {
     "name": "stdout",
     "output_type": "stream",
     "text": [
      "<class 'pandas.core.frame.DataFrame'>\n",
      "RangeIndex: 250000 entries, 0 to 249999\n",
      "Data columns (total 17 columns):\n",
      " #   Column     Non-Null Count   Dtype   \n",
      "---  ------     --------------   -----   \n",
      " 0   age        250000 non-null  int64   \n",
      " 1   job        250000 non-null  category\n",
      " 2   marital    250000 non-null  category\n",
      " 3   education  250000 non-null  category\n",
      " 4   default    250000 non-null  category\n",
      " 5   balance    250000 non-null  int64   \n",
      " 6   housing    250000 non-null  category\n",
      " 7   loan       250000 non-null  category\n",
      " 8   contact    250000 non-null  category\n",
      " 9   day        250000 non-null  int64   \n",
      " 10  month      250000 non-null  category\n",
      " 11  duration   250000 non-null  int64   \n",
      " 12  campaign   250000 non-null  int64   \n",
      " 13  pdays      250000 non-null  int64   \n",
      " 14  previous   250000 non-null  int64   \n",
      " 15  poutcome   250000 non-null  category\n",
      " 16  feature    250000 non-null  int64   \n",
      "dtypes: category(9), int64(8)\n",
      "memory usage: 17.4 MB\n"
     ]
    }
   ],
   "source": [
    "test.info()"
   ]
  },
  {
   "cell_type": "code",
   "execution_count": 23,
   "id": "3307a156-14c0-4d6e-9956-ccd119ed1df4",
   "metadata": {},
   "outputs": [
    {
     "name": "stdout",
     "output_type": "stream",
     "text": [
      "\n",
      "Categorical features have been aligned.\n",
      "You can now safely fit your model and predict on the test set.\n",
      "\n",
      "Test DataFrame Info after alignment:\n",
      "<class 'pandas.core.frame.DataFrame'>\n",
      "RangeIndex: 250000 entries, 0 to 249999\n",
      "Data columns (total 17 columns):\n",
      " #   Column     Non-Null Count   Dtype   \n",
      "---  ------     --------------   -----   \n",
      " 0   age        250000 non-null  int64   \n",
      " 1   job        250000 non-null  category\n",
      " 2   marital    250000 non-null  category\n",
      " 3   education  250000 non-null  category\n",
      " 4   default    250000 non-null  category\n",
      " 5   balance    250000 non-null  int64   \n",
      " 6   housing    250000 non-null  category\n",
      " 7   loan       250000 non-null  category\n",
      " 8   contact    250000 non-null  category\n",
      " 9   day        250000 non-null  int64   \n",
      " 10  month      250000 non-null  category\n",
      " 11  duration   250000 non-null  int64   \n",
      " 12  campaign   250000 non-null  int64   \n",
      " 13  pdays      250000 non-null  int64   \n",
      " 14  previous   250000 non-null  int64   \n",
      " 15  poutcome   250000 non-null  category\n",
      " 16  feature    250000 non-null  int64   \n",
      "dtypes: category(9), int64(8)\n",
      "memory usage: 17.4 MB\n"
     ]
    }
   ],
   "source": [
    "for col in categorical_features:\n",
    "    # Get the categories from the training data for the current column.\n",
    "    train_categories = df[col].cat.categories\n",
    "    \n",
    "    # Apply the same categorical type and categories to the test data.\n",
    "    # This enforces consistency. Any value in the test column that is not\n",
    "    # in 'train_categories' will become a NaN (Not a Number).\n",
    "    testf[col] = pd.Categorical(testf[col], categories=train_categories, ordered=df[col].cat.ordered)\n",
    "    \n",
    "    # 3. Check for and fill any NaNs that were introduced.\n",
    "    # A common strategy is to fill them with the mode (most frequent value)\n",
    "    # from the training set for that column.\n",
    "    if testf[col].isnull().sum() > 0:\n",
    "        print(f\"Unseen categories found in '{col}'. Filling with training set mode.\")\n",
    "        mode_value = df[col].mode()[0]\n",
    "        testf[col] = testf[col].fillna(mode_value)\n",
    "\n",
    "print(\"\\nCategorical features have been aligned.\")\n",
    "print(\"You can now safely fit your model and predict on the test set.\")\n",
    "\n",
    "# As a final check, you can view the info of the test dataframe again.\n",
    "# The dtypes and non-null counts should now be fully consistent.\n",
    "print(\"\\nTest DataFrame Info after alignment:\")\n",
    "testf.info()"
   ]
  },
  {
   "cell_type": "code",
   "execution_count": 15,
   "id": "b2cb11db-da29-4257-ac19-ab3d8009029e",
   "metadata": {},
   "outputs": [
    {
     "name": "stdout",
     "output_type": "stream",
     "text": [
      "<class 'pandas.core.frame.DataFrame'>\n",
      "Index: 795211 entries, 0 to 45210\n",
      "Data columns (total 17 columns):\n",
      " #   Column     Non-Null Count   Dtype   \n",
      "---  ------     --------------   -----   \n",
      " 0   age        795211 non-null  int64   \n",
      " 1   job        795211 non-null  category\n",
      " 2   marital    795211 non-null  category\n",
      " 3   education  795211 non-null  category\n",
      " 4   default    795211 non-null  category\n",
      " 5   balance    795211 non-null  int64   \n",
      " 6   housing    795211 non-null  category\n",
      " 7   loan       795211 non-null  category\n",
      " 8   contact    795211 non-null  category\n",
      " 9   day        795211 non-null  int64   \n",
      " 10  month      795211 non-null  category\n",
      " 11  duration   795211 non-null  int64   \n",
      " 12  campaign   795211 non-null  int64   \n",
      " 13  pdays      795211 non-null  int64   \n",
      " 14  previous   795211 non-null  int64   \n",
      " 15  poutcome   795211 non-null  category\n",
      " 16  feature    795211 non-null  int64   \n",
      "dtypes: category(9), int64(8)\n",
      "memory usage: 61.4 MB\n"
     ]
    }
   ],
   "source": [
    "X.info()"
   ]
  },
  {
   "cell_type": "code",
   "execution_count": null,
   "id": "d53d0087-497d-4ee0-a28e-e2343d57f344",
   "metadata": {},
   "outputs": [],
   "source": []
  },
  {
   "cell_type": "code",
   "execution_count": 3,
   "id": "03a7815f-8f84-418b-8a64-469724a29f76",
   "metadata": {},
   "outputs": [
    {
     "name": "stdout",
     "output_type": "stream",
     "text": [
      "<class 'pandas.core.frame.DataFrame'>\n",
      "Index: 795211 entries, 0 to 45210\n",
      "Data columns (total 17 columns):\n",
      " #   Column     Non-Null Count   Dtype   \n",
      "---  ------     --------------   -----   \n",
      " 0   age        795211 non-null  int64   \n",
      " 1   job        795211 non-null  category\n",
      " 2   marital    795211 non-null  category\n",
      " 3   education  795211 non-null  category\n",
      " 4   default    795211 non-null  category\n",
      " 5   balance    795211 non-null  int64   \n",
      " 6   housing    795211 non-null  category\n",
      " 7   loan       795211 non-null  category\n",
      " 8   contact    795211 non-null  category\n",
      " 9   day        795211 non-null  int64   \n",
      " 10  month      795211 non-null  category\n",
      " 11  duration   795211 non-null  int64   \n",
      " 12  campaign   795211 non-null  int64   \n",
      " 13  pdays      795211 non-null  int64   \n",
      " 14  previous   795211 non-null  int64   \n",
      " 15  poutcome   795211 non-null  category\n",
      " 16  feature    795211 non-null  int64   \n",
      "dtypes: category(9), int64(8)\n",
      "memory usage: 61.4 MB\n"
     ]
    }
   ],
   "source": [
    "\n",
    "# Identify categorical features and set their type to 'category'\n",
    "# This allows LightGBM to handle them natively and efficiently\n",
    "categorical_features = df.select_dtypes(include=['object']).columns\n",
    "for col in categorical_features:\n",
    "    df[col] = df[col].astype('category')\n",
    "\n",
    "# Define features (X) and target (y)\n",
    "\n",
    "\n",
    "X = df\n",
    "\n",
    "\n",
    "X.info()"
   ]
  },
  {
   "cell_type": "code",
   "execution_count": 4,
   "id": "f55547fa-46df-45a2-b2b2-73f9d91ef300",
   "metadata": {},
   "outputs": [],
   "source": [
    "## 2. Optuna Objective Function with Cross-Validation\n",
    "# ----------------------------------------------------\n",
    "\n",
    "def objective(trial):\n",
    "    params = {\n",
    "        'objective': 'binary',\n",
    "        'metric': 'auc',\n",
    "        'verbosity': -1,\n",
    "        'boosting_type': 'gbdt',\n",
    "        'learning_rate': trial.suggest_float('learning_rate', 1e-3, 0.2, log=True),\n",
    "        'num_leaves': trial.suggest_int('num_leaves', 20, 300),\n",
    "        'max_depth': trial.suggest_int('max_depth', 3, 12),\n",
    "        'min_child_samples': trial.suggest_int('min_child_samples', 5, 100),\n",
    "        'subsample': trial.suggest_float('subsample', 0.6, 1.0, step=0.05),\n",
    "        'colsample_bytree': trial.suggest_float('colsample_bytree', 0.6, 1.0, step=0.05),\n",
    "        'reg_alpha': trial.suggest_float('reg_alpha', 1e-8, 10.0, log=True),\n",
    "        'reg_lambda': trial.suggest_float('reg_lambda', 1e-8, 10.0, log=True),\n",
    "    }\n",
    "    \n",
    "    dtrain = lgb.Dataset(X, label=y, categorical_feature=list(categorical_features), free_raw_data=False)\n",
    "    \n",
    "    cv_results = lgb.cv(\n",
    "        params=params,\n",
    "        train_set=dtrain,\n",
    "        num_boost_round=2000,\n",
    "        nfold=5,\n",
    "        stratified=True,\n",
    "        seed=42,\n",
    "        callbacks=[lgb.early_stopping(stopping_rounds=100, verbose=False)]\n",
    "    )\n",
    "    \n",
    "\n",
    "    cv_score = cv_results['valid auc-mean'][-1]\n",
    "\n",
    "    cv_stdv = cv_results['valid auc-stdv'][-1]\n",
    "    trial.set_user_attr('cv_stdv', cv_stdv)\n",
    "    \n",
    "    trial.set_user_attr('n_estimators', len(cv_results['valid auc-mean']))\n",
    "    \n",
    "    return cv_score\n",
    "\n",
    "\n",
    "\n"
   ]
  },
  {
   "cell_type": "code",
   "execution_count": 5,
   "id": "d9c20a3a-82dc-4698-a6cf-8611d441603d",
   "metadata": {
    "scrolled": true
   },
   "outputs": [
    {
     "name": "stderr",
     "output_type": "stream",
     "text": [
      "[I 2025-08-04 23:46:31,190] A new study created in memory with name: no-name-652b3fc3-45a3-4dc8-a6f9-98fe9f0849a7\n",
      "[I 2025-08-04 23:56:21,790] Trial 0 finished with value: 0.9613220576624446 and parameters: {'learning_rate': 0.01651077690021882, 'num_leaves': 122, 'max_depth': 3, 'min_child_samples': 21, 'subsample': 0.9, 'colsample_bytree': 0.95, 'reg_alpha': 0.023914610434615735, 'reg_lambda': 0.0002233906434169338}. Best is trial 0 with value: 0.9613220576624446.\n",
      "[I 2025-08-05 00:11:11,440] Trial 1 finished with value: 0.9652564261505481 and parameters: {'learning_rate': 0.018255050019533457, 'num_leaves': 105, 'max_depth': 5, 'min_child_samples': 14, 'subsample': 0.95, 'colsample_bytree': 0.6, 'reg_alpha': 0.16679526030823139, 'reg_lambda': 2.2611070339122104}. Best is trial 1 with value: 0.9652564261505481.\n",
      "[I 2025-08-05 00:22:20,142] Trial 2 finished with value: 0.9635870030710757 and parameters: {'learning_rate': 0.016480811636475454, 'num_leaves': 42, 'max_depth': 4, 'min_child_samples': 58, 'subsample': 1.0, 'colsample_bytree': 0.85, 'reg_alpha': 4.851574541028138e-06, 'reg_lambda': 0.16473662995998384}. Best is trial 1 with value: 0.9652564261505481.\n",
      "[I 2025-08-05 00:35:37,217] Trial 3 finished with value: 0.9637564062594637 and parameters: {'learning_rate': 0.0099001330280253, 'num_leaves': 38, 'max_depth': 5, 'min_child_samples': 49, 'subsample': 0.6, 'colsample_bytree': 0.8, 'reg_alpha': 1.2782904321667158e-07, 'reg_lambda': 4.289996094759412e-05}. Best is trial 1 with value: 0.9652564261505481.\n",
      "[I 2025-08-05 01:11:17,194] Trial 4 finished with value: 0.9677302189537669 and parameters: {'learning_rate': 0.012943789331495266, 'num_leaves': 290, 'max_depth': 12, 'min_child_samples': 37, 'subsample': 1.0, 'colsample_bytree': 0.6, 'reg_alpha': 0.0008789983887914183, 'reg_lambda': 1.7115784313850568e-05}. Best is trial 4 with value: 0.9677302189537669.\n",
      "[I 2025-08-05 01:39:09,957] Trial 5 finished with value: 0.9653258285419668 and parameters: {'learning_rate': 0.004426900786695967, 'num_leaves': 193, 'max_depth': 10, 'min_child_samples': 29, 'subsample': 0.65, 'colsample_bytree': 1.0, 'reg_alpha': 1.7689132422919646e-08, 'reg_lambda': 4.755746440585433e-08}. Best is trial 4 with value: 0.9677302189537669.\n",
      "[I 2025-08-05 01:57:25,658] Trial 6 finished with value: 0.9675000680859627 and parameters: {'learning_rate': 0.03474571159451426, 'num_leaves': 297, 'max_depth': 9, 'min_child_samples': 10, 'subsample': 1.0, 'colsample_bytree': 0.6, 'reg_alpha': 0.0004376317970487699, 'reg_lambda': 0.03434438344865603}. Best is trial 4 with value: 0.9677302189537669.\n",
      "[I 2025-08-05 02:18:34,129] Trial 7 finished with value: 0.9659756568007702 and parameters: {'learning_rate': 0.006348026390649662, 'num_leaves': 92, 'max_depth': 12, 'min_child_samples': 64, 'subsample': 0.9, 'colsample_bytree': 0.9, 'reg_alpha': 5.503515896535695e-07, 'reg_lambda': 1.3906466269458864e-08}. Best is trial 4 with value: 0.9677302189537669.\n",
      "[I 2025-08-05 02:30:43,607] Trial 8 finished with value: 0.9669981994840107 and parameters: {'learning_rate': 0.061613987651458535, 'num_leaves': 213, 'max_depth': 5, 'min_child_samples': 16, 'subsample': 0.7, 'colsample_bytree': 0.85, 'reg_alpha': 5.1904251963974366e-08, 'reg_lambda': 4.0155918225733995e-08}. Best is trial 4 with value: 0.9677302189537669.\n",
      "[I 2025-08-05 02:41:32,249] Trial 9 finished with value: 0.9661370442397195 and parameters: {'learning_rate': 0.04947642287254028, 'num_leaves': 194, 'max_depth': 4, 'min_child_samples': 57, 'subsample': 0.7, 'colsample_bytree': 0.75, 'reg_alpha': 0.04454379209636431, 'reg_lambda': 0.0007643711153049687}. Best is trial 4 with value: 0.9677302189537669.\n",
      "[I 2025-08-05 03:18:32,460] Trial 10 finished with value: 0.9619065597468743 and parameters: {'learning_rate': 0.0011694187474195507, 'num_leaves': 291, 'max_depth': 12, 'min_child_samples': 87, 'subsample': 0.8, 'colsample_bytree': 0.7, 'reg_alpha': 9.840998578560626, 'reg_lambda': 4.466030853015028e-06}. Best is trial 4 with value: 0.9677302189537669.\n",
      "[I 2025-08-05 03:24:54,194] Trial 11 finished with value: 0.9667503973852757 and parameters: {'learning_rate': 0.13622366578808073, 'num_leaves': 298, 'max_depth': 9, 'min_child_samples': 37, 'subsample': 1.0, 'colsample_bytree': 0.6, 'reg_alpha': 0.00023704077252670135, 'reg_lambda': 0.011772252648459264}. Best is trial 4 with value: 0.9677302189537669.\n",
      "[I 2025-08-05 03:37:50,610] Trial 12 finished with value: 0.9670210260801738 and parameters: {'learning_rate': 0.06740457567827023, 'num_leaves': 252, 'max_depth': 8, 'min_child_samples': 5, 'subsample': 0.85, 'colsample_bytree': 0.65, 'reg_alpha': 0.00022501674431430228, 'reg_lambda': 2.6826805003383953e-06}. Best is trial 4 with value: 0.9677302189537669.\n",
      "[I 2025-08-05 04:12:50,972] Trial 13 finished with value: 0.9644652442395254 and parameters: {'learning_rate': 0.002655473805002472, 'num_leaves': 241, 'max_depth': 10, 'min_child_samples': 40, 'subsample': 1.0, 'colsample_bytree': 0.7, 'reg_alpha': 8.061540756024592e-06, 'reg_lambda': 0.010171759086387754}. Best is trial 4 with value: 0.9677302189537669.\n",
      "[I 2025-08-05 04:31:58,012] Trial 14 finished with value: 0.9674411579733828 and parameters: {'learning_rate': 0.03232131664666013, 'num_leaves': 257, 'max_depth': 7, 'min_child_samples': 77, 'subsample': 0.9, 'colsample_bytree': 0.6, 'reg_alpha': 0.0020643245098197413, 'reg_lambda': 9.911739158840676}. Best is trial 4 with value: 0.9677302189537669.\n",
      "[I 2025-08-05 04:35:39,481] Trial 15 finished with value: 0.9665985601027398 and parameters: {'learning_rate': 0.18025389814001044, 'num_leaves': 157, 'max_depth': 11, 'min_child_samples': 100, 'subsample': 0.8, 'colsample_bytree': 0.7, 'reg_alpha': 2.3423789900505816e-05, 'reg_lambda': 0.0077491447040358135}. Best is trial 4 with value: 0.9677302189537669.\n",
      "[I 2025-08-05 04:54:25,030] Trial 16 finished with value: 0.9674568884326737 and parameters: {'learning_rate': 0.03195316861764281, 'num_leaves': 276, 'max_depth': 7, 'min_child_samples': 30, 'subsample': 0.95, 'colsample_bytree': 0.65, 'reg_alpha': 0.0015911733083535968, 'reg_lambda': 2.1290157786954946e-06}. Best is trial 4 with value: 0.9677302189537669.\n",
      "[I 2025-08-05 05:25:16,559] Trial 17 finished with value: 0.9668389847704344 and parameters: {'learning_rate': 0.008260281375434093, 'num_leaves': 230, 'max_depth': 9, 'min_child_samples': 5, 'subsample': 0.8, 'colsample_bytree': 0.65, 'reg_alpha': 0.8831330029154681, 'reg_lambda': 0.24511405365773867}. Best is trial 4 with value: 0.9677302189537669.\n",
      "[I 2025-08-05 05:54:29,073] Trial 18 finished with value: 0.9650126382188418 and parameters: {'learning_rate': 0.003273090561357792, 'num_leaves': 162, 'max_depth': 11, 'min_child_samples': 45, 'subsample': 0.95, 'colsample_bytree': 0.75, 'reg_alpha': 0.0017647382892768638, 'reg_lambda': 6.403855188481947e-05}. Best is trial 4 with value: 0.9677302189537669.\n",
      "[I 2025-08-05 06:19:26,417] Trial 19 finished with value: 0.9675724574483808 and parameters: {'learning_rate': 0.030087691635368008, 'num_leaves': 269, 'max_depth': 8, 'min_child_samples': 26, 'subsample': 0.75, 'colsample_bytree': 0.6, 'reg_alpha': 5.370243404558725e-05, 'reg_lambda': 3.426789553016261e-07}. Best is trial 4 with value: 0.9677302189537669.\n",
      "[I 2025-08-05 06:28:15,452] Trial 20 finished with value: 0.9670717497254768 and parameters: {'learning_rate': 0.09686556666964527, 'num_leaves': 265, 'max_depth': 6, 'min_child_samples': 30, 'subsample': 0.75, 'colsample_bytree': 0.75, 'reg_alpha': 2.868574590440091e-05, 'reg_lambda': 3.8822550384535383e-07}. Best is trial 4 with value: 0.9677302189537669.\n",
      "[I 2025-08-05 06:53:54,452] Trial 21 finished with value: 0.9675612695882787 and parameters: {'learning_rate': 0.030605821871672947, 'num_leaves': 290, 'max_depth': 8, 'min_child_samples': 21, 'subsample': 0.75, 'colsample_bytree': 0.6, 'reg_alpha': 0.00010035403176470111, 'reg_lambda': 4.2822574781918186e-07}. Best is trial 4 with value: 0.9677302189537669.\n",
      "[I 2025-08-05 07:18:36,657] Trial 22 finished with value: 0.9674758154721472 and parameters: {'learning_rate': 0.023962277214568475, 'num_leaves': 277, 'max_depth': 8, 'min_child_samples': 23, 'subsample': 0.75, 'colsample_bytree': 0.65, 'reg_alpha': 1.612524417962201e-06, 'reg_lambda': 2.883836811651758e-07}. Best is trial 4 with value: 0.9677302189537669.\n",
      "[I 2025-08-05 07:40:48,978] Trial 23 finished with value: 0.9663006503482816 and parameters: {'learning_rate': 0.011408748358181765, 'num_leaves': 217, 'max_depth': 7, 'min_child_samples': 40, 'subsample': 0.75, 'colsample_bytree': 0.6, 'reg_alpha': 6.697004252994994e-05, 'reg_lambda': 4.945387832034848e-07}. Best is trial 4 with value: 0.9677302189537669.\n",
      "[I 2025-08-05 07:57:18,604] Trial 24 finished with value: 0.9673634780010166 and parameters: {'learning_rate': 0.04148336589929018, 'num_leaves': 274, 'max_depth': 10, 'min_child_samples': 23, 'subsample': 0.7, 'colsample_bytree': 0.65, 'reg_alpha': 0.008992793614433182, 'reg_lambda': 1.42033666733288e-05}. Best is trial 4 with value: 0.9677302189537669.\n",
      "[I 2025-08-05 08:13:15,274] Trial 25 finished with value: 0.9666465973300271 and parameters: {'learning_rate': 0.0218814704732622, 'num_leaves': 237, 'max_depth': 6, 'min_child_samples': 33, 'subsample': 0.85, 'colsample_bytree': 0.7, 'reg_alpha': 4.7556966566800004e-05, 'reg_lambda': 1.669190697880022e-07}. Best is trial 4 with value: 0.9677302189537669.\n",
      "[I 2025-08-05 08:42:20,909] Trial 26 finished with value: 0.9660015930034209 and parameters: {'learning_rate': 0.006663739716892848, 'num_leaves': 184, 'max_depth': 8, 'min_child_samples': 18, 'subsample': 0.65, 'colsample_bytree': 0.6, 'reg_alpha': 0.006669627613860284, 'reg_lambda': 0.0007824333563917137}. Best is trial 4 with value: 0.9677302189537669.\n",
      "[I 2025-08-05 09:16:05,375] Trial 27 finished with value: 0.9675947053734044 and parameters: {'learning_rate': 0.011820936038650183, 'num_leaves': 254, 'max_depth': 11, 'min_child_samples': 70, 'subsample': 0.85, 'colsample_bytree': 0.65, 'reg_alpha': 0.0004392013702540916, 'reg_lambda': 1.5683367129914782e-06}. Best is trial 4 with value: 0.9677302189537669.\n",
      "[I 2025-08-05 09:47:48,920] Trial 28 finished with value: 0.9676038484073122 and parameters: {'learning_rate': 0.012616541584109991, 'num_leaves': 225, 'max_depth': 11, 'min_child_samples': 72, 'subsample': 0.85, 'colsample_bytree': 0.65, 'reg_alpha': 0.0009223318559731807, 'reg_lambda': 1.1976546675137084e-05}. Best is trial 4 with value: 0.9677302189537669.\n",
      "[I 2025-08-05 10:13:05,496] Trial 29 finished with value: 0.9671563637310949 and parameters: {'learning_rate': 0.012192682887620484, 'num_leaves': 155, 'max_depth': 11, 'min_child_samples': 70, 'subsample': 0.85, 'colsample_bytree': 0.8, 'reg_alpha': 0.0919495867500156, 'reg_lambda': 0.00012281492499282103}. Best is trial 4 with value: 0.9677302189537669.\n",
      "[I 2025-08-05 10:47:22,884] Trial 30 finished with value: 0.9664529443614107 and parameters: {'learning_rate': 0.004636957799785408, 'num_leaves': 212, 'max_depth': 12, 'min_child_samples': 83, 'subsample': 0.9, 'colsample_bytree': 0.7, 'reg_alpha': 0.013257317792931957, 'reg_lambda': 0.0005076969754720097}. Best is trial 4 with value: 0.9677302189537669.\n",
      "[I 2025-08-05 11:20:45,777] Trial 31 finished with value: 0.9676748457779712 and parameters: {'learning_rate': 0.014675207310260539, 'num_leaves': 263, 'max_depth': 11, 'min_child_samples': 70, 'subsample': 0.85, 'colsample_bytree': 0.65, 'reg_alpha': 0.0006772017196135228, 'reg_lambda': 1.1903764384962667e-05}. Best is trial 4 with value: 0.9677302189537669.\n",
      "[I 2025-08-05 11:52:52,535] Trial 32 finished with value: 0.9676599050122595 and parameters: {'learning_rate': 0.016490273517493426, 'num_leaves': 248, 'max_depth': 11, 'min_child_samples': 71, 'subsample': 0.85, 'colsample_bytree': 0.65, 'reg_alpha': 0.0007859124703074528, 'reg_lambda': 1.4848564092928004e-05}. Best is trial 4 with value: 0.9677302189537669.\n",
      "[I 2025-08-05 12:23:12,875] Trial 33 finished with value: 0.9676886298547194 and parameters: {'learning_rate': 0.019176950387385497, 'num_leaves': 226, 'max_depth': 12, 'min_child_samples': 64, 'subsample': 0.95, 'colsample_bytree': 0.65, 'reg_alpha': 0.0031044236551660605, 'reg_lambda': 1.702489413981891e-05}. Best is trial 4 with value: 0.9677302189537669.\n",
      "[I 2025-08-05 12:53:35,584] Trial 34 finished with value: 0.9675017700256536 and parameters: {'learning_rate': 0.016381679580756245, 'num_leaves': 242, 'max_depth': 12, 'min_child_samples': 60, 'subsample': 0.95, 'colsample_bytree': 0.75, 'reg_alpha': 0.00344178016419663, 'reg_lambda': 2.2158819659482262e-05}. Best is trial 4 with value: 0.9677302189537669.\n",
      "[I 2025-08-05 13:14:58,776] Trial 35 finished with value: 0.9674516112395141 and parameters: {'learning_rate': 0.017914985359259963, 'num_leaves': 112, 'max_depth': 12, 'min_child_samples': 50, 'subsample': 0.95, 'colsample_bytree': 0.7, 'reg_alpha': 0.023999471382921186, 'reg_lambda': 0.0001990378030688386}. Best is trial 4 with value: 0.9677302189537669.\n",
      "[I 2025-08-05 13:41:49,240] Trial 36 finished with value: 0.9674329266074766 and parameters: {'learning_rate': 0.02198624246386754, 'num_leaves': 201, 'max_depth': 10, 'min_child_samples': 64, 'subsample': 1.0, 'colsample_bytree': 0.85, 'reg_alpha': 0.3300110525594132, 'reg_lambda': 8.787026236435373e-06}. Best is trial 4 with value: 0.9677302189537669.\n",
      "[I 2025-08-05 14:09:51,607] Trial 37 finished with value: 0.9666104709409595 and parameters: {'learning_rate': 0.007880683636672405, 'num_leaves': 174, 'max_depth': 11, 'min_child_samples': 85, 'subsample': 0.9, 'colsample_bytree': 0.95, 'reg_alpha': 0.000569067386462082, 'reg_lambda': 5.510669611488738e-05}. Best is trial 4 with value: 0.9677302189537669.\n",
      "[I 2025-08-05 14:28:29,900] Trial 38 finished with value: 0.9670900293655584 and parameters: {'learning_rate': 0.016619291559897945, 'num_leaves': 65, 'max_depth': 12, 'min_child_samples': 54, 'subsample': 0.9, 'colsample_bytree': 0.65, 'reg_alpha': 1.219246029349303e-05, 'reg_lambda': 0.0022805209572427615}. Best is trial 4 with value: 0.9677302189537669.\n",
      "[I 2025-08-05 14:38:49,981] Trial 39 finished with value: 0.9591281160007583 and parameters: {'learning_rate': 0.009547754844128929, 'num_leaves': 128, 'max_depth': 3, 'min_child_samples': 78, 'subsample': 1.0, 'colsample_bytree': 0.8, 'reg_alpha': 1.860127837183988e-06, 'reg_lambda': 3.596784832654389e-05}. Best is trial 4 with value: 0.9677302189537669.\n"
     ]
    },
    {
     "name": "stdout",
     "output_type": "stream",
     "text": [
      "\n",
      "--- Hyperparameter Tuning Results Summary ---\n",
      "    cv_score  cv_std_dev  n_estimators  params_colsample_bytree  \\\n",
      "4    0.96773     0.00048          1998                     0.60   \n",
      "33   0.96769     0.00047          1850                     0.65   \n",
      "31   0.96767     0.00045          1996                     0.65   \n",
      "32   0.96766     0.00045          1962                     0.65   \n",
      "28   0.96760     0.00049          2000                     0.65   \n",
      "27   0.96759     0.00047          2000                     0.65   \n",
      "19   0.96757     0.00045          2000                     0.60   \n",
      "21   0.96756     0.00049          2000                     0.60   \n",
      "6    0.96750     0.00047          1112                     0.60   \n",
      "34   0.96750     0.00047          2000                     0.75   \n",
      "\n",
      "    params_learning_rate  params_max_depth  params_min_child_samples  \\\n",
      "4                 0.0129                12                        37   \n",
      "33                0.0192                12                        64   \n",
      "31                0.0147                11                        70   \n",
      "32                0.0165                11                        71   \n",
      "28                0.0126                11                        72   \n",
      "27                0.0118                11                        70   \n",
      "19                0.0301                 8                        26   \n",
      "21                0.0306                 8                        21   \n",
      "6                 0.0347                 9                        10   \n",
      "34                0.0164                12                        60   \n",
      "\n",
      "    params_num_leaves  params_reg_alpha  params_reg_lambda  params_subsample  \n",
      "4                 290          0.000879       1.711578e-05              1.00  \n",
      "33                226          0.003104       1.702489e-05              0.95  \n",
      "31                263          0.000677       1.190376e-05              0.85  \n",
      "32                248          0.000786       1.484856e-05              0.85  \n",
      "28                225          0.000922       1.197655e-05              0.85  \n",
      "27                254          0.000439       1.568337e-06              0.85  \n",
      "19                269          0.000054       3.426790e-07              0.75  \n",
      "21                290          0.000100       4.282257e-07              0.75  \n",
      "6                 297          0.000438       3.434438e-02              1.00  \n",
      "34                242          0.003442       2.215882e-05              0.95  \n"
     ]
    }
   ],
   "source": [
    "## 3. Run Tuning Study and Display Results\n",
    "# -----------------------------------------\n",
    "study = optuna.create_study(direction='maximize')\n",
    "study.optimize(objective, n_trials=40)\n",
    "\n",
    "results_df = study.trials_dataframe()\n",
    "\n",
    "results_df = results_df[results_df['state'] == 'COMPLETE']\n",
    "\n",
    "if not results_df.empty:\n",
    "    results_df = results_df.rename(columns={\n",
    "        'value': 'cv_score',\n",
    "        'user_attrs_n_estimators': 'n_estimators',\n",
    "        'user_attrs_cv_stdv': 'cv_std_dev'\n",
    "    })\n",
    "    results_df['params_learning_rate'] = results_df['params_learning_rate'].round(4)\n",
    "    results_df['cv_score'] = results_df['cv_score'].round(5)\n",
    "    results_df['cv_std_dev'] = results_df['cv_std_dev'].round(5)\n",
    "    \n",
    "    # Define columns to display (train_score and generalization_ratio are removed)\n",
    "    param_cols = [col for col in results_df.columns if col.startswith('params_')]\n",
    "    display_cols = ['cv_score', 'cv_std_dev', 'n_estimators'] + param_cols\n",
    "    \n",
    "    print(\"\\n--- Hyperparameter Tuning Results Summary ---\")\n",
    "    print(results_df[display_cols].sort_values(by='cv_score', ascending=False).head(10))"
   ]
  },
  {
   "cell_type": "code",
   "execution_count": 8,
   "id": "26c56bcf-adbc-40f0-a606-f01c950e62d0",
   "metadata": {},
   "outputs": [
    {
     "name": "stdout",
     "output_type": "stream",
     "text": [
      "\n",
      "--- Best Trial Details ---\n",
      "Best CV Score: 0.96773\n",
      "Best CV Standard Deviation: 0.00048\n",
      "Best Parameters:\n",
      "  learning_rate: 0.012943789331495266\n",
      "  num_leaves: 290\n",
      "  max_depth: 12\n",
      "  min_child_samples: 37\n",
      "  subsample: 1.0\n",
      "  colsample_bytree: 0.6\n",
      "  reg_alpha: 0.0008789983887914183\n",
      "  reg_lambda: 1.7115784313850568e-05\n",
      "  n_estimators: 1998\n",
      "\n",
      "Training final model with best parameters...\n",
      "Final model trained and ready. ✅\n"
     ]
    }
   ],
   "source": [
    "# This 'if' check ensures this block only runs if the study was successful\n",
    "if not results_df.empty:\n",
    "\n",
    "\n",
    "    ## 4. Review Best Trial and Train Final Model\n",
    "    # ---------------------------------------------\n",
    "    print(\"\\n--- Best Trial Details ---\")\n",
    "    best_trial = study.best_trial\n",
    "    print(f\"Best CV Score: {best_trial.value:.5f}\")\n",
    "    print(f\"Best CV Standard Deviation: {best_trial.user_attrs['cv_stdv']:.5f}\")\n",
    "    \n",
    "    print(\"Best Parameters:\")\n",
    "    # Use .copy() to prevent the RuntimeError\n",
    "    for key, value in best_trial.params.copy().items():\n",
    "        print(f\"  {key}: {value}\")\n",
    "        \n",
    "    # This should be OUTSIDE the for loop, so it only prints once\n",
    "    print(f\"  n_estimators: {best_trial.user_attrs['n_estimators']}\")\n",
    "\n",
    "    # This entire block for training the model should also be OUTSIDE the for loop\n",
    "    print(\"\\nTraining final model with best parameters...\")\n",
    "    best_params = best_trial.params\n",
    "    best_params['n_estimators'] = best_trial.user_attrs['n_estimators']\n",
    "\n",
    "    final_model = lgb.LGBMClassifier(**best_params)\n",
    "    final_model.fit(X, y, categorical_feature=list(categorical_features))\n",
    "    print(\"Final model trained and ready. ✅\")\n",
    "else:\n",
    "    # This runs if no trials were completed successfully\n",
    "    print(\"\\nStudy finished, but no trials were completed successfully.\")"
   ]
  },
  {
   "cell_type": "code",
   "execution_count": 7,
   "id": "1ed1d0a7-62c6-4820-886d-97a601e4aebd",
   "metadata": {},
   "outputs": [
    {
     "name": "stdout",
     "output_type": "stream",
     "text": [
      "\n",
      "--- Generating Learning Curve for the Best Model ---\n",
      "Plotting learning curve...\n"
     ]
    },
    {
     "data": {
      "text/plain": [
       "<Figure size 1000x600 with 0 Axes>"
      ]
     },
     "metadata": {},
     "output_type": "display_data"
    },
    {
     "data": {
      "image/png": "[encoded data removed]",
      "text/plain": [
       "<Figure size 640x480 with 1 Axes>"
      ]
     },
     "metadata": {},
     "output_type": "display_data"
    }
   ],
   "source": [
    "import matplotlib.pyplot as plt\n",
    "from sklearn.model_selection import train_test_split\n",
    "\n",
    "# This assumes you have already run the tuning script and have:\n",
    "# - A trained 'final_model'\n",
    "# - The 'X' and 'y' dataframes\n",
    "# - The list of 'categorical_features'\n",
    "\n",
    "print(\"\\n--- Generating Learning Curve for the Best Model ---\")\n",
    "\n",
    "# We need a validation set to plot the curve\n",
    "X_train, X_val, y_train, y_val = train_test_split(X, y, test_size=0.2, random_state=42, stratify=y)\n",
    "\n",
    "# Re-fit the final model on the new training split and track performance\n",
    "final_model.fit(\n",
    "    X_train,\n",
    "    y_train,\n",
    "    eval_set=[(X_train, y_train), (X_val, y_val)],\n",
    "    eval_metric='auc',\n",
    "    callbacks=[lgb.early_stopping(100, verbose=False)]\n",
    ")\n",
    "\n",
    "# Plot the learning curve\n",
    "print(\"Plotting learning curve...\")\n",
    "plt.figure(figsize=(10, 6))\n",
    "lgb.plot_metric(final_model, metric='auc', title='Learning Curve')\n",
    "plt.grid(True)\n",
    "plt.show()"
   ]
  },
  {
   "cell_type": "code",
   "execution_count": 24,
   "id": "b9c57f6a-8863-4038-8a3d-5cfac91aea56",
   "metadata": {},
   "outputs": [],
   "source": [
    "predictions = final_model.predict_proba(testf)[:, 1]"
   ]
  },
  {
   "cell_type": "code",
   "execution_count": 26,
   "id": "22c896f8-33a6-4c39-90df-4d12df2c351c",
   "metadata": {},
   "outputs": [],
   "source": [
    "submission_df = pd.DataFrame({'id': test['id'], 'y': predictions})"
   ]
  },
  {
   "cell_type": "code",
   "execution_count": 27,
   "id": "88e70317-bb01-4d97-9431-3a826faa86ca",
   "metadata": {},
   "outputs": [],
   "source": [
    "submission_df.to_csv('submission.csv', index=False)\n"
   ]
  },
  {
   "cell_type": "code",
   "execution_count": null,
   "id": "31936e8a-c516-4715-a10e-661d840276b4",
   "metadata": {},
   "outputs": [],
   "source": []
  }
 ],
 "metadata": {
  "kernelspec": {
   "display_name": "Python 3 (ipykernel)",
   "language": "python",
   "name": "python3"
  },
  "language_info": {
   "codemirror_mode": {
    "name": "ipython",
    "version": 3
   },
   "file_extension": ".py",
   "mimetype": "text/x-python",
   "name": "python",
   "nbconvert_exporter": "python",
   "pygments_lexer": "ipython3",
   "version": "3.11.9"
  }
 },
 "nbformat": 4,
 "nbformat_minor": 5
}
