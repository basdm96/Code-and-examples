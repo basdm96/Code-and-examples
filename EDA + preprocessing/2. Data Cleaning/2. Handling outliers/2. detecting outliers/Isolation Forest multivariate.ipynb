{
 "cells": [
  {
   "cell_type": "code",
   "execution_count": 1,
   "id": "29ec0dda-1a97-4d1f-99f8-f7472238c112",
   "metadata": {},
   "outputs": [],
   "source": [
    "import numpy as np\n",
    "import pandas as pd\n",
    "from sklearn.datasets import fetch_california_housing\n",
    "from sklearn.ensemble import IsolationForest\n",
    "\n"
   ]
  },
  {
   "cell_type": "code",
   "execution_count": 2,
   "id": "1b07c016-646b-48da-a75f-76628f550bd5",
   "metadata": {},
   "outputs": [],
   "source": [
    "# --- Isolation Forest Method for Outlier Detection ---\n",
    "\n",
    "# When to use this method:\n",
    "# - For high-dimensional datasets (multivariate outlier detection).\n",
    "# - When you don't know the distribution of the data.\n",
    "# - It's efficient and works well on large datasets.\n",
    "\n"
   ]
  },
  {
   "cell_type": "code",
   "execution_count": 3,
   "id": "84978088-47e9-4518-870e-2adbc7fad85b",
   "metadata": {},
   "outputs": [],
   "source": [
    "# 1. We'll use the California Housing dataset for this example.\n",
    "housing = fetch_california_housing()\n",
    "df = pd.DataFrame(housing.data, columns=housing.feature_names)\n",
    "\n",
    "# We will analyze the 'MedInc' (Median Income) feature for outliers.\n",
    "# Isolation Forest expects a 2D array, so we reshape the data.\n",
    "data = df['MedInc'].values.reshape(-1, 1)\n",
    "\n"
   ]
  },
  {
   "cell_type": "code",
   "execution_count": 4,
   "id": "f72f9e1f-6f2d-46a6-82f9-0ab2fbd3917b",
   "metadata": {},
   "outputs": [
    {
     "name": "stdout",
     "output_type": "stream",
     "text": [
      "Running hyperparameter tuning...\n"
     ]
    }
   ],
   "source": [
    "# --- 2. Hyperparameter Tuning ---\n",
    "# We will test different combinations of hyperparameters to see how they affect the outcome.\n",
    "# This is a manual form of \"grid search\".\n",
    "\n",
    "# Define the grid of parameters to test\n",
    "param_grid = {\n",
    "    'n_estimators': [50, 100, 200],\n",
    "    'contamination': [0.01, 0.05, 0.1]\n",
    "}\n",
    "\n",
    "# Store the results\n",
    "tuning_results = []\n",
    "\n",
    "print(\"Running hyperparameter tuning...\")\n",
    "for n_est in param_grid['n_estimators']:\n",
    "    for cont in param_grid['contamination']:\n",
    "        # Create and fit the model with the current parameters\n",
    "        iso_forest = IsolationForest(\n",
    "            n_estimators=n_est,\n",
    "            contamination=cont,\n",
    "            random_state=42\n",
    "        )\n",
    "        \n",
    "        # Fit the model and get predictions\n",
    "        predictions = iso_forest.fit_predict(data)\n",
    "        \n",
    "        # Count the number of outliers (-1)\n",
    "        num_outliers = np.sum(predictions == -1)\n",
    "        \n",
    "        # Store the results\n",
    "        tuning_results.append({\n",
    "            'n_estimators': n_est,\n",
    "            'contamination': cont,\n",
    "            'num_outliers': num_outliers\n",
    "        })\n",
    "\n",
    "# Convert results to a DataFrame for easy viewing\n",
    "results_df = pd.DataFrame(tuning_results)"
   ]
  },
  {
   "cell_type": "code",
   "execution_count": 5,
   "id": "ebdad1cf-93b9-417e-b084-0b0990d3019f",
   "metadata": {},
   "outputs": [
    {
     "name": "stdout",
     "output_type": "stream",
     "text": [
      "\n",
      "Tuning complete. Here are the results:\n",
      "   n_estimators  contamination  num_outliers\n",
      "0            50           0.01           197\n",
      "1            50           0.05          1026\n",
      "2            50           0.10          2064\n",
      "3           100           0.01           204\n",
      "4           100           0.05          1029\n",
      "5           100           0.10          2063\n",
      "6           200           0.01           206\n",
      "7           200           0.05          1030\n",
      "8           200           0.10          2064\n",
      "\n",
      "--- Interpretation ---\n",
      "You can now analyze this table to choose the best parameters.\n",
      "For example, if you have domain knowledge suggesting around 5% of your data might be anomalous,\n",
      "you would look at the results for contamination=0.05 and choose the n_estimators value you prefer.\n"
     ]
    }
   ],
   "source": [
    "print(\"\\nTuning complete. Here are the results:\")\n",
    "print(results_df)\n",
    "\n",
    "print(\"\\n--- Interpretation ---\")\n",
    "print(\"You can now analyze this table to choose the best parameters.\")\n",
    "print(\"For example, if you have domain knowledge suggesting around 5% of your data might be anomalous,\")\n",
    "print(\"you would look at the results for contamination=0.05 and choose the n_estimators value you prefer.\")"
   ]
  },
  {
   "cell_type": "code",
   "execution_count": 11,
   "id": "82fdd425-0504-4f89-b810-7acdbd3fffcd",
   "metadata": {},
   "outputs": [],
   "source": [
    "# 2.1 Create and fit the Isolation Forest model\n",
    "# 'contamination' is the expected proportion of outliers. 'auto' is a good default.\n",
    "# We set a random_state for reproducibility.\n",
    "iso_forest = IsolationForest(contamination=0.02,n_estimators=100, random_state=42)\n",
    "predictions = iso_forest.fit_predict(data)\n",
    "\n",
    "# The model returns -1 for outliers and 1 for inliers.\n",
    "# We can also get the anomaly scores for more context (lower scores are more abnormal).\n",
    "anomaly_scores = iso_forest.decision_function(data)\n",
    "\n"
   ]
  },
  {
   "cell_type": "code",
   "execution_count": 12,
   "id": "778878b1-6254-4f62-937e-20dae04bdfc8",
   "metadata": {},
   "outputs": [],
   "source": [
    "# 3. Identify outliers\n",
    "# Find indices where the prediction is -1.\n",
    "outlier_indices = np.where(predictions == -1)[0]\n",
    "\n"
   ]
  },
  {
   "cell_type": "code",
   "execution_count": 13,
   "id": "a59b2eb9-9c73-4622-9e86-5aaf5cc44e05",
   "metadata": {},
   "outputs": [
    {
     "name": "stdout",
     "output_type": "stream",
     "text": [
      "Analyzing feature: 'MedInc' from California Housing dataset using Isolation Forest\n",
      "Contamination parameter set to 'auto'\n",
      "------------------------------\n",
      "Found 409 outliers.\n",
      "\n",
      "DataFrame containing the identified outliers (first 5 rows):\n",
      "      MedInc  HouseAge  AveRooms  AveBedrms  Population  AveOccup  Latitude  \\\n",
      "71    0.7286      46.0  3.375451   1.072202       582.0  2.101083     37.81   \n",
      "73    0.4999      46.0  1.714286   0.571429        18.0  2.571429     37.81   \n",
      "87    0.7600      10.0  2.651515   1.054545       546.0  1.654545     37.81   \n",
      "92    0.7500      52.0  2.823529   0.911765       191.0  5.617647     37.80   \n",
      "131  11.6017      18.0  8.335052   1.082474       533.0  2.747423     37.84   \n",
      "\n",
      "     Longitude  Anomaly_Score  \n",
      "71     -122.29      -0.004149  \n",
      "73     -122.29      -0.025379  \n",
      "87     -122.27      -0.000920  \n",
      "92     -122.28      -0.001380  \n",
      "131    -122.19      -0.073428  \n"
     ]
    }
   ],
   "source": [
    "# 4. Create a new DataFrame containing only the outliers\n",
    "# We use .loc to select rows from the original DataFrame based on the outlier indices.\n",
    "outliers_df = df.loc[outlier_indices].copy()\n",
    "\n",
    "# Add the anomaly score to the outliers DataFrame for context\n",
    "outliers_df['Anomaly_Score'] = anomaly_scores[outlier_indices]\n",
    "\n",
    "\n",
    "# --- Display Results ---\n",
    "print(f\"Analyzing feature: 'MedInc' from California Housing dataset using Isolation Forest\")\n",
    "print(f\"Contamination parameter set to 'auto'\")\n",
    "print(\"-\" * 30)\n",
    "print(f\"Found {len(outliers_df)} outliers.\")\n",
    "print(\"\\nDataFrame containing the identified outliers (first 5 rows):\")\n",
    "print(outliers_df.head())\n",
    "\n",
    "# Example of what the output will look like:\n",
    "# Analyzing feature: 'MedInc' from California Housing dataset using Isolation Forest\n",
    "# Contamination parameter set to 'auto'\n",
    "# ------------------------------\n",
    "# Found 1032 outliers.\n",
    "#\n",
    "# DataFrame containing the identified outliers (first 5 rows):\n",
    "#      MedInc  HouseAge  AveRooms  AveBedrms  Population  AveOccup  Latitude  Longitude  Anomaly_Score\n",
    "# 9   15.0001      52.0  8.288136   1.076271       592.0  2.508475     37.85    -122.25      -0.129339\n",
    "# 10  15.0001      52.0  8.288136   1.076271       592.0  2.508475     37.85    -122.25      -0.129339\n",
    "# 11  15.0001      52.0  8.288136   1.076271       592.0  2.508475     37.85    -122.25      -0.129339\n",
    "# 12  15.0001      52.0  8.288136   1.076271       592.0  2.508475     37.85    -122.25      -0.129339\n",
    "# 13  15.0001      52.0  8.288136   1.076271       592.0  2.508475     37.85    -122.25      -0.129339"
   ]
  },
  {
   "cell_type": "code",
   "execution_count": 14,
   "id": "edb8d913-cb25-4f52-9b98-90b8109f5fe6",
   "metadata": {},
   "outputs": [
    {
     "data": {
      "text/plain": [
       "count    409.000000\n",
       "mean      -0.055741\n",
       "std        0.042035\n",
       "min       -0.132964\n",
       "25%       -0.089751\n",
       "50%       -0.042890\n",
       "75%       -0.023450\n",
       "max       -0.000920\n",
       "Name: Anomaly_Score, dtype: float64"
      ]
     },
     "execution_count": 14,
     "metadata": {},
     "output_type": "execute_result"
    }
   ],
   "source": [
    "outliers_df['Anomaly_Score'].describe()"
   ]
  },
  {
   "cell_type": "code",
   "execution_count": null,
   "id": "54eeae64-ac0f-4d9b-ac09-389912e0002b",
   "metadata": {},
   "outputs": [],
   "source": []
  },
  {
   "cell_type": "code",
   "execution_count": null,
   "id": "c087e7a6-5c72-4fe7-ad2b-47939de80131",
   "metadata": {},
   "outputs": [],
   "source": []
  }
 ],
 "metadata": {
  "kernelspec": {
   "display_name": "Python 3 (ipykernel)",
   "language": "python",
   "name": "python3"
  },
  "language_info": {
   "codemirror_mode": {
    "name": "ipython",
    "version": 3
   },
   "file_extension": ".py",
   "mimetype": "text/x-python",
   "name": "python",
   "nbconvert_exporter": "python",
   "pygments_lexer": "ipython3",
   "version": "3.11.9"
  }
 },
 "nbformat": 4,
 "nbformat_minor": 5
}
