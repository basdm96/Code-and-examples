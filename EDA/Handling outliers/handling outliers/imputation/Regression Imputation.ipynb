{
 "cells": [
  {
   "cell_type": "code",
   "execution_count": 1,
   "id": "30038263-00d6-497a-8d3a-455e1fe649eb",
   "metadata": {},
   "outputs": [],
   "source": [
    "# Import necessary libraries\n",
    "import pandas as pd\n",
    "import numpy as np\n",
    "from sklearn.datasets import fetch_california_housing\n",
    "from sklearn.linear_model import LinearRegression\n",
    "from sklearn.model_selection import train_test_split\n",
    "from sklearn.metrics import mean_squared_error\n",
    "\n"
   ]
  },
  {
   "cell_type": "code",
   "execution_count": 2,
   "id": "a7675d53-7ce6-443c-8dc9-6bdd1b3ecae7",
   "metadata": {},
   "outputs": [],
   "source": [
    "# --- When to Use Regression Imputation and its Requirements ---\n",
    "#\n",
    "# Regression imputation is a sophisticated method for handling missing data. \n",
    "# It's best used when you believe there is a linear relationship between the variable \n",
    "# with missing values (the target) and other variables in the dataset (the features).\n",
    "#\n",
    "# Requirements:\n",
    "# 1.  The variables used to predict the missing values should not have missing data themselves.\n",
    "#     If they do, those must be handled first.\n",
    "# 2.  A linear relationship between the feature variables and the target variable should exist.\n",
    "#     If the relationship is highly non-linear, this method may not be accurate.\n",
    "# 3.  The data used for the regression model should be numerical. Categorical variables\n",
    "#     would need to be encoded.\n",
    "\n",
    "\n"
   ]
  },
  {
   "cell_type": "code",
   "execution_count": 3,
   "id": "62d099fa-0430-43a3-a7b3-28616a6d738e",
   "metadata": {},
   "outputs": [
    {
     "name": "stdout",
     "output_type": "stream",
     "text": [
      "Original DataFrame head:\n",
      "   HouseAge  AveRooms  MedInc\n",
      "0      41.0  6.984127  8.3252\n",
      "1      21.0  6.238137  8.3014\n",
      "2      52.0  8.288136  7.2574\n",
      "3      52.0  5.817352  5.6431\n",
      "4      52.0  6.281853  3.8462\n",
      "\n",
      "\n"
     ]
    }
   ],
   "source": [
    "# 1. Load a sample dataset\n",
    "# We'll use the California Housing dataset from scikit-learn.\n",
    "housing = fetch_california_housing()\n",
    "df = pd.DataFrame(housing.data, columns=housing.feature_names)\n",
    "\n",
    "# For demonstration, we'll focus on imputing missing values in 'MedInc' (Median Income)\n",
    "# based on 'HouseAge' and 'AveRooms'.\n",
    "print(\"Original DataFrame head:\")\n",
    "print(df[['HouseAge', 'AveRooms', 'MedInc']].head())\n",
    "print(\"\\n\")\n",
    "\n"
   ]
  },
  {
   "cell_type": "code",
   "execution_count": 4,
   "id": "261ab36d-a8f4-4f8b-b893-feaaab361ac5",
   "metadata": {},
   "outputs": [
    {
     "name": "stdout",
     "output_type": "stream",
     "text": [
      "Number of missing values created in 'MedInc': 2064\n",
      "DataFrame head with missing values:\n",
      "   HouseAge  AveRooms  MedInc\n",
      "0      41.0  6.984127  8.3252\n",
      "1      21.0  6.238137  8.3014\n",
      "2      52.0  8.288136  7.2574\n",
      "3      52.0  5.817352     NaN\n",
      "4      52.0  6.281853  3.8462\n",
      "\n",
      "\n"
     ]
    }
   ],
   "source": [
    "# 2. Artificially create missing values in the 'MedInc' column\n",
    "# This allows us to demonstrate the technique and evaluate its performance.\n",
    "df_missing = df.copy()\n",
    "missing_fraction = 0.1\n",
    "np.random.seed(42)\n",
    "missing_indices = np.random.choice(df_missing.index, size=int(len(df_missing) * missing_fraction), replace=False)\n",
    "df_missing.loc[missing_indices, 'MedInc'] = np.nan\n",
    "\n",
    "print(f\"Number of missing values created in 'MedInc': {df_missing['MedInc'].isnull().sum()}\")\n",
    "print(\"DataFrame head with missing values:\")\n",
    "print(df_missing[['HouseAge', 'AveRooms', 'MedInc']].head())\n",
    "print(\"\\n\")\n",
    "\n"
   ]
  },
  {
   "cell_type": "code",
   "execution_count": 5,
   "id": "e5d86da5-93d3-4608-ac87-381dcbcc0209",
   "metadata": {},
   "outputs": [],
   "source": [
    "# 3. Apply Regression Imputation\n",
    "# We will predict the missing 'MedInc' values using 'HouseAge' and 'AveRooms'.\n",
    "\n",
    "# Separate the data into two parts: one with 'MedInc' present, and one with it missing.\n",
    "df_with_medinc = df_missing.dropna(subset=['MedInc'])\n",
    "df_to_impute = df_missing[df_missing['MedInc'].isnull()]\n",
    "\n",
    "# Define the features (X) and the target (y) for the regression model\n",
    "features = ['HouseAge', 'AveRooms']\n",
    "X_train = df_with_medinc[features]\n",
    "y_train = df_with_medinc['MedInc']\n",
    "X_to_impute = df_to_impute[features]\n",
    "\n",
    "# Create and train the linear regression model\n",
    "lr = LinearRegression()\n",
    "lr.fit(X_train, y_train)\n",
    "\n",
    "# Predict the missing 'MedInc' values\n",
    "predicted_medinc = lr.predict(X_to_impute)\n",
    "\n"
   ]
  },
  {
   "cell_type": "code",
   "execution_count": 6,
   "id": "b2e62770-8420-4d70-9822-dd55209cbf2e",
   "metadata": {},
   "outputs": [],
   "source": [
    "# 4. Fill the missing values with the predictions\n",
    "df_imputed = df_missing.copy()\n",
    "df_imputed.loc[df_imputed['MedInc'].isnull(), 'MedInc'] = predicted_medinc\n",
    "\n"
   ]
  },
  {
   "cell_type": "code",
   "execution_count": 7,
   "id": "6aaf84c6-b64c-4d43-93b8-386458a5fce3",
   "metadata": {},
   "outputs": [
    {
     "name": "stdout",
     "output_type": "stream",
     "text": [
      "DataFrame head after regression imputation:\n",
      "   HouseAge  AveRooms    MedInc\n",
      "0      41.0  6.984127  8.325200\n",
      "1      21.0  6.238137  8.301400\n",
      "2      52.0  8.288136  7.257400\n",
      "3      52.0  5.817352  3.701051\n",
      "4      52.0  6.281853  3.846200\n",
      "\n",
      "\n",
      "Number of missing values in 'MedInc' after imputation: 0\n",
      "\n",
      "\n",
      "Mean Squared Error of the imputation: 3.3367\n",
      "\n",
      "Comparison of Original vs. Imputed values:\n",
      "       Original MedInc  Imputed MedInc\n",
      "20046           1.6812        3.624473\n",
      "3024            2.5313        3.765791\n",
      "15663           3.4801        3.272739\n",
      "20484           5.7376        4.172719\n",
      "9814            3.7250        3.826676\n"
     ]
    }
   ],
   "source": [
    "# 5. Show the result\n",
    "print(\"DataFrame head after regression imputation:\")\n",
    "print(df_imputed[['HouseAge', 'AveRooms', 'MedInc']].head())\n",
    "print(\"\\n\")\n",
    "\n",
    "# Verify that there are no more missing values\n",
    "print(f\"Number of missing values in 'MedInc' after imputation: {df_imputed['MedInc'].isnull().sum()}\")\n",
    "print(\"\\n\")\n",
    "\n",
    "# Optional: Evaluate the imputation quality\n",
    "# We can compare the imputed values to the original, true values.\n",
    "original_values = df.loc[missing_indices, 'MedInc']\n",
    "imputed_values = df_imputed.loc[missing_indices, 'MedInc']\n",
    "\n",
    "mse = mean_squared_error(original_values, imputed_values)\n",
    "print(f\"Mean Squared Error of the imputation: {mse:.4f}\")\n",
    "\n",
    "# Display a comparison of original vs. imputed values for the first 5 missing entries\n",
    "comparison_df = pd.DataFrame({\n",
    "    'Original MedInc': original_values.head(),\n",
    "    'Imputed MedInc': imputed_values.head()\n",
    "})\n",
    "print(\"\\nComparison of Original vs. Imputed values:\")\n",
    "print(comparison_df)"
   ]
  },
  {
   "cell_type": "code",
   "execution_count": null,
   "id": "078e3350-dabf-416c-8a2b-b507012b215d",
   "metadata": {},
   "outputs": [],
   "source": []
  },
  {
   "cell_type": "code",
   "execution_count": null,
   "id": "0a57e27a-8a63-445d-b395-4b9809775353",
   "metadata": {},
   "outputs": [],
   "source": []
  },
  {
   "cell_type": "code",
   "execution_count": null,
   "id": "c545f76b-feca-49c5-8445-1f701fb3af3f",
   "metadata": {},
   "outputs": [],
   "source": []
  }
 ],
 "metadata": {
  "kernelspec": {
   "display_name": "Python 3 (ipykernel)",
   "language": "python",
   "name": "python3"
  },
  "language_info": {
   "codemirror_mode": {
    "name": "ipython",
    "version": 3
   },
   "file_extension": ".py",
   "mimetype": "text/x-python",
   "name": "python",
   "nbconvert_exporter": "python",
   "pygments_lexer": "ipython3",
   "version": "3.11.9"
  }
 },
 "nbformat": 4,
 "nbformat_minor": 5
}
