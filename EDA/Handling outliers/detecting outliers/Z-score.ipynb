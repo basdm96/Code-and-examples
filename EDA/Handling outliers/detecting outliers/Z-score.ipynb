{
 "cells": [
  {
   "cell_type": "code",
   "execution_count": 1,
   "id": "5168d4e7-11ce-453e-b556-8044e8a25803",
   "metadata": {},
   "outputs": [],
   "source": [
    "import numpy as np\n",
    "import pandas as pd\n",
    "from sklearn.datasets import fetch_california_housing"
   ]
  },
  {
   "cell_type": "code",
   "execution_count": 2,
   "id": "d922ca8c-739d-4479-bca5-f3ea63b4bd9e",
   "metadata": {},
   "outputs": [],
   "source": [
    "# --- Standard Z-Score Calculation with a Real Dataset ---\n",
    "\n",
    "# When to use this method:\n",
    "# - When your data is approximately normally distributed (bell-shaped).\n",
    "# - For larger datasets where the mean is a reliable measure.\n",
    "# - It's the most common and straightforward method for outlier detection.\n",
    "\n"
   ]
  },
  {
   "cell_type": "code",
   "execution_count": 3,
   "id": "d1fb2e24-18fd-485e-bb73-d4d400e922e2",
   "metadata": {},
   "outputs": [],
   "source": [
    "# 1. We'll use the California Housing dataset for this example.\n",
    "housing = fetch_california_housing()\n",
    "df = pd.DataFrame(housing.data, columns=housing.feature_names)\n",
    "\n",
    "# We will analyze the 'MedInc' (Median Income) feature for outliers.\n",
    "data = df['MedInc'].values\n",
    "\n"
   ]
  },
  {
   "cell_type": "code",
   "execution_count": 4,
   "id": "95692120-2e27-49ee-b40a-43c0a8b61bc4",
   "metadata": {},
   "outputs": [],
   "source": [
    "# 2. Calculate the mean and standard deviation\n",
    "mean_val = np.mean(data)\n",
    "std_val = np.std(data)\n",
    "\n"
   ]
  },
  {
   "cell_type": "code",
   "execution_count": 5,
   "id": "f7740e73-3a54-47e5-afff-7cf845ebb3b6",
   "metadata": {},
   "outputs": [],
   "source": [
    "# 3. Calculate the Z-scores\n",
    "# Handle the case where standard deviation is 0 to avoid division by zero.\n",
    "if std_val == 0:\n",
    "    z_scores = np.zeros_like(data)\n",
    "else:\n",
    "    z_scores = (data - mean_val) / std_val\n",
    "\n"
   ]
  },
  {
   "cell_type": "code",
   "execution_count": 6,
   "id": "521a57f1-0037-41ee-802b-564c56e70a1f",
   "metadata": {},
   "outputs": [],
   "source": [
    "# 4. Identify outliers\n",
    "outlier_threshold = 3.0 # A common threshold for standard Z-score is 3.0\n",
    "outlier_indices = np.where(np.abs(z_scores) > outlier_threshold)[0] # Get indices as a 1D array\n",
    "\n"
   ]
  },
  {
   "cell_type": "code",
   "execution_count": 7,
   "id": "60126ef8-b3cc-4e2d-8c11-6c1563bc12d0",
   "metadata": {},
   "outputs": [],
   "source": [
    "# 5. Create a new DataFrame containing only the outliers\n",
    "# We use .loc to select rows from the original DataFrame based on the outlier indices\n",
    "outliers_df = df.loc[outlier_indices].copy()\n",
    "\n",
    "# Add the Z-score to the outliers DataFrame for context\n",
    "outliers_df['Z_Score'] = z_scores[outlier_indices]\n",
    "\n",
    "\n"
   ]
  },
  {
   "cell_type": "code",
   "execution_count": 8,
   "id": "5f89ec60-ccc5-4a87-8b86-5bc442d9194a",
   "metadata": {},
   "outputs": [
    {
     "name": "stdout",
     "output_type": "stream",
     "text": [
      "Analyzing feature: 'MedInc' from California Housing dataset using Standard Z-Score\n",
      "Number of data points: 20640\n",
      "Found 345 outliers with a threshold of 3.0.\n",
      "------------------------------\n",
      "\n",
      "DataFrame containing the identified outliers (first 5 rows):\n",
      "      MedInc  HouseAge  AveRooms  AveBedrms  Population  AveOccup  Latitude  \\\n",
      "131  11.6017      18.0  8.335052   1.082474       533.0  2.747423     37.84   \n",
      "409  10.0825      52.0  8.209016   1.024590       658.0  2.696721     37.90   \n",
      "510  11.8603      39.0  7.911111   0.984127       808.0  2.565079     37.82   \n",
      "511  13.4990      42.0  8.928358   1.000000      1018.0  3.038806     37.82   \n",
      "512  12.2138      52.0  9.210227   1.039773      1001.0  2.843750     37.82   \n",
      "\n",
      "     Longitude   Z_Score  \n",
      "131    -122.19  4.069443  \n",
      "409    -122.28  3.269770  \n",
      "510    -122.22  4.205564  \n",
      "511    -122.22  5.068140  \n",
      "512    -122.23  4.391639  \n"
     ]
    }
   ],
   "source": [
    "# --- Display Results ---\n",
    "print(f\"Analyzing feature: 'MedInc' from California Housing dataset using Standard Z-Score\")\n",
    "print(f\"Number of data points: {len(data)}\")\n",
    "print(f\"Found {len(outliers_df)} outliers with a threshold of {outlier_threshold}.\")\n",
    "print(\"-\" * 30)\n",
    "print(\"\\nDataFrame containing the identified outliers (first 5 rows):\")\n",
    "print(outliers_df.head())\n",
    "\n",
    "# Example of what the output will look like:\n",
    "# Analyzing feature: 'MedInc' from California Housing dataset using Standard Z-Score\n",
    "# Number of data points: 20640\n",
    "# Found 240 outliers with a threshold of 3.0.\n",
    "# ------------------------------\n",
    "#\n",
    "# DataFrame containing the identified outliers (first 5 rows):\n",
    "#      MedInc  HouseAge  AveRooms  AveBedrms  Population  AveOccup  Latitude  Longitude   Z_Score\n",
    "# 195   9.532      36.0  8.212329   1.109589       869.0  2.380822     37.80    -122.23  3.000049\n",
    "# 237  10.082      25.0  8.291866   1.037453      1256.0  2.356469     37.85    -122.28  3.288636\n",
    "# 243  10.082      25.0  8.291866   1.037453      1256.0  2.356469     37.85    -122.28  3.288636\n",
    "# 308  10.536      34.0"
   ]
  },
  {
   "cell_type": "code",
   "execution_count": 9,
   "id": "e835fa9a-efbd-42a1-a359-da1603e0b2e2",
   "metadata": {},
   "outputs": [
    {
     "data": {
      "text/plain": [
       "count    345.000000\n",
       "mean       4.085177\n",
       "std        0.935690\n",
       "min        3.006475\n",
       "25%        3.346831\n",
       "50%        3.689819\n",
       "75%        4.690885\n",
       "max        5.858286\n",
       "Name: Z_Score, dtype: float64"
      ]
     },
     "execution_count": 9,
     "metadata": {},
     "output_type": "execute_result"
    }
   ],
   "source": [
    "outliers_df['Z_Score'].describe()"
   ]
  },
  {
   "cell_type": "code",
   "execution_count": null,
   "id": "b3a64acf-cd6a-4a48-9b0f-190bd6031936",
   "metadata": {},
   "outputs": [],
   "source": []
  },
  {
   "cell_type": "code",
   "execution_count": null,
   "id": "359781b4-1992-451b-bd0c-e1a0f4ecb559",
   "metadata": {},
   "outputs": [],
   "source": []
  },
  {
   "cell_type": "code",
   "execution_count": null,
   "id": "0a5e2336-5a96-480a-8c70-3851a8b2daf4",
   "metadata": {},
   "outputs": [],
   "source": []
  }
 ],
 "metadata": {
  "kernelspec": {
   "display_name": "Python 3 (ipykernel)",
   "language": "python",
   "name": "python3"
  },
  "language_info": {
   "codemirror_mode": {
    "name": "ipython",
    "version": 3
   },
   "file_extension": ".py",
   "mimetype": "text/x-python",
   "name": "python",
   "nbconvert_exporter": "python",
   "pygments_lexer": "ipython3",
   "version": "3.11.9"
  }
 },
 "nbformat": 4,
 "nbformat_minor": 5
}
