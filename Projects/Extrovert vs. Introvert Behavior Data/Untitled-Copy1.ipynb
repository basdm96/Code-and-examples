{
 "cells": [
  {
   "cell_type": "code",
   "execution_count": 1,
   "id": "ed95f8ab-f086-45c0-a0dd-89aeb22266f2",
   "metadata": {},
   "outputs": [],
   "source": [
    "import pandas as pd\n",
    "import matplotlib.pyplot as plt\n",
    "import seaborn as sns\n",
    "import numpy as np"
   ]
  },
  {
   "cell_type": "code",
   "execution_count": 2,
   "id": "791831b6-8cf1-46ab-b607-57479b9c706c",
   "metadata": {},
   "outputs": [],
   "source": [
    "data = pd.read_csv(r\"C:\\Users\\basde\\OneDrive\\Documenten\\GitHub\\Code-and-examples\\Projects\\Extrovert vs. Introvert Behavior Data\\playground-series-s5e7\\train.csv\")\n",
    "test = pd.read_csv(r\"C:\\Users\\basde\\OneDrive\\Documenten\\GitHub\\Code-and-examples\\Projects\\Extrovert vs. Introvert Behavior Data\\playground-series-s5e7\\test.csv\")"
   ]
  },
  {
   "cell_type": "code",
   "execution_count": 3,
   "id": "915d1f0a-5a25-453c-88f1-0b131be9d204",
   "metadata": {},
   "outputs": [],
   "source": [
    "df = data.copy()\n",
    "dft = test.copy()"
   ]
  },
  {
   "cell_type": "code",
   "execution_count": 4,
   "id": "fbaee1ae-72e6-4562-9bf0-18c29bdc9386",
   "metadata": {},
   "outputs": [
    {
     "name": "stdout",
     "output_type": "stream",
     "text": [
      "Observed relationship between the two features:\n",
      "Drained_after_socializing    No   Yes\n",
      "Stage_fear                           \n",
      "No                         4055     3\n",
      "Yes                           6  1098\n",
      "\n",
      "Value counts of non-null pairs:\n",
      "Stage_fear  Drained_after_socializing\n",
      "No          No                           0.785548\n",
      "Yes         Yes                          0.212708\n",
      "            No                           0.001162\n",
      "No          Yes                          0.000581\n",
      "Name: proportion, dtype: float64\n"
     ]
    }
   ],
   "source": [
    "observed_relationship = pd.crosstab(\n",
    "    dft['Stage_fear'],\n",
    "    dft['Drained_after_socializing'],\n",
    "    dropna=True\n",
    ")\n",
    "\n",
    "print(\"Observed relationship between the two features:\")\n",
    "print(observed_relationship)\n",
    "\n",
    "# We can also check the value counts for the non-null data to confirm the dominant pairs.\n",
    "print(\"\\nValue counts of non-null pairs:\")\n",
    "print(dft[['Stage_fear', 'Drained_after_socializing']].dropna().value_counts(normalize=True))"
   ]
  },
  {
   "cell_type": "code",
   "execution_count": 5,
   "id": "599436b1-3d72-4d45-94b0-89bbbe809529",
   "metadata": {},
   "outputs": [],
   "source": [
    "df1 = df.drop(['id','Stage_fear','Drained_after_socializing','Personality'], axis=1)\n",
    "dft1 = dft.drop(['id','Stage_fear','Drained_after_socializing'], axis=1)"
   ]
  },
  {
   "cell_type": "code",
   "execution_count": 6,
   "id": "ab0015d0-bd5d-4ec3-a02a-e547a048f04b",
   "metadata": {},
   "outputs": [
    {
     "data": {
      "text/html": [
       "<div>\n",
       "<style scoped>\n",
       "    .dataframe tbody tr th:only-of-type {\n",
       "        vertical-align: middle;\n",
       "    }\n",
       "\n",
       "    .dataframe tbody tr th {\n",
       "        vertical-align: top;\n",
       "    }\n",
       "\n",
       "    .dataframe thead th {\n",
       "        text-align: right;\n",
       "    }\n",
       "</style>\n",
       "<table border=\"1\" class=\"dataframe\">\n",
       "  <thead>\n",
       "    <tr style=\"text-align: right;\">\n",
       "      <th></th>\n",
       "      <th>Time_spent_Alone</th>\n",
       "      <th>Social_event_attendance</th>\n",
       "      <th>Going_outside</th>\n",
       "      <th>Friends_circle_size</th>\n",
       "      <th>Post_frequency</th>\n",
       "    </tr>\n",
       "  </thead>\n",
       "  <tbody>\n",
       "    <tr>\n",
       "      <th>count</th>\n",
       "      <td>17334.000000</td>\n",
       "      <td>17344.000000</td>\n",
       "      <td>17058.000000</td>\n",
       "      <td>17470.000000</td>\n",
       "      <td>17260.000000</td>\n",
       "    </tr>\n",
       "    <tr>\n",
       "      <th>mean</th>\n",
       "      <td>3.137764</td>\n",
       "      <td>5.265106</td>\n",
       "      <td>4.044319</td>\n",
       "      <td>7.996737</td>\n",
       "      <td>4.982097</td>\n",
       "    </tr>\n",
       "    <tr>\n",
       "      <th>std</th>\n",
       "      <td>3.003786</td>\n",
       "      <td>2.753359</td>\n",
       "      <td>2.062580</td>\n",
       "      <td>4.223484</td>\n",
       "      <td>2.879139</td>\n",
       "    </tr>\n",
       "    <tr>\n",
       "      <th>min</th>\n",
       "      <td>0.000000</td>\n",
       "      <td>0.000000</td>\n",
       "      <td>0.000000</td>\n",
       "      <td>0.000000</td>\n",
       "      <td>0.000000</td>\n",
       "    </tr>\n",
       "    <tr>\n",
       "      <th>25%</th>\n",
       "      <td>1.000000</td>\n",
       "      <td>3.000000</td>\n",
       "      <td>3.000000</td>\n",
       "      <td>5.000000</td>\n",
       "      <td>3.000000</td>\n",
       "    </tr>\n",
       "    <tr>\n",
       "      <th>50%</th>\n",
       "      <td>2.000000</td>\n",
       "      <td>5.000000</td>\n",
       "      <td>4.000000</td>\n",
       "      <td>8.000000</td>\n",
       "      <td>5.000000</td>\n",
       "    </tr>\n",
       "    <tr>\n",
       "      <th>75%</th>\n",
       "      <td>4.000000</td>\n",
       "      <td>8.000000</td>\n",
       "      <td>6.000000</td>\n",
       "      <td>12.000000</td>\n",
       "      <td>7.000000</td>\n",
       "    </tr>\n",
       "    <tr>\n",
       "      <th>max</th>\n",
       "      <td>11.000000</td>\n",
       "      <td>10.000000</td>\n",
       "      <td>7.000000</td>\n",
       "      <td>15.000000</td>\n",
       "      <td>10.000000</td>\n",
       "    </tr>\n",
       "  </tbody>\n",
       "</table>\n",
       "</div>"
      ],
      "text/plain": [
       "       Time_spent_Alone  Social_event_attendance  Going_outside  \\\n",
       "count      17334.000000             17344.000000   17058.000000   \n",
       "mean           3.137764                 5.265106       4.044319   \n",
       "std            3.003786                 2.753359       2.062580   \n",
       "min            0.000000                 0.000000       0.000000   \n",
       "25%            1.000000                 3.000000       3.000000   \n",
       "50%            2.000000                 5.000000       4.000000   \n",
       "75%            4.000000                 8.000000       6.000000   \n",
       "max           11.000000                10.000000       7.000000   \n",
       "\n",
       "       Friends_circle_size  Post_frequency  \n",
       "count         17470.000000    17260.000000  \n",
       "mean              7.996737        4.982097  \n",
       "std               4.223484        2.879139  \n",
       "min               0.000000        0.000000  \n",
       "25%               5.000000        3.000000  \n",
       "50%               8.000000        5.000000  \n",
       "75%              12.000000        7.000000  \n",
       "max              15.000000       10.000000  "
      ]
     },
     "execution_count": 6,
     "metadata": {},
     "output_type": "execute_result"
    }
   ],
   "source": [
    "df1.describe()"
   ]
  },
  {
   "cell_type": "code",
   "execution_count": 7,
   "id": "229ba81b-e46b-499e-902b-b63e8bf1e851",
   "metadata": {},
   "outputs": [
    {
     "name": "stdout",
     "output_type": "stream",
     "text": [
      "<class 'pandas.core.frame.DataFrame'>\n",
      "RangeIndex: 18524 entries, 0 to 18523\n",
      "Data columns (total 5 columns):\n",
      " #   Column                   Non-Null Count  Dtype  \n",
      "---  ------                   --------------  -----  \n",
      " 0   Time_spent_Alone         17334 non-null  float64\n",
      " 1   Social_event_attendance  17344 non-null  float64\n",
      " 2   Going_outside            17058 non-null  float64\n",
      " 3   Friends_circle_size      17470 non-null  float64\n",
      " 4   Post_frequency           17260 non-null  float64\n",
      "dtypes: float64(5)\n",
      "memory usage: 723.7 KB\n"
     ]
    }
   ],
   "source": [
    "df1.info()"
   ]
  },
  {
   "cell_type": "code",
   "execution_count": 8,
   "id": "95aebc48-7139-4328-8c28-939ab06aef22",
   "metadata": {},
   "outputs": [
    {
     "data": {
      "text/html": [
       "<div>\n",
       "<style scoped>\n",
       "    .dataframe tbody tr th:only-of-type {\n",
       "        vertical-align: middle;\n",
       "    }\n",
       "\n",
       "    .dataframe tbody tr th {\n",
       "        vertical-align: top;\n",
       "    }\n",
       "\n",
       "    .dataframe thead th {\n",
       "        text-align: right;\n",
       "    }\n",
       "</style>\n",
       "<table border=\"1\" class=\"dataframe\">\n",
       "  <thead>\n",
       "    <tr style=\"text-align: right;\">\n",
       "      <th></th>\n",
       "      <th>Time_spent_Alone</th>\n",
       "      <th>Social_event_attendance</th>\n",
       "      <th>Going_outside</th>\n",
       "      <th>Friends_circle_size</th>\n",
       "      <th>Post_frequency</th>\n",
       "    </tr>\n",
       "  </thead>\n",
       "  <tbody>\n",
       "    <tr>\n",
       "      <th>count</th>\n",
       "      <td>5750.000000</td>\n",
       "      <td>5778.000000</td>\n",
       "      <td>5709.000000</td>\n",
       "      <td>5825.000000</td>\n",
       "      <td>5767.000000</td>\n",
       "    </tr>\n",
       "    <tr>\n",
       "      <th>mean</th>\n",
       "      <td>3.116870</td>\n",
       "      <td>5.287989</td>\n",
       "      <td>4.037835</td>\n",
       "      <td>8.008412</td>\n",
       "      <td>5.028958</td>\n",
       "    </tr>\n",
       "    <tr>\n",
       "      <th>std</th>\n",
       "      <td>2.985658</td>\n",
       "      <td>2.758052</td>\n",
       "      <td>2.045207</td>\n",
       "      <td>4.192701</td>\n",
       "      <td>2.867285</td>\n",
       "    </tr>\n",
       "    <tr>\n",
       "      <th>min</th>\n",
       "      <td>0.000000</td>\n",
       "      <td>0.000000</td>\n",
       "      <td>0.000000</td>\n",
       "      <td>0.000000</td>\n",
       "      <td>0.000000</td>\n",
       "    </tr>\n",
       "    <tr>\n",
       "      <th>25%</th>\n",
       "      <td>1.000000</td>\n",
       "      <td>3.000000</td>\n",
       "      <td>3.000000</td>\n",
       "      <td>5.000000</td>\n",
       "      <td>3.000000</td>\n",
       "    </tr>\n",
       "    <tr>\n",
       "      <th>50%</th>\n",
       "      <td>2.000000</td>\n",
       "      <td>5.000000</td>\n",
       "      <td>4.000000</td>\n",
       "      <td>8.000000</td>\n",
       "      <td>5.000000</td>\n",
       "    </tr>\n",
       "    <tr>\n",
       "      <th>75%</th>\n",
       "      <td>4.000000</td>\n",
       "      <td>8.000000</td>\n",
       "      <td>6.000000</td>\n",
       "      <td>12.000000</td>\n",
       "      <td>7.000000</td>\n",
       "    </tr>\n",
       "    <tr>\n",
       "      <th>max</th>\n",
       "      <td>11.000000</td>\n",
       "      <td>10.000000</td>\n",
       "      <td>7.000000</td>\n",
       "      <td>15.000000</td>\n",
       "      <td>10.000000</td>\n",
       "    </tr>\n",
       "  </tbody>\n",
       "</table>\n",
       "</div>"
      ],
      "text/plain": [
       "       Time_spent_Alone  Social_event_attendance  Going_outside  \\\n",
       "count       5750.000000              5778.000000    5709.000000   \n",
       "mean           3.116870                 5.287989       4.037835   \n",
       "std            2.985658                 2.758052       2.045207   \n",
       "min            0.000000                 0.000000       0.000000   \n",
       "25%            1.000000                 3.000000       3.000000   \n",
       "50%            2.000000                 5.000000       4.000000   \n",
       "75%            4.000000                 8.000000       6.000000   \n",
       "max           11.000000                10.000000       7.000000   \n",
       "\n",
       "       Friends_circle_size  Post_frequency  \n",
       "count          5825.000000     5767.000000  \n",
       "mean              8.008412        5.028958  \n",
       "std               4.192701        2.867285  \n",
       "min               0.000000        0.000000  \n",
       "25%               5.000000        3.000000  \n",
       "50%               8.000000        5.000000  \n",
       "75%              12.000000        7.000000  \n",
       "max              15.000000       10.000000  "
      ]
     },
     "execution_count": 8,
     "metadata": {},
     "output_type": "execute_result"
    }
   ],
   "source": [
    "dft1.describe()"
   ]
  },
  {
   "cell_type": "code",
   "execution_count": 9,
   "id": "10312789-8fb9-4d1e-88b6-4523ae41e392",
   "metadata": {},
   "outputs": [],
   "source": [
    "# from sklearn.impute import KNNImputer"
   ]
  },
  {
   "cell_type": "code",
   "execution_count": 10,
   "id": "9a83be43-89f9-490f-a1cf-24c5aa2091fb",
   "metadata": {},
   "outputs": [],
   "source": [
    "# imputer = KNNImputer(n_neighbors=10)"
   ]
  },
  {
   "cell_type": "code",
   "execution_count": 11,
   "id": "b413c524-52b0-4845-8122-8d7b4018186e",
   "metadata": {},
   "outputs": [],
   "source": [
    "from sklearn.experimental import enable_iterative_imputer\n",
    "from sklearn.impute import IterativeImputer"
   ]
  },
  {
   "cell_type": "code",
   "execution_count": 12,
   "id": "a3bb7767-dec0-4c6d-a5c6-5e9004df4082",
   "metadata": {},
   "outputs": [],
   "source": [
    "imputer = IterativeImputer(max_iter=10, random_state=42)"
   ]
  },
  {
   "cell_type": "code",
   "execution_count": 13,
   "id": "0d0d2510-9553-490d-bfb7-bf1b5a8a213b",
   "metadata": {},
   "outputs": [],
   "source": [
    "# df1 = pd.DataFrame(imputer.fit_transform(df1), columns=dft1.columns)"
   ]
  },
  {
   "cell_type": "code",
   "execution_count": 14,
   "id": "85cc2ddb-a0a6-43f8-9e4e-911242c2d6f7",
   "metadata": {},
   "outputs": [],
   "source": [
    "dft1 = pd.DataFrame(imputer.fit_transform(dft1), columns=dft1.columns)"
   ]
  },
  {
   "cell_type": "code",
   "execution_count": 15,
   "id": "ef96e969-1e01-4559-9755-c6ff658a0dd6",
   "metadata": {},
   "outputs": [],
   "source": [
    "from sklearn.preprocessing import RobustScaler"
   ]
  },
  {
   "cell_type": "code",
   "execution_count": 16,
   "id": "cc297524-6699-4281-8066-fdb9d1c3ea22",
   "metadata": {},
   "outputs": [],
   "source": [
    "robust_scaler = RobustScaler()\n"
   ]
  },
  {
   "cell_type": "code",
   "execution_count": 17,
   "id": "c482895b-8d6c-4c0f-9664-6b87d422ec14",
   "metadata": {},
   "outputs": [],
   "source": [
    "# df1 = robust_scaler.fit_transform(df1)"
   ]
  },
  {
   "cell_type": "code",
   "execution_count": 18,
   "id": "f3156a83-5b53-45d2-bd58-c5d0a0547926",
   "metadata": {},
   "outputs": [],
   "source": [
    "dft1 = pd.DataFrame(robust_scaler.fit_transform(dft1), columns=dft1.columns, index=dft1.index)"
   ]
  },
  {
   "cell_type": "code",
   "execution_count": 19,
   "id": "85dd35c0-e650-457c-a13d-22716619c8d9",
   "metadata": {},
   "outputs": [],
   "source": [
    "from factor_analyzer.factor_analyzer import calculate_bartlett_sphericity, calculate_kmo\n",
    "from sklearn.decomposition import PCA"
   ]
  },
  {
   "cell_type": "code",
   "execution_count": 20,
   "id": "a1453d91-7e76-4695-b6da-729160da13ca",
   "metadata": {},
   "outputs": [],
   "source": [
    "# Fit PCA to get eigenvalues\n",
    "pca = PCA(n_components=dft1.shape[1])\n",
    "pca.fit(dft1)\n",
    "eigenvalues = pca.explained_variance_"
   ]
  },
  {
   "cell_type": "code",
   "execution_count": 21,
   "id": "f42f4a68-d45c-40dc-9e49-2a85d8cfb609",
   "metadata": {},
   "outputs": [
    {
     "name": "stdout",
     "output_type": "stream",
     "text": [
      "Bartlett's Test Chi-Square: 15538.958, P-value: 0.000\n",
      "Result: The variables are correlated, and the data is suitable for factor analysis.\n",
      "\n",
      "========================================\n",
      "\n",
      "KMO Test value: 0.886\n",
      "Result: The data is adequate for factor analysis.\n"
     ]
    }
   ],
   "source": [
    "# --- Suitability Checks ---\n",
    "\n",
    "# 1. Bartlett's Test\n",
    "chi_square_value, p_value = calculate_bartlett_sphericity(dft1)\n",
    "print(f\"Bartlett's Test Chi-Square: {chi_square_value:.3f}, P-value: {p_value:.3f}\")\n",
    "if p_value < 0.05:\n",
    "    print(\"Result: The variables are correlated, and the data is suitable for factor analysis.\")\n",
    "else:\n",
    "    print(\"Result: The variables are not correlated enough. Factor analysis may not be appropriate.\")\n",
    "\n",
    "print(\"\\n\" + \"=\"*40 + \"\\n\")\n",
    "\n",
    "# 2. KMO Test\n",
    "kmo_all, kmo_model = calculate_kmo(dft1)\n",
    "print(f\"KMO Test value: {kmo_model:.3f}\")\n",
    "if kmo_model >= 0.6:\n",
    "    print(\"Result: The data is adequate for factor analysis.\")\n",
    "elif kmo_model >= 0.5:\n",
    "    print(\"Result: The data is marginally acceptable for factor analysis.\")\n",
    "else:\n",
    "    print(\"Result: The data is not adequate for factor analysis.\")"
   ]
  },
  {
   "cell_type": "code",
   "execution_count": 22,
   "id": "4e792437-10e4-4ffb-bdf6-b1e39f9de8c9",
   "metadata": {},
   "outputs": [
    {
     "data": {
      "image/png": "[encoded data removed]",
      "text/plain": [
       "<Figure size 1000x600 with 1 Axes>"
      ]
     },
     "metadata": {},
     "output_type": "display_data"
    }
   ],
   "source": [
    "# --- Plot 2: Cumulative Variance (Adaptable with Fallback Test) ---\n",
    "\n",
    "# Set the threshold \n",
    "variance_threshold = 0.95\n",
    "threshold_met = True # Flag to check if the threshold was met\n",
    "\n",
    "# --- Calculations ---\n",
    "cumulative_variance = np.cumsum(pca.explained_variance_ratio_)\n",
    "try:\n",
    "    n_comp_variance = np.where(cumulative_variance >= variance_threshold)[0][0] + 1\n",
    "except IndexError:\n",
    "    \n",
    "    threshold_met = False\n",
    "    n_comp_variance = len(cumulative_variance)\n",
    "    max_variance_val = cumulative_variance[-1]\n",
    "\n",
    "# --- Plotting (The plot will still render correctly) ---\n",
    "plt.figure(figsize=(10, 6))\n",
    "plt.plot(range(1, len(cumulative_variance) + 1), cumulative_variance, 's-', color='forestgreen')\n",
    "plt.title('Cumulative Explained Variance')\n",
    "plt.xlabel('Number of Components')\n",
    "plt.ylabel('Cumulative Variance Explained')\n",
    "\n",
    "plt.axhline(y=variance_threshold, color='orange', linestyle=':', label=f'{int(variance_threshold*100)}% Explained Variance Threshold')\n",
    "\n",
    "plt.legend()\n",
    "plt.xticks(range(1, len(eigenvalues) + 1))\n",
    "plt.grid(True)\n",
    "plt.show()"
   ]
  },
  {
   "cell_type": "code",
   "execution_count": 23,
   "id": "d254157d-c4ed-497b-8828-2055e92ff05a",
   "metadata": {},
   "outputs": [],
   "source": [
    "# def parallel_analysis(data, n_iterations=100):\n",
    "#     \"\"\"\n",
    "#     Performs Horn's Parallel Analysis to determine the number of components to retain.\n",
    "#     \"\"\"\n",
    "#     n_rows, n_cols = data.shape\n",
    "#     # Store eigenvalues from each random dataset iteration\n",
    "#     random_eigenvalues = np.zeros((n_iterations, n_cols))\n",
    "\n",
    "#     print(\"Running Parallel Analysis (this may take a moment)...\")\n",
    "#     for i in range(n_iterations):\n",
    "#         # 1. Create a random dataset\n",
    "#         random_data = np.random.normal(size=(n_rows, n_cols))\n",
    "        \n",
    "#         # 2. Run PCA on the random data\n",
    "#         pca_random = PCA(n_components=n_cols)\n",
    "#         pca_random.fit(random_data)\n",
    "        \n",
    "#         # 3. Store its eigenvalues\n",
    "#         random_eigenvalues[i, :] = pca_random.explained_variance_\n",
    "    \n",
    "#     # 4. Calculate the average eigenvalues across all iterations\n",
    "#     avg_random_eigenvalues = random_eigenvalues.mean(axis=0)\n",
    "#     print(\"Done.\")\n",
    "#     return avg_random_eigenvalues\n",
    "\n",
    "# # --- Run the corrected analysis ---\n",
    "# # Get eigenvalues from the REAL data (same as before)\n",
    "# pca_actual = PCA(n_components=dft1.shape[1])\n",
    "# pca_actual.fit(dft1)\n",
    "# eigenvalues = pca_actual.explained_variance_\n",
    "\n",
    "# # Get the benchmark eigenvalues from RANDOM data\n",
    "# random_eigenvalues = parallel_analysis(dft1)\n",
    "\n",
    "# # --- Plotting ---\n",
    "# plt.figure(figsize=(10, 6))\n",
    "\n",
    "# # Plot 1: Actual Eigenvalues from the data (Blue)\n",
    "# plt.plot(range(1, len(eigenvalues) + 1), eigenvalues, 'o-', color='royalblue', label='Actual Eigenvalues (from data)')\n",
    "\n",
    "# # Plot 2: Random Eigenvalues benchmark (Purple)\n",
    "# plt.plot(range(1, len(random_eigenvalues) + 1), random_eigenvalues, 'd-', color='purple', alpha=0.7, label='Random Eigenvalues (Benchmark)')\n",
    "\n",
    "# plt.title('Corrected Parallel Analysis: Actual vs. Random Eigenvalues')\n",
    "# plt.xlabel('Component Number')\n",
    "# plt.ylabel('Eigenvalue')\n",
    "# plt.legend()\n",
    "# plt.xticks(range(1, len(actual_eigenvalues) + 1))\n",
    "# plt.grid(True)\n",
    "# plt.show()\n",
    "\n",
    "# # Get the number suggested by the corrected Parallel Analysis\n",
    "# n_factors_pa_corrected = np.sum(eigenvalues > random_eigenvalues)"
   ]
  },
  {
   "cell_type": "code",
   "execution_count": 24,
   "id": "024fe6ed-5e96-44f1-a8d7-75930d633b54",
   "metadata": {},
   "outputs": [],
   "source": [
    "# # Create a DataFrame for a clear comparison\n",
    "# comparison_df = pd.DataFrame({\n",
    "#     'Component': range(1, len(eigenvalues) + 1),\n",
    "#     'Actual Eigenvalue': eigenvalues,    'Random Eigenvalue': random_eigenvalues})\n",
    "\n",
    "# # Calculate the difference\n",
    "# comparison_df['Difference'] = comparison_df['Actual Eigenvalue'] - comparison_df['Random Eigenvalue']\n",
    "\n",
    "# # Display the critical part of the table (e.g., the first 10 components)\n",
    "# print(\"--- Numerical Comparison for Parallel Analysis ---\")\n",
    "# print(comparison_df.head(10).round(3))"
   ]
  },
  {
   "cell_type": "code",
   "execution_count": 25,
   "id": "146445de-b020-4ac9-8819-ed6fb6e2e811",
   "metadata": {},
   "outputs": [],
   "source": [
    "n_components = 4\n",
    "pca = PCA(n_components=n_components)\n",
    "\n",
    "dft1 = pd.DataFrame(pca.fit_transform(dft1), index=dft1.index)"
   ]
  },
  {
   "cell_type": "code",
   "execution_count": 26,
   "id": "c8b3906a-459b-4c26-82b5-82da4e1ce5db",
   "metadata": {},
   "outputs": [],
   "source": [
    "from sklearn.cluster import KMeans, AgglomerativeClustering, Birch\n",
    "from sklearn.utils import resample\n",
    "import numpy as np\n",
    "\n",
    "# --- 1. Generate Diverse Base Partitions ---\n",
    "# We create a list to hold all the individual clustering results\n",
    "base_partitions = []\n",
    "n_ensemble_members = 30 # Total number of models in our ensemble (10 of each type)\n",
    "n_samples = dft1.shape[0]\n",
    "\n",
    "# Generate partitions using different algorithms on bootstrap samples\n",
    "# This creates the diversity needed for a good ensemble.\n",
    "for i in range(n_ensemble_members):\n",
    "    # Create a bootstrap sample (sampling with replacement)\n",
    "    bootstrap_sample_indices = resample(range(n_samples), n_samples=n_samples, random_state=i)\n",
    "    bootstrap_data = dft1.iloc[bootstrap_sample_indices]\n",
    "    \n",
    "    # Choose an algorithm based on the iteration\n",
    "    if i % 3 == 0:\n",
    "        # Use KMeans with a random number of clusters (2 or 3)\n",
    "        n_k = np.random.randint(2, 4)\n",
    "        model = KMeans(n_clusters=n_k, random_state=i, n_init='auto')\n",
    "    elif i % 3 == 1:\n",
    "        # Use Agglomerative Clustering\n",
    "        model = AgglomerativeClustering(n_clusters=2)\n",
    "    else:\n",
    "        # Use Birch\n",
    "        model = Birch(n_clusters=2)\n",
    "        \n",
    "    # Fit the model and store the labels\n",
    "    labels = model.fit_predict(bootstrap_data)\n",
    "    \n",
    "    # We need to map the labels from the bootstrap sample back to the original data's indices\n",
    "    partition = np.full(n_samples, -1, dtype=int)\n",
    "    partition[bootstrap_sample_indices] = labels\n",
    "    base_partitions.append(partition)\n",
    "\n",
    "# --- 2. Build the Co-Association Matrix ---\n",
    "# This matrix will store the similarity between each pair of data points.\n",
    "co_association_matrix = np.zeros((n_samples, n_samples))\n",
    "\n",
    "for partition in base_partitions:\n",
    "    # Get indices of points that were actually clustered (not -1)\n",
    "    active_indices = np.where(partition != -1)[0]\n",
    "    \n",
    "    # For each pair of points, if they are in the same cluster, increment their matrix entry\n",
    "    for i in range(len(active_indices)):\n",
    "        for j in range(i, len(active_indices)):\n",
    "            idx1 = active_indices[i]\n",
    "            idx2 = active_indices[j]\n",
    "            if partition[idx1] == partition[idx2]:\n",
    "                co_association_matrix[idx1, idx2] += 1\n",
    "                co_association_matrix[idx2, idx1] += 1 # Matrix is symmetric\n",
    "\n",
    "# Normalize the matrix to get similarity scores between 0 and 1\n",
    "# This becomes our final similarity matrix for the last clustering step.\n",
    "similarity_matrix = co_association_matrix / n_ensemble_members\n",
    "\n",
    "# --- 3. Perform Final Clustering ---\n",
    "# Use Agglomerative Clustering with the precomputed similarity matrix.\n",
    "# This algorithm is ideal for grouping items based on a similarity graph.\n",
    "final_clustering = AgglomerativeClustering(\n",
    "    n_clusters=2,\n",
    "    metric='precomputed',\n",
    "    linkage='average' # 'average' linkage is often a good choice for this method\n",
    ")\n",
    "\n",
    "ensemble_labels = final_clustering.fit_predict(1 - similarity_matrix) # Needs dissimilarity\n",
    "\n",
    "# --- 4. Assign Final Labels ---\n",
    "dft1['Personality'] = ensemble_labels\n",
    "\n",
    "# The cluster labels (0 and 1) are arbitrary. We need to assign them logically.\n",
    "# We'll assume the larger cluster corresponds to 'Extrovert', which is a common pattern.\n",
    "extrovert_label = dft1['Personality'].value_counts().idxmax()\n",
    "introvert_label = 1 - extrovert_label\n",
    "\n",
    "dft1['Personality'] = dft1['Personality'].map({\n",
    "    extrovert_label: 'Extrovert',\n",
    "    introvert_label: 'Introvert'\n",
    "})"
   ]
  },
  {
   "cell_type": "code",
   "execution_count": 27,
   "id": "1b1be294-c80d-448c-87a4-8874eb68089d",
   "metadata": {},
   "outputs": [
    {
     "data": {
      "text/plain": [
       "Personality\n",
       "Extrovert    4602\n",
       "Introvert    1573\n",
       "Name: count, dtype: int64"
      ]
     },
     "execution_count": 27,
     "metadata": {},
     "output_type": "execute_result"
    }
   ],
   "source": [
    "dft1['Personality'].value_counts()"
   ]
  },
  {
   "cell_type": "code",
   "execution_count": null,
   "id": "059f2f3b-8c20-4419-a1fd-66b90a146b41",
   "metadata": {},
   "outputs": [],
   "source": []
  },
  {
   "cell_type": "code",
   "execution_count": 28,
   "id": "06bd486b-9b5c-43ff-b6eb-12d240a70c43",
   "metadata": {},
   "outputs": [],
   "source": [
    "submission_df = pd.DataFrame({\n",
    "    'id': dft['id'],\n",
    "    'Personality': dft1['Personality']\n",
    "})"
   ]
  },
  {
   "cell_type": "code",
   "execution_count": 29,
   "id": "32f747ad-cae2-4ef6-8110-5fb8220012d4",
   "metadata": {},
   "outputs": [],
   "source": [
    "submission_df.to_csv('submission.csv', index=False)"
   ]
  },
  {
   "cell_type": "code",
   "execution_count": 30,
   "id": "38ad5f16-be12-44a0-b3c8-24b1905c17e1",
   "metadata": {},
   "outputs": [],
   "source": [
    "# Personality\n",
    "# Extrovert    4617\n",
    "# Introvert    1558\n",
    "# Name: count, dtype: int64"
   ]
  },
  {
   "cell_type": "code",
   "execution_count": null,
   "id": "f8b34dfb-00a7-40cc-b8c9-0c7f64f01f0e",
   "metadata": {},
   "outputs": [],
   "source": []
  }
 ],
 "metadata": {
  "kernelspec": {
   "display_name": "Python 3 (ipykernel)",
   "language": "python",
   "name": "python3"
  },
  "language_info": {
   "codemirror_mode": {
    "name": "ipython",
    "version": 3
   },
   "file_extension": ".py",
   "mimetype": "text/x-python",
   "name": "python",
   "nbconvert_exporter": "python",
   "pygments_lexer": "ipython3",
   "version": "3.11.9"
  }
 },
 "nbformat": 4,
 "nbformat_minor": 5
}
