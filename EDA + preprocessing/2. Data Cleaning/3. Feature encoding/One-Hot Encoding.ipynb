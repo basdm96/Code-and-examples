{
 "cells": [
  {
   "cell_type": "code",
   "execution_count": 1,
   "id": "7f78c5f4-3226-4b80-9e3e-d5a105f72281",
   "metadata": {},
   "outputs": [],
   "source": [
    "import pandas as pd\n",
    "from sklearn.datasets import load_iris\n",
    "\n",
    "\n",
    "\n"
   ]
  },
  {
   "cell_type": "code",
   "execution_count": 2,
   "id": "13946e90-bd2f-4961-966a-467d89a4b6eb",
   "metadata": {},
   "outputs": [],
   "source": [
    "# --- When to Use One-Hot Encoding ---\n",
    "# One-hot encoding is used to convert categorical variables into a numerical format\n",
    "# that can be provided to machine learning algorithms to improve predictions.\n",
    "#\n",
    "# It should be used when:\n",
    "# 1. The categorical data is nominal, meaning the categories do not have a natural order\n",
    "#    or rank (e.g., 'Red', 'Green', 'Blue').\n",
    "# 2. You are using a model that does not inherently handle categorical data or might\n",
    "#    misinterpret ordered integers (e.g., Linear Regression, Logistic Regression, SVMs).\n",
    "#\n",
    "# --- Requirements ---\n",
    "# The input data for one-hot encoding should be a categorical feature, typically\n",
    "# represented as strings or integers that stand for different categories.\n",
    "\n"
   ]
  },
  {
   "cell_type": "code",
   "execution_count": 3,
   "id": "b9f890e0-a3ba-488d-8ea3-d1a216f4fa52",
   "metadata": {},
   "outputs": [
    {
     "name": "stdout",
     "output_type": "stream",
     "text": [
      "--- Original DataFrame (Head) ---\n",
      "   sepal length (cm)  sepal width (cm)  petal length (cm)  petal width (cm)  \\\n",
      "0                5.1               3.5                1.4               0.2   \n",
      "1                4.9               3.0                1.4               0.2   \n",
      "2                4.7               3.2                1.3               0.2   \n",
      "3                4.6               3.1                1.5               0.2   \n",
      "4                5.0               3.6                1.4               0.2   \n",
      "\n",
      "   species_id species_name  \n",
      "0           0       setosa  \n",
      "1           0       setosa  \n",
      "2           0       setosa  \n",
      "3           0       setosa  \n",
      "4           0       setosa  \n",
      "\n",
      "Value counts of the original 'species_name' column:\n",
      "species_name\n",
      "setosa        50\n",
      "versicolor    50\n",
      "virginica     50\n",
      "Name: count, dtype: int64\n"
     ]
    }
   ],
   "source": [
    "# 1. Load a Sample Dataset\n",
    "# We'll use the famous Iris dataset from scikit-learn. It's a simple dataset\n",
    "# containing information about different species of iris flowers.\n",
    "iris = load_iris()\n",
    "# Convert the data to a pandas DataFrame for easier manipulation.\n",
    "# The 'target' column contains the species of each flower as an integer (0, 1, 2).\n",
    "iris_df = pd.DataFrame(data=iris.data, columns=iris.feature_names)\n",
    "iris_df['species_id'] = iris.target\n",
    "\n",
    "# For demonstration purposes, let's map the integer target to string names\n",
    "# to make the categorical nature more explicit.\n",
    "species_map = {0: 'setosa', 1: 'versicolor', 2: 'virginica'}\n",
    "iris_df['species_name'] = iris_df['species_id'].map(species_map)\n",
    "\n",
    "print(\"--- Original DataFrame (Head) ---\")\n",
    "print(iris_df.head())\n",
    "print(\"\\nValue counts of the original 'species_name' column:\")\n",
    "print(iris_df['species_name'].value_counts())\n",
    "\n",
    "\n"
   ]
  },
  {
   "cell_type": "code",
   "execution_count": 4,
   "id": "82c65563-ec56-4790-8542-642af3616ba0",
   "metadata": {},
   "outputs": [],
   "source": [
    "# 2. Select the Feature to Encode\n",
    "# We will apply one-hot encoding to the 'species_name' column. This column is\n",
    "# nominal categorical data, making it a perfect candidate for this technique.\n",
    "# --- Why not just use the 'species_id' column? ---\n",
    "# Although 'species_id' contains numbers (0, 1, 2), using it directly can be misleading.\n",
    "# Many models would incorrectly assume that the species have a mathematical relationship\n",
    "# or order (e.g., that 'virginica' (2) is twice the value of 'versicolor' (1)).\n",
    "# This is not true; the categories are nominal (no inherent order).\n",
    "# One-hot encoding avoids this problem by converting each category into a separate\n",
    "# binary feature, removing any false sense of order and allowing the model to treat\n",
    "# each species independently.\n"
   ]
  },
  {
   "cell_type": "code",
   "execution_count": 5,
   "id": "6a52dc1a-2414-4e1f-badf-ff0a523283fd",
   "metadata": {},
   "outputs": [],
   "source": [
    "# 3. Apply One-Hot Encoding\n",
    "# We use the pandas `get_dummies()` function, which is a very convenient way\n",
    "# to perform one-hot encoding. It creates a new binary column for each unique\n",
    "# category in the specified column.\n",
    "# The `prefix` argument helps in naming the new columns clearly.\n",
    "one_hot_encoded_df = pd.get_dummies(iris_df, columns=['species_name'], prefix='species', dtype=int)\n",
    "\n"
   ]
  },
  {
   "cell_type": "code",
   "execution_count": 6,
   "id": "ec342144-f1f0-4f7d-a5b2-12623f8976d0",
   "metadata": {},
   "outputs": [
    {
     "name": "stdout",
     "output_type": "stream",
     "text": [
      "\n",
      "\n",
      "--- DataFrame after One-Hot Encoding (Head) ---\n",
      "   sepal length (cm)  sepal width (cm)  petal length (cm)  petal width (cm)  \\\n",
      "0                5.1               3.5                1.4               0.2   \n",
      "1                4.9               3.0                1.4               0.2   \n",
      "2                4.7               3.2                1.3               0.2   \n",
      "3                4.6               3.1                1.5               0.2   \n",
      "4                5.0               3.6                1.4               0.2   \n",
      "\n",
      "   species_id  species_setosa  species_versicolor  species_virginica  \n",
      "0           0               1                   0                  0  \n",
      "1           0               1                   0                  0  \n",
      "2           0               1                   0                  0  \n",
      "3           0               1                   0                  0  \n",
      "4           0               1                   0                  0  \n",
      "\n",
      "\n",
      "--- DataFrame after One-Hot Encoding (Tail, to show other species) ---\n",
      "     sepal length (cm)  sepal width (cm)  petal length (cm)  petal width (cm)  \\\n",
      "145                6.7               3.0                5.2               2.3   \n",
      "146                6.3               2.5                5.0               1.9   \n",
      "147                6.5               3.0                5.2               2.0   \n",
      "148                6.2               3.4                5.4               2.3   \n",
      "149                5.9               3.0                5.1               1.8   \n",
      "\n",
      "     species_id  species_setosa  species_versicolor  species_virginica  \n",
      "145           2               0                   0                  1  \n",
      "146           2               0                   0                  1  \n",
      "147           2               0                   0                  1  \n",
      "148           2               0                   0                  1  \n",
      "149           2               0                   0                  1  \n"
     ]
    }
   ],
   "source": [
    "# 4. Show the Result\n",
    "# The original 'species_name' column is replaced by three new columns:\n",
    "# 'species_setosa', 'species_versicolor', and 'species_virginica'.\n",
    "# For each row, only one of these new columns will have a value of 1, indicating\n",
    "# the species of that flower, while the others will be 0.\n",
    "\n",
    "print(\"\\n\\n--- DataFrame after One-Hot Encoding (Head) ---\")\n",
    "print(one_hot_encoded_df.head())\n",
    "\n",
    "print(\"\\n\\n--- DataFrame after One-Hot Encoding (Tail, to show other species) ---\")\n",
    "# Displaying the tail to show rows where other species are encoded.\n",
    "print(one_hot_encoded_df.tail())\n",
    "\n"
   ]
  },
  {
   "cell_type": "code",
   "execution_count": null,
   "id": "b5d9b8dc-0975-446d-8f17-1102b525d22e",
   "metadata": {},
   "outputs": [],
   "source": []
  },
  {
   "cell_type": "code",
   "execution_count": null,
   "id": "4a6e5096-dc75-4e68-9411-61d4710d006c",
   "metadata": {},
   "outputs": [],
   "source": []
  },
  {
   "cell_type": "code",
   "execution_count": null,
   "id": "7e5c4583-8c16-48b4-8f78-b0a1a5fc624a",
   "metadata": {},
   "outputs": [],
   "source": []
  },
  {
   "cell_type": "code",
   "execution_count": null,
   "id": "9612694a-0d20-4c9c-b6bd-9a5a422d954f",
   "metadata": {},
   "outputs": [],
   "source": []
  },
  {
   "cell_type": "code",
   "execution_count": null,
   "id": "5159fe29-43e1-4bf0-b206-45db1b3620ae",
   "metadata": {},
   "outputs": [],
   "source": []
  },
  {
   "cell_type": "code",
   "execution_count": null,
   "id": "7e24127d-2990-4f3c-b1e8-259e26e9b744",
   "metadata": {},
   "outputs": [],
   "source": []
  }
 ],
 "metadata": {
  "kernelspec": {
   "display_name": "Python 3 (ipykernel)",
   "language": "python",
   "name": "python3"
  },
  "language_info": {
   "codemirror_mode": {
    "name": "ipython",
    "version": 3
   },
   "file_extension": ".py",
   "mimetype": "text/x-python",
   "name": "python",
   "nbconvert_exporter": "python",
   "pygments_lexer": "ipython3",
   "version": "3.11.9"
  }
 },
 "nbformat": 4,
 "nbformat_minor": 5
}
