{
 "cells": [
  {
   "cell_type": "code",
   "execution_count": 1,
   "id": "7114b705-400a-46e0-98a4-5bcf96f214d7",
   "metadata": {},
   "outputs": [],
   "source": [
    "import numpy as np\n",
    "import pandas as pd\n",
    "from sklearn.preprocessing import StandardScaler\n",
    "from sklearn.decomposition import PCA\n",
    "import matplotlib.pyplot as plt\n",
    "import seaborn as sns\n",
    "from sklearn.metrics import mean_squared_error"
   ]
  },
  {
   "cell_type": "code",
   "execution_count": 2,
   "id": "aa189955-7713-4948-b541-0c2422fa20cb",
   "metadata": {},
   "outputs": [],
   "source": [
    "df = pd.read_csv(r\"C:\\Users\\basde\\Downloads\\playground-series-s3e24\\train.csv\")"
   ]
  },
  {
   "cell_type": "code",
   "execution_count": 3,
   "id": "69dd66e7-e81c-4caa-95c4-e8bec6759222",
   "metadata": {},
   "outputs": [],
   "source": [
    "X = df.drop(['id', 'smoking'], axis=1)\n",
    "y = df['smoking']"
   ]
  },
  {
   "cell_type": "code",
   "execution_count": 4,
   "id": "1dbd0f24-d1f9-40ae-883d-8d9a6bc6187a",
   "metadata": {},
   "outputs": [],
   "source": [
    "scaler = StandardScaler()\n",
    "X_scaled = scaler.fit_transform(X)"
   ]
  },
  {
   "cell_type": "code",
   "execution_count": 5,
   "id": "39b37417-d99d-473e-9866-6dd26d800a70",
   "metadata": {},
   "outputs": [
    {
     "name": "stdout",
     "output_type": "stream",
     "text": [
      "\n",
      "Principal Components DataFrame (first 5 rows, 8 PCs):\n",
      "       PC_1      PC_2      PC_3      PC_4      PC_5      PC_6      PC_7  \\\n",
      "0  0.960143  0.976923 -1.956298 -1.071300 -0.563011 -1.561063  0.428796   \n",
      "1  0.210887  5.274566 -5.520988  1.706747  4.835730  3.137934 -1.676118   \n",
      "2  1.263916 -1.114100 -0.646922  0.636022 -0.274310 -1.621167 -1.240356   \n",
      "3  3.950327 -1.182368 -0.866905 -1.698953  0.724084  0.162398 -0.474352   \n",
      "4 -0.591412 -1.983237 -0.888322 -0.829224 -0.001653  0.348551  0.475405   \n",
      "\n",
      "       PC_8  is_anomaly  \n",
      "0 -0.283878           1  \n",
      "1 -0.393582           0  \n",
      "2 -0.307351           1  \n",
      "3 -1.085726           0  \n",
      "4 -0.107668           1  \n",
      "\n",
      "Explained Variance Ratio for each component:\n",
      "[0.20445065 0.10619703 0.08149305 0.06827215 0.06585984 0.05953544\n",
      " 0.04920546 0.04593811]\n",
      "\n",
      "Cumulative Explained Variance:\n",
      "0.680951740434719\n"
     ]
    }
   ],
   "source": [
    "# Initialize PCA with the optimal number of components\n",
    "n_components = 8  # From parallel analysis\n",
    "pca = PCA(n_components=n_components)\n",
    "\n",
    "# Fit PCA to the scaled data and transform it\n",
    "principal_components = pca.fit_transform(X_scaled)\n",
    "\n",
    "# Create a DataFrame for the principal components\n",
    "pca_df = pd.DataFrame(data=principal_components,\n",
    "                      columns=[f'PC_{i+1}' for i in range(n_components)])\n",
    "\n",
    "# Add the anomaly label back for analysis\n",
    "pca_df['is_anomaly'] = y.values\n",
    "\n",
    "print(f\"\\nPrincipal Components DataFrame (first 5 rows, {n_components} PCs):\")\n",
    "print(pca_df.head())\n",
    "\n",
    "print(\"\\nExplained Variance Ratio for each component:\")\n",
    "print(pca.explained_variance_ratio_)\n",
    "\n",
    "print(\"\\nCumulative Explained Variance:\")\n",
    "print(np.sum(pca.explained_variance_ratio_))"
   ]
  },
  {
   "cell_type": "code",
   "execution_count": null,
   "id": "6e45cebf-0058-4171-963b-d0d3b8dffe08",
   "metadata": {},
   "outputs": [],
   "source": [
    "# Anomaly Detection with PCA"
   ]
  },
  {
   "cell_type": "code",
   "execution_count": 6,
   "id": "fcf084f2-d2be-4cf7-a861-41d429c1fa5c",
   "metadata": {},
   "outputs": [
    {
     "ename": "KeyError",
     "evalue": "'is_anomaly'",
     "output_type": "error",
     "traceback": [
      "\u001b[1;31m---------------------------------------------------------------------------\u001b[0m",
      "\u001b[1;31mKeyError\u001b[0m                                  Traceback (most recent call last)",
      "File \u001b[1;32m~\\AppData\\Local\\Programs\\Python\\Python311\\Lib\\site-packages\\pandas\\core\\indexes\\base.py:3805\u001b[0m, in \u001b[0;36mIndex.get_loc\u001b[1;34m(self, key)\u001b[0m\n\u001b[0;32m   3804\u001b[0m \u001b[38;5;28;01mtry\u001b[39;00m:\n\u001b[1;32m-> 3805\u001b[0m     \u001b[38;5;28;01mreturn\u001b[39;00m \u001b[38;5;28;43mself\u001b[39;49m\u001b[38;5;241;43m.\u001b[39;49m\u001b[43m_engine\u001b[49m\u001b[38;5;241;43m.\u001b[39;49m\u001b[43mget_loc\u001b[49m\u001b[43m(\u001b[49m\u001b[43mcasted_key\u001b[49m\u001b[43m)\u001b[49m\n\u001b[0;32m   3806\u001b[0m \u001b[38;5;28;01mexcept\u001b[39;00m \u001b[38;5;167;01mKeyError\u001b[39;00m \u001b[38;5;28;01mas\u001b[39;00m err:\n",
      "File \u001b[1;32mindex.pyx:167\u001b[0m, in \u001b[0;36mpandas._libs.index.IndexEngine.get_loc\u001b[1;34m()\u001b[0m\n",
      "File \u001b[1;32mindex.pyx:196\u001b[0m, in \u001b[0;36mpandas._libs.index.IndexEngine.get_loc\u001b[1;34m()\u001b[0m\n",
      "File \u001b[1;32mpandas\\\\_libs\\\\hashtable_class_helper.pxi:7081\u001b[0m, in \u001b[0;36mpandas._libs.hashtable.PyObjectHashTable.get_item\u001b[1;34m()\u001b[0m\n",
      "File \u001b[1;32mpandas\\\\_libs\\\\hashtable_class_helper.pxi:7089\u001b[0m, in \u001b[0;36mpandas._libs.hashtable.PyObjectHashTable.get_item\u001b[1;34m()\u001b[0m\n",
      "\u001b[1;31mKeyError\u001b[0m: 'is_anomaly'",
      "\nThe above exception was the direct cause of the following exception:\n",
      "\u001b[1;31mKeyError\u001b[0m                                  Traceback (most recent call last)",
      "Cell \u001b[1;32mIn[6], line 26\u001b[0m\n\u001b[0;32m     24\u001b[0m plt\u001b[38;5;241m.\u001b[39mxlabel(\u001b[38;5;124m'\u001b[39m\u001b[38;5;124mReconstruction Error\u001b[39m\u001b[38;5;124m'\u001b[39m)\n\u001b[0;32m     25\u001b[0m plt\u001b[38;5;241m.\u001b[39mylabel(\u001b[38;5;124m'\u001b[39m\u001b[38;5;124mFrequency\u001b[39m\u001b[38;5;124m'\u001b[39m)\n\u001b[1;32m---> 26\u001b[0m plt\u001b[38;5;241m.\u001b[39maxvline(x\u001b[38;5;241m=\u001b[39mdf\u001b[38;5;241m.\u001b[39mloc[\u001b[43mdf\u001b[49m\u001b[43m[\u001b[49m\u001b[38;5;124;43m'\u001b[39;49m\u001b[38;5;124;43mis_anomaly\u001b[39;49m\u001b[38;5;124;43m'\u001b[39;49m\u001b[43m]\u001b[49m, \u001b[38;5;124m'\u001b[39m\u001b[38;5;124mreconstruction_error\u001b[39m\u001b[38;5;124m'\u001b[39m]\u001b[38;5;241m.\u001b[39mmean(), color\u001b[38;5;241m=\u001b[39m\u001b[38;5;124m'\u001b[39m\u001b[38;5;124mred\u001b[39m\u001b[38;5;124m'\u001b[39m, linestyle\u001b[38;5;241m=\u001b[39m\u001b[38;5;124m'\u001b[39m\u001b[38;5;124m--\u001b[39m\u001b[38;5;124m'\u001b[39m, label\u001b[38;5;241m=\u001b[39m\u001b[38;5;124m'\u001b[39m\u001b[38;5;124mMean Anomaly Error\u001b[39m\u001b[38;5;124m'\u001b[39m)\n\u001b[0;32m     27\u001b[0m plt\u001b[38;5;241m.\u001b[39mlegend()\n\u001b[0;32m     28\u001b[0m plt\u001b[38;5;241m.\u001b[39mshow()\n",
      "File \u001b[1;32m~\\AppData\\Local\\Programs\\Python\\Python311\\Lib\\site-packages\\pandas\\core\\frame.py:4102\u001b[0m, in \u001b[0;36mDataFrame.__getitem__\u001b[1;34m(self, key)\u001b[0m\n\u001b[0;32m   4100\u001b[0m \u001b[38;5;28;01mif\u001b[39;00m \u001b[38;5;28mself\u001b[39m\u001b[38;5;241m.\u001b[39mcolumns\u001b[38;5;241m.\u001b[39mnlevels \u001b[38;5;241m>\u001b[39m \u001b[38;5;241m1\u001b[39m:\n\u001b[0;32m   4101\u001b[0m     \u001b[38;5;28;01mreturn\u001b[39;00m \u001b[38;5;28mself\u001b[39m\u001b[38;5;241m.\u001b[39m_getitem_multilevel(key)\n\u001b[1;32m-> 4102\u001b[0m indexer \u001b[38;5;241m=\u001b[39m \u001b[38;5;28;43mself\u001b[39;49m\u001b[38;5;241;43m.\u001b[39;49m\u001b[43mcolumns\u001b[49m\u001b[38;5;241;43m.\u001b[39;49m\u001b[43mget_loc\u001b[49m\u001b[43m(\u001b[49m\u001b[43mkey\u001b[49m\u001b[43m)\u001b[49m\n\u001b[0;32m   4103\u001b[0m \u001b[38;5;28;01mif\u001b[39;00m is_integer(indexer):\n\u001b[0;32m   4104\u001b[0m     indexer \u001b[38;5;241m=\u001b[39m [indexer]\n",
      "File \u001b[1;32m~\\AppData\\Local\\Programs\\Python\\Python311\\Lib\\site-packages\\pandas\\core\\indexes\\base.py:3812\u001b[0m, in \u001b[0;36mIndex.get_loc\u001b[1;34m(self, key)\u001b[0m\n\u001b[0;32m   3807\u001b[0m     \u001b[38;5;28;01mif\u001b[39;00m \u001b[38;5;28misinstance\u001b[39m(casted_key, \u001b[38;5;28mslice\u001b[39m) \u001b[38;5;129;01mor\u001b[39;00m (\n\u001b[0;32m   3808\u001b[0m         \u001b[38;5;28misinstance\u001b[39m(casted_key, abc\u001b[38;5;241m.\u001b[39mIterable)\n\u001b[0;32m   3809\u001b[0m         \u001b[38;5;129;01mand\u001b[39;00m \u001b[38;5;28many\u001b[39m(\u001b[38;5;28misinstance\u001b[39m(x, \u001b[38;5;28mslice\u001b[39m) \u001b[38;5;28;01mfor\u001b[39;00m x \u001b[38;5;129;01min\u001b[39;00m casted_key)\n\u001b[0;32m   3810\u001b[0m     ):\n\u001b[0;32m   3811\u001b[0m         \u001b[38;5;28;01mraise\u001b[39;00m InvalidIndexError(key)\n\u001b[1;32m-> 3812\u001b[0m     \u001b[38;5;28;01mraise\u001b[39;00m \u001b[38;5;167;01mKeyError\u001b[39;00m(key) \u001b[38;5;28;01mfrom\u001b[39;00m \u001b[38;5;21;01merr\u001b[39;00m\n\u001b[0;32m   3813\u001b[0m \u001b[38;5;28;01mexcept\u001b[39;00m \u001b[38;5;167;01mTypeError\u001b[39;00m:\n\u001b[0;32m   3814\u001b[0m     \u001b[38;5;66;03m# If we have a listlike key, _check_indexing_error will raise\u001b[39;00m\n\u001b[0;32m   3815\u001b[0m     \u001b[38;5;66;03m#  InvalidIndexError. Otherwise we fall through and re-raise\u001b[39;00m\n\u001b[0;32m   3816\u001b[0m     \u001b[38;5;66;03m#  the TypeError.\u001b[39;00m\n\u001b[0;32m   3817\u001b[0m     \u001b[38;5;28mself\u001b[39m\u001b[38;5;241m.\u001b[39m_check_indexing_error(key)\n",
      "\u001b[1;31mKeyError\u001b[0m: 'is_anomaly'"
     ]
    },
    {
     "data": {
      "image/png": "[encoded data removed]",
      "text/plain": [
       "<Figure size 1000x600 with 1 Axes>"
      ]
     },
     "metadata": {},
     "output_type": "display_data"
    }
   ],
   "source": [
    "# Reconstruction Error (Most Common)\n",
    "\n",
    "# Transform data to PC space (already done: principal_components)\n",
    "\n",
    "# Reconstruct data from PC space back to the original feature space\n",
    "# 1. Transform principal components back to scaled original space\n",
    "X_projected_scaled = pca.inverse_transform(principal_components)\n",
    "\n",
    "# 2. Inverse transform from scaled space back to original units (if needed for interpretation,\n",
    "#    but for error calculation, scaled-to-scaled is sufficient and often preferred)\n",
    "#    X_reconstructed = scaler.inverse_transform(X_projected_scaled)\n",
    "\n",
    "# Calculate reconstruction error (Mean Squared Error per sample)\n",
    "reconstruction_errors = np.array([mean_squared_error(X_scaled[i, :], X_projected_scaled[i, :])\n",
    "                                   for i in range(X_scaled.shape[0])])\n",
    "\n",
    "# Add reconstruction errors to the original DataFrame\n",
    "df['reconstruction_error'] = reconstruction_errors\n",
    "\n",
    "# Visualize reconstruction errors\n",
    "plt.figure(figsize=(10, 6))\n",
    "sns.histplot(df['reconstruction_error'], bins=50, kde=True)\n",
    "plt.title('Distribution of Reconstruction Errors')\n",
    "plt.xlabel('Reconstruction Error')\n",
    "plt.ylabel('Frequency')\n",
    "plt.axvline(x=df.loc[df['is_anomaly'], 'reconstruction_error'].mean(), color='red', linestyle='--', label='Mean Anomaly Error')\n",
    "plt.legend()\n",
    "plt.show()\n",
    "\n",
    "# Set a threshold for anomaly detection (e.g., based on quantile or standard deviation)\n",
    "# A common approach is to use the 95th or 99th percentile of reconstruction errors from normal data.\n",
    "# For demonstration, let's use a simple multiplier of the mean or a high percentile.\n",
    "\n",
    "# Using a percentile threshold\n",
    "threshold_percentile = 99.5\n",
    "threshold = np.percentile(df['reconstruction_error'], threshold_percentile)\n",
    "\n",
    "# Identify anomalies based on the threshold\n",
    "df['is_anomaly_detected_reconstruction'] = df['reconstruction_error'] > threshold\n",
    "\n",
    "print(f\"\\nReconstruction Error Threshold (P{threshold_percentile}): {threshold:.4f}\")\n",
    "print(\"Anomalies detected by reconstruction error:\")\n",
    "print(df['is_anomaly_detected_reconstruction'].value_counts())\n",
    "\n",
    "# Evaluate performance (Optional, as we have true labels in this synthetic example)\n",
    "from sklearn.metrics import confusion_matrix, classification_report\n",
    "print(\"\\nConfusion Matrix (Reconstruction Error):\")\n",
    "print(confusion_matrix(df['is_anomaly'], df['is_anomaly_detected_reconstruction']))\n",
    "print(\"\\nClassification Report (Reconstruction Error):\")\n",
    "print(classification_report(df['is_anomaly'], df['is_anomaly_detected_reconstruction']))\n",
    "\n",
    "# Visualize true anomalies vs. detected anomalies based on reconstruction error\n",
    "plt.figure(figsize=(12, 7))\n",
    "sns.scatterplot(x=np.arange(len(df)), y=df['reconstruction_error'], hue=df['is_anomaly'].astype(str),\n",
    "                style=df['is_anomaly_detected_reconstruction'].astype(str), palette='viridis', s=50)\n",
    "plt.axhline(y=threshold, color='red', linestyle='--', label=f'Threshold ({threshold_percentile}th percentile)')\n",
    "plt.title('Reconstruction Error for True Anomalies vs. Detected Anomalies')\n",
    "plt.xlabel('Sample Index')\n",
    "plt.ylabel('Reconstruction Error')\n",
    "plt.legend(title='True Anomaly / Detected Anomaly')\n",
    "plt.grid(True)\n",
    "plt.show()"
   ]
  },
  {
   "cell_type": "code",
   "execution_count": null,
   "id": "e99ce527-c3bf-459c-949f-3de2951ee4fe",
   "metadata": {},
   "outputs": [],
   "source": []
  }
 ],
 "metadata": {
  "kernelspec": {
   "display_name": "Python 3 (ipykernel)",
   "language": "python",
   "name": "python3"
  },
  "language_info": {
   "codemirror_mode": {
    "name": "ipython",
    "version": 3
   },
   "file_extension": ".py",
   "mimetype": "text/x-python",
   "name": "python",
   "nbconvert_exporter": "python",
   "pygments_lexer": "ipython3",
   "version": "3.11.9"
  }
 },
 "nbformat": 4,
 "nbformat_minor": 5
}
