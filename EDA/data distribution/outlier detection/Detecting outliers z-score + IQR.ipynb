{
 "cells": [
  {
   "cell_type": "code",
   "execution_count": 1,
   "id": "b0a2f7fd-906b-4ff0-9481-5106bd3adbf6",
   "metadata": {},
   "outputs": [],
   "source": [
    "import pandas as pd\n",
    "import numpy as np\n",
    "from scipy import stats"
   ]
  },
  {
   "cell_type": "code",
   "execution_count": 2,
   "id": "ab55207a-e3a0-41ca-9a63-620bb25ca72e",
   "metadata": {},
   "outputs": [],
   "source": [
    "train = pd.read_csv(r\"C:\\Users\\basde\\Downloads\\playground-series-s3e24\\train.csv\")"
   ]
  },
  {
   "cell_type": "code",
   "execution_count": 3,
   "id": "32d6d739-4d6f-42c6-8d5a-5989183d3c9a",
   "metadata": {},
   "outputs": [
    {
     "name": "stdout",
     "output_type": "stream",
     "text": [
      "--- Outliers using Z-Score ---\n"
     ]
    }
   ],
   "source": [
    "print(\"--- Outliers using Z-Score ---\")"
   ]
  },
  {
   "cell_type": "code",
   "execution_count": 5,
   "id": "31dbc923-165e-41a5-a07a-95d1b936527a",
   "metadata": {},
   "outputs": [],
   "source": [
    "numeric_cols = train.select_dtypes(include=np.number).columns\n",
    "z_scores = np.abs(stats.zscore(train[numeric_cols]))"
   ]
  },
  {
   "cell_type": "code",
   "execution_count": 8,
   "id": "43d93411-140f-498d-81b1-fa4b9d1f0b29",
   "metadata": {},
   "outputs": [],
   "source": [
    "threshold = 3"
   ]
  },
  {
   "cell_type": "code",
   "execution_count": 10,
   "id": "94694c51-d41e-4ef7-82f7-41ff8fb6c4b3",
   "metadata": {},
   "outputs": [],
   "source": [
    "is_outlier_z = pd.DataFrame(z_scores > threshold, index=train.index, columns=numeric_cols)"
   ]
  },
  {
   "cell_type": "code",
   "execution_count": 12,
   "id": "5dd42dea-4b4d-49f2-8670-85244bcbc8a0",
   "metadata": {},
   "outputs": [],
   "source": [
    "outlier_rows_z = train[is_outlier_z.any(axis=1)]"
   ]
  },
  {
   "cell_type": "code",
   "execution_count": 13,
   "id": "64963b22-3caa-4ddb-9602-4ebd781db40d",
   "metadata": {},
   "outputs": [
    {
     "name": "stdout",
     "output_type": "stream",
     "text": [
      "\n",
      "Rows containing outliers (Z-Score):\n",
      "            id  age  height(cm)  weight(kg)  waist(cm)  eyesight(left)  \\\n",
      "1            1   70         165          65       89.0             0.6   \n",
      "5            5   50         170          55       51.0             1.2   \n",
      "7            7   55         155          60       84.5             0.7   \n",
      "10          10   40         155          50       68.0             0.8   \n",
      "16          16   40         160          65       78.0             1.2   \n",
      "...        ...  ...         ...         ...        ...             ...   \n",
      "159182  159182   40         160          55       75.0             1.2   \n",
      "159196  159196   65         150          60       80.0             0.5   \n",
      "159209  159209   40         160          70       82.9             1.5   \n",
      "159212  159212   50         170          65       88.0             1.5   \n",
      "159230  159230   35         175         100      104.0             1.2   \n",
      "\n",
      "        eyesight(right)  hearing(left)  hearing(right)  systolic  ...  HDL  \\\n",
      "1                   0.7              2               2       146  ...   57   \n",
      "5                   1.2              1               1       146  ...   31   \n",
      "7                   0.9              1               1       137  ...   51   \n",
      "10                  0.6              1               1       107  ...   48   \n",
      "16                  1.0              1               1       130  ...   71   \n",
      "...                 ...            ...             ...       ...  ...  ...   \n",
      "159182              1.2              2               1       142  ...   54   \n",
      "159196              0.6              1               2       125  ...   61   \n",
      "159209              0.8              1               1       118  ...   99   \n",
      "159212              1.0              1               1       131  ...   57   \n",
      "159230              1.2              1               1       136  ...   44   \n",
      "\n",
      "        LDL  hemoglobin  Urine protein  serum creatinine  AST  ALT  Gtp  \\\n",
      "1       126        16.2              1               1.1   27   23   37   \n",
      "5        99        15.9              1               0.7   24   42  119   \n",
      "7       198        14.5              1               0.7   16   15   16   \n",
      "10      101        12.9              3               0.7   17   11    8   \n",
      "16      141         8.6              1               0.8   16   12   11   \n",
      "...     ...         ...            ...               ...  ...  ...  ...   \n",
      "159182  126        12.6              1               0.7   26   20    9   \n",
      "159196  152        12.7              1               0.6   22   25   17   \n",
      "159209   87        13.3              1               0.8   18   19   13   \n",
      "159212  109        17.5              1               0.8   35   47  130   \n",
      "159230   93        18.6              1               1.1   69  102   96   \n",
      "\n",
      "        dental caries  smoking  \n",
      "1                   1        0  \n",
      "5                   1        1  \n",
      "7                   0        0  \n",
      "10                  0        0  \n",
      "16                  0        0  \n",
      "...               ...      ...  \n",
      "159182              0        0  \n",
      "159196              0        0  \n",
      "159209              0        0  \n",
      "159212              0        1  \n",
      "159230              0        1  \n",
      "\n",
      "[20381 rows x 24 columns]\n"
     ]
    }
   ],
   "source": [
    "print(\"\\nRows containing outliers (Z-Score):\")\n",
    "print(outlier_rows_z)"
   ]
  },
  {
   "cell_type": "code",
   "execution_count": 16,
   "id": "98d785de-78d0-4620-a2e2-2807e3c786e7",
   "metadata": {},
   "outputs": [
    {
     "name": "stdout",
     "output_type": "stream",
     "text": [
      "\n",
      "Specific outlier values (Z-Score > 3):\n",
      "1       hearing(left)            2.0\n",
      "        hearing(right)           2.0\n",
      "        fasting blood sugar    147.0\n",
      "5       waist(cm)               51.0\n",
      "        triglyceride           343.0\n",
      "                               ...  \n",
      "159209  HDL                     99.0\n",
      "159212  Gtp                    130.0\n",
      "159230  fasting blood sugar    151.0\n",
      "        AST                     69.0\n",
      "        ALT                    102.0\n",
      "Length: 26288, dtype: float64\n"
     ]
    }
   ],
   "source": [
    "print(\"\\nSpecific outlier values (Z-Score > 3):\")\n",
    "outlier_values_z = train[numeric_cols][is_outlier_z].stack()\n",
    "if outlier_values_z.empty:\n",
    "    print(\"No outliers found with Z-score > 3.\")\n",
    "else:\n",
    "    print(outlier_values_z)"
   ]
  },
  {
   "cell_type": "code",
   "execution_count": 17,
   "id": "f1bea311-38c8-4293-8bda-c73270aebbc3",
   "metadata": {},
   "outputs": [
    {
     "name": "stdout",
     "output_type": "stream",
     "text": [
      "\n",
      "\n",
      "--- Outliers using IQR ---\n"
     ]
    }
   ],
   "source": [
    "print(\"\\n\\n--- Outliers using IQR ---\")"
   ]
  },
  {
   "cell_type": "code",
   "execution_count": 18,
   "id": "726f52a6-e510-46b9-bdfb-835ebe59d746",
   "metadata": {},
   "outputs": [],
   "source": [
    "numeric_cols = train.select_dtypes(include=np.number).columns\n",
    "Q1 = train[numeric_cols].quantile(0.25)\n",
    "Q3 = train[numeric_cols].quantile(0.75)\n",
    "IQR = Q3 - Q1"
   ]
  },
  {
   "cell_type": "code",
   "execution_count": 19,
   "id": "091ea246-2503-41e5-8004-390c59d95051",
   "metadata": {},
   "outputs": [],
   "source": [
    "lower_bound = Q1 - 1.5 * IQR\n",
    "upper_bound = Q3 + 1.5 * IQR"
   ]
  },
  {
   "cell_type": "code",
   "execution_count": 21,
   "id": "bea46f7b-ace8-4409-a645-b0dfc6ff42fb",
   "metadata": {},
   "outputs": [],
   "source": [
    "# Create a boolean DataFrame indicating the position of outliers\n",
    "is_outlier_iqr = (train[numeric_cols] < lower_bound) | (train[numeric_cols] > upper_bound)"
   ]
  },
  {
   "cell_type": "code",
   "execution_count": 22,
   "id": "1295abc8-0c69-4817-af26-758729d9fc33",
   "metadata": {},
   "outputs": [],
   "source": [
    "# Get the rows from the original DataFrame that contain at least one outlier\n",
    "outlier_rows_iqr = train[is_outlier_iqr.any(axis=1)]\n"
   ]
  },
  {
   "cell_type": "code",
   "execution_count": 23,
   "id": "be2d1dcc-18d4-4c77-9881-e3468b6ab392",
   "metadata": {},
   "outputs": [
    {
     "name": "stdout",
     "output_type": "stream",
     "text": [
      "\n",
      "Rows containing outliers (IQR):\n",
      "            id  age  height(cm)  weight(kg)  waist(cm)  eyesight(left)  \\\n",
      "0            0   55         165          60       81.0             0.5   \n",
      "1            1   70         165          65       89.0             0.6   \n",
      "3            3   35         180          95      105.0             1.5   \n",
      "5            5   50         170          55       51.0             1.2   \n",
      "7            7   55         155          60       84.5             0.7   \n",
      "...        ...  ...         ...         ...        ...             ...   \n",
      "159245  159245   35         175          80       87.2             0.7   \n",
      "159247  159247   20         170          55       71.0             1.2   \n",
      "159248  159248   30         170         100      100.0             1.0   \n",
      "159250  159250   25         180          90       88.0             1.5   \n",
      "159251  159251   40         155          45       69.0             1.5   \n",
      "\n",
      "        eyesight(right)  hearing(left)  hearing(right)  systolic  ...  HDL  \\\n",
      "0                   0.6              1               1       135  ...   40   \n",
      "1                   0.7              2               2       146  ...   57   \n",
      "3                   1.2              1               1       131  ...   38   \n",
      "5                   1.2              1               1       146  ...   31   \n",
      "7                   0.9              1               1       137  ...   51   \n",
      "...                 ...            ...             ...       ...  ...  ...   \n",
      "159245              0.7              1               1       110  ...   44   \n",
      "159247              1.5              1               1       110  ...   73   \n",
      "159248              1.0              1               1       143  ...   39   \n",
      "159250              1.2              1               1       119  ...   43   \n",
      "159251              2.0              1               1       127  ...   72   \n",
      "\n",
      "        LDL  hemoglobin  Urine protein  serum creatinine  AST  ALT  Gtp  \\\n",
      "0        75        16.5              1               1.0   22   25   27   \n",
      "1       126        16.2              1               1.1   27   23   37   \n",
      "3       102        15.9              1               1.0   20   27   30   \n",
      "5        99        15.9              1               0.7   24   42  119   \n",
      "7       198        14.5              1               0.7   16   15   16   \n",
      "...     ...         ...            ...               ...  ...  ...  ...   \n",
      "159245  150        15.7              1               1.0   23   41   26   \n",
      "159247   93        15.9              1               0.9   18   18   16   \n",
      "159248  114        16.2              1               1.3   24   43   35   \n",
      "159250  123        15.3              1               1.1   24   29   42   \n",
      "159251  159        14.5              1               0.8   25   26   13   \n",
      "\n",
      "        dental caries  smoking  \n",
      "0                   0        1  \n",
      "1                   1        0  \n",
      "3                   1        0  \n",
      "5                   1        1  \n",
      "7                   0        0  \n",
      "...               ...      ...  \n",
      "159245              1        1  \n",
      "159247              0        0  \n",
      "159248              0        0  \n",
      "159250              1        0  \n",
      "159251              0        0  \n",
      "\n",
      "[73068 rows x 24 columns]\n"
     ]
    }
   ],
   "source": [
    "print(\"\\nRows containing outliers (IQR):\")\n",
    "print(outlier_rows_iqr)"
   ]
  },
  {
   "cell_type": "code",
   "execution_count": 25,
   "id": "7eaa7c4d-1618-447f-abb1-080a0146fac2",
   "metadata": {},
   "outputs": [
    {
     "name": "stdout",
     "output_type": "stream",
     "text": [
      "\n",
      "Specific outlier values (IQR):\n",
      "0       triglyceride           300.0\n",
      "1       hearing(left)            2.0\n",
      "        hearing(right)           2.0\n",
      "        fasting blood sugar    147.0\n",
      "        dental caries            1.0\n",
      "                               ...  \n",
      "159248  weight(kg)             100.0\n",
      "        serum creatinine         1.3\n",
      "159250  dental caries            1.0\n",
      "159251  eyesight(right)          2.0\n",
      "        fasting blood sugar     64.0\n",
      "Length: 102578, dtype: float64\n"
     ]
    }
   ],
   "source": [
    "# To see the specific outlier values\n",
    "print(\"\\nSpecific outlier values (IQR):\")\n",
    "outlier_values_iqr = train[numeric_cols][is_outlier_iqr].stack()\n",
    "if outlier_values_iqr.empty:\n",
    "    print(\"No outliers found using the IQR method.\")\n",
    "else:\n",
    "    print(outlier_values_iqr)"
   ]
  },
  {
   "cell_type": "code",
   "execution_count": null,
   "id": "49351f91-de87-49c9-8995-6d17e6f66bdd",
   "metadata": {},
   "outputs": [],
   "source": []
  }
 ],
 "metadata": {
  "kernelspec": {
   "display_name": "Python 3 (ipykernel)",
   "language": "python",
   "name": "python3"
  },
  "language_info": {
   "codemirror_mode": {
    "name": "ipython",
    "version": 3
   },
   "file_extension": ".py",
   "mimetype": "text/x-python",
   "name": "python",
   "nbconvert_exporter": "python",
   "pygments_lexer": "ipython3",
   "version": "3.11.9"
  }
 },
 "nbformat": 4,
 "nbformat_minor": 5
}
