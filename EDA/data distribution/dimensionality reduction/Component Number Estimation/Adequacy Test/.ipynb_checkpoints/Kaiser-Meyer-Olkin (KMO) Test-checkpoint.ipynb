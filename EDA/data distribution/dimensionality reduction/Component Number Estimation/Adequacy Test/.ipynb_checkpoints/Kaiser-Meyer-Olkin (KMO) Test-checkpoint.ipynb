{
 "cells": [
  {
   "cell_type": "code",
   "execution_count": null,
   "id": "091c0090-02c6-4388-974b-b3ebae751fe5",
   "metadata": {},
   "outputs": [],
   "source": [
    "## KMO Test Requirements\n",
    "\n",
    "# Variables: Requires 3+ related columns.\n",
    "\n",
    "# Scale: Variables must be numeric (interval/ratio), not categorical.\n",
    "\n",
    "# Sample Size: Needs enough rows (observations) for a stable correlation matrix.\n",
    "#     Guideline: Aim for 5-10 rows per variable & a minimum of 100+ total rows.\n",
    "\n",
    "# Outliers: Avoid significant outliers, as they can distort the KMO score.\n",
    "\n",
    "# Factorability: Variables should be conceptually related and expected to share underlying factors."
   ]
  },
  {
   "cell_type": "code",
   "execution_count": 10,
   "id": "07751ea8-b76e-4009-ba1c-e9c1e6bddb6b",
   "metadata": {},
   "outputs": [],
   "source": [
    "import pandas as pd\n",
    "import numpy as np\n",
    "from sklearn.datasets import load_iris\n",
    "from factor_analyzer.factor_analyzer import calculate_kmo"
   ]
  },
  {
   "cell_type": "code",
   "execution_count": 26,
   "id": "e36b5611-6603-440b-be2d-489af6b2f023",
   "metadata": {},
   "outputs": [],
   "source": [
    "iris = load_iris()\n",
    "X = iris.data\n",
    "feature_names = iris.feature_names"
   ]
  },
  {
   "cell_type": "code",
   "execution_count": 27,
   "id": "7f8d5665-29d2-4c38-8e8d-a5011461beaa",
   "metadata": {},
   "outputs": [],
   "source": [
    "df = pd.DataFrame(X, columns=feature_names)"
   ]
  },
  {
   "cell_type": "code",
   "execution_count": 28,
   "id": "7c81ca20-cdb2-43f2-a449-40c9fc7800ad",
   "metadata": {},
   "outputs": [
    {
     "name": "stdout",
     "output_type": "stream",
     "text": [
      "Iris Dataset Features:\n",
      "   sepal length (cm)  sepal width (cm)  petal length (cm)  petal width (cm)\n",
      "0                5.1               3.5                1.4               0.2\n",
      "1                4.9               3.0                1.4               0.2\n",
      "2                4.7               3.2                1.3               0.2\n",
      "3                4.6               3.1                1.5               0.2\n",
      "4                5.0               3.6                1.4               0.2\n",
      "------------------------------\n"
     ]
    }
   ],
   "source": [
    "print(\"Iris Dataset Features:\")\n",
    "print(df.head())\n",
    "print(\"-\" * 30)"
   ]
  },
  {
   "cell_type": "code",
   "execution_count": 29,
   "id": "80a6f276-8a0e-4975-aab0-d7fd20f8f330",
   "metadata": {},
   "outputs": [],
   "source": [
    "kmo_all, kmo_model = calculate_kmo(df)"
   ]
  },
  {
   "cell_type": "code",
   "execution_count": 30,
   "id": "9f8a2923-115d-48a7-adff-fe26d44ef826",
   "metadata": {},
   "outputs": [
    {
     "name": "stdout",
     "output_type": "stream",
     "text": [
      "Overall KMO for the dataset is: 0.54\n",
      "------------------------------\n"
     ]
    }
   ],
   "source": [
    "print(f\"Overall KMO for the dataset is: {kmo_model:.2f}\")\n",
    "print(\"-\" * 30)"
   ]
  },
  {
   "cell_type": "code",
   "execution_count": 31,
   "id": "ebfd21c7-5ae4-4bed-8cc9-cc0cb3b86c96",
   "metadata": {},
   "outputs": [
    {
     "name": "stdout",
     "output_type": "stream",
     "text": [
      "KMO value is low (< 0.6). The data may not be suitable for factor analysis.\n",
      "\n",
      "KMO for each variable:\n",
      "[0.58406029 0.26957462 0.53074842 0.63420655]\n"
     ]
    }
   ],
   "source": [
    "if kmo_model < 0.6:\n",
    "    print(\"KMO value is low (< 0.6). The data may not be suitable for factor analysis.\")\n",
    "else:\n",
    "    print(\"KMO value is adequate (> 0.6). The data is suitable for factor analysis.\")\n",
    "\n",
    "print(\"\\nKMO for each variable:\")\n",
    "# The kmo_all object is a series with the KMO value for each variable\n",
    "print(kmo_all)"
   ]
  },
  {
   "cell_type": "code",
   "execution_count": null,
   "id": "b8e6811e-8862-48ee-bef1-78dc71161792",
   "metadata": {},
   "outputs": [],
   "source": [
    "# In this case, the KMO value is 0.536, indicating that the data is fairly suitable for PCA. \n",
    "# However, this value is somewhat low and could be considered sub-optimal, as typically KMO values above 0.6 are considered supportive of PCA."
   ]
  },
  {
   "cell_type": "code",
   "execution_count": 32,
   "id": "a789a6a1-e039-49b2-9600-48685e79ce0d",
   "metadata": {},
   "outputs": [],
   "source": [
    "df = pd.read_csv(r\"C:\\Users\\basde\\Downloads\\playground-series-s3e24\\train.csv\")"
   ]
  },
  {
   "cell_type": "code",
   "execution_count": 34,
   "id": "089c334a-bc60-4e9c-bf92-afaead8efbbc",
   "metadata": {},
   "outputs": [],
   "source": [
    "features = df.drop(columns=['id', 'smoking'])"
   ]
  },
  {
   "cell_type": "code",
   "execution_count": 35,
   "id": "3ac49808-e614-43d9-8b33-7a9e09de9dbd",
   "metadata": {},
   "outputs": [],
   "source": [
    "kmo_all, kmo_model = calculate_kmo(df)"
   ]
  },
  {
   "cell_type": "code",
   "execution_count": 36,
   "id": "b973fa66-1111-4ae0-a709-9985cd481a12",
   "metadata": {},
   "outputs": [
    {
     "name": "stdout",
     "output_type": "stream",
     "text": [
      "Overall KMO for the dataset is: 0.64\n",
      "------------------------------\n"
     ]
    }
   ],
   "source": [
    "print(f\"Overall KMO for the dataset is: {kmo_model:.2f}\")\n",
    "print(\"-\" * 30)"
   ]
  },
  {
   "cell_type": "code",
   "execution_count": 37,
   "id": "fcbf9a7c-c1aa-4b25-8d5c-ae7d09204f8e",
   "metadata": {},
   "outputs": [
    {
     "name": "stdout",
     "output_type": "stream",
     "text": [
      "KMO value is adequate (> 0.6). The data is suitable for factor analysis.\n",
      "\n",
      "KMO for each variable:\n",
      "[0.53451498 0.73207032 0.80756381 0.73397875 0.72377288 0.7040899\n",
      " 0.71187704 0.57178088 0.57196206 0.62695974 0.64573053 0.84442995\n",
      " 0.30703716 0.461931   0.4422162  0.3004782  0.91514953 0.76449083\n",
      " 0.89712203 0.62364235 0.7505038  0.89748218 0.83494919 0.89583762]\n"
     ]
    }
   ],
   "source": [
    "if kmo_model < 0.6:\n",
    "    print(\"KMO value is low (< 0.6). The data may not be suitable for factor analysis.\")\n",
    "else:\n",
    "    print(\"KMO value is adequate (> 0.6). The data is suitable for factor analysis.\")\n",
    "\n",
    "print(\"\\nKMO for each variable:\")\n",
    "# The kmo_all object is a series with the KMO value for each variable\n",
    "print(kmo_all)"
   ]
  },
  {
   "cell_type": "code",
   "execution_count": 39,
   "id": "2793b64d-ceb1-4088-8cf0-42bd692e5ebb",
   "metadata": {},
   "outputs": [
    {
     "name": "stdout",
     "output_type": "stream",
     "text": [
      "\n",
      "KMO for each variable:\n",
      "age: 0.53\n",
      "height(cm): 0.73\n",
      "weight(kg): 0.81\n",
      "waist(cm): 0.73\n",
      "eyesight(left): 0.72\n",
      "eyesight(right): 0.70\n",
      "hearing(left): 0.71\n",
      "hearing(right): 0.57\n",
      "systolic: 0.57\n",
      "relaxation: 0.63\n",
      "fasting blood sugar: 0.65\n",
      "Cholesterol: 0.84\n",
      "triglyceride: 0.31\n",
      "HDL: 0.46\n",
      "LDL: 0.44\n",
      "hemoglobin: 0.30\n",
      "Urine protein: 0.92\n",
      "serum creatinine: 0.76\n",
      "AST: 0.90\n",
      "ALT: 0.62\n",
      "Gtp: 0.75\n",
      "dental caries: 0.90\n"
     ]
    }
   ],
   "source": [
    "print(\"\\nKMO for each variable:\")\n",
    "# Loop through the KMO values and feature names to print them together\n",
    "for i, feature in enumerate(features):\n",
    "    print(f\"{feature}: {kmo_all[i]:.2f}\")"
   ]
  },
  {
   "cell_type": "code",
   "execution_count": 41,
   "id": "c996a7e2-b997-4e8d-afb5-f57b441ad0b8",
   "metadata": {},
   "outputs": [],
   "source": [
    "corr_matrix = df.corr()"
   ]
  },
  {
   "cell_type": "code",
   "execution_count": 42,
   "id": "3e82a18d-f54a-4548-8d25-abeb152c436e",
   "metadata": {},
   "outputs": [
    {
     "name": "stdout",
     "output_type": "stream",
     "text": [
      "Pairs of variables with correlation > 0.5 or < -0.5:\n",
      "\n"
     ]
    }
   ],
   "source": [
    "print(\"Pairs of variables with correlation > 0.5 or < -0.5:\\n\")"
   ]
  },
  {
   "cell_type": "code",
   "execution_count": 43,
   "id": "8489e268-703b-42d4-ad2f-9de242945d6c",
   "metadata": {},
   "outputs": [],
   "source": [
    "printed_pairs = set()"
   ]
  },
  {
   "cell_type": "code",
   "execution_count": 44,
   "id": "c0f12ca2-4d1b-4332-9e7c-85f2096f2794",
   "metadata": {},
   "outputs": [
    {
     "name": "stdout",
     "output_type": "stream",
     "text": [
      "- weight(kg) and height(cm): 0.69\n",
      "- waist(cm) and weight(kg): 0.83\n",
      "- hearing(right) and hearing(left): 0.55\n",
      "- relaxation and systolic: 0.75\n",
      "- HDL and triglyceride: -0.51\n",
      "- LDL and Cholesterol: 0.81\n",
      "- hemoglobin and height(cm): 0.57\n",
      "- hemoglobin and weight(kg): 0.53\n",
      "- ALT and AST: 0.62\n"
     ]
    }
   ],
   "source": [
    "# i can see that i have a lot of correlated columns here. i can proceed with parallel analysis to find the amount of features i need.\n",
    "for i in range(len(corr_matrix.columns)):\n",
    "    for j in range(i): # This avoids comparing a variable with itself and avoids duplicates\n",
    "        # Get the correlation value\n",
    "        correlation = corr_matrix.iloc[i, j]\n",
    "\n",
    "        # Check if the absolute correlation is greater than 0.5\n",
    "        if abs(correlation) > 0.5:\n",
    "            var1 = corr_matrix.columns[i]\n",
    "            var2 = corr_matrix.columns[j]\n",
    "            print(f\"- {var1} and {var2}: {correlation:.2f}\")"
   ]
  },
  {
   "cell_type": "code",
   "execution_count": null,
   "id": "633f8ee0-fe2a-4a5c-955d-8220224afff9",
   "metadata": {},
   "outputs": [],
   "source": []
  }
 ],
 "metadata": {
  "kernelspec": {
   "display_name": "Python 3 (ipykernel)",
   "language": "python",
   "name": "python3"
  },
  "language_info": {
   "codemirror_mode": {
    "name": "ipython",
    "version": 3
   },
   "file_extension": ".py",
   "mimetype": "text/x-python",
   "name": "python",
   "nbconvert_exporter": "python",
   "pygments_lexer": "ipython3",
   "version": "3.11.9"
  }
 },
 "nbformat": 4,
 "nbformat_minor": 5
}
