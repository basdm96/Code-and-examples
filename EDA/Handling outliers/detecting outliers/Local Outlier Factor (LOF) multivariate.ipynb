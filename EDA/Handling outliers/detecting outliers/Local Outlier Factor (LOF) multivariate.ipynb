{
 "cells": [
  {
   "cell_type": "code",
   "execution_count": 1,
   "id": "2819e999-5603-45f3-8cdd-5a2effe843f1",
   "metadata": {},
   "outputs": [],
   "source": [
    "import numpy as np\n",
    "import pandas as pd\n",
    "from sklearn.datasets import fetch_california_housing\n",
    "from sklearn.neighbors import LocalOutlierFactor\n",
    "\n"
   ]
  },
  {
   "cell_type": "code",
   "execution_count": 2,
   "id": "41da985e-d9a0-4060-b99b-5c40d1e01f08",
   "metadata": {},
   "outputs": [],
   "source": [
    "# --- Local Outlier Factor (LOF) Method for Outlier Detection ---\n",
    "\n",
    "# When to use this method:\n",
    "# - When outliers are defined by local density rather than global position.\n",
    "# - For datasets where the density of clusters varies.\n",
    "# - It's effective at finding outliers that are close to other clusters.\n",
    "\n"
   ]
  },
  {
   "cell_type": "code",
   "execution_count": 3,
   "id": "dd1e8daa-14ee-4e98-8ccd-6dc4cf96e223",
   "metadata": {},
   "outputs": [],
   "source": [
    "# 1. We'll use the California Housing dataset for this example.\n",
    "housing = fetch_california_housing()\n",
    "df = pd.DataFrame(housing.data, columns=housing.feature_names)\n",
    "\n",
    "# We will analyze the 'MedInc' (Median Income) feature for outliers.\n",
    "# LOF expects a 2D array, so we reshape the data.\n",
    "data = df['MedInc'].values.reshape(-1, 1)\n",
    "\n",
    "\n",
    "\n"
   ]
  },
  {
   "cell_type": "code",
   "execution_count": 4,
   "id": "385df310-854d-4073-9bc6-5b4cad33a901",
   "metadata": {},
   "outputs": [
    {
     "name": "stdout",
     "output_type": "stream",
     "text": [
      "Running hyperparameter tuning for Local Outlier Factor...\n"
     ]
    },
    {
     "name": "stderr",
     "output_type": "stream",
     "text": [
      "C:\\Users\\basde\\AppData\\Local\\Programs\\Python\\Python311\\Lib\\site-packages\\sklearn\\neighbors\\_lof.py:322: UserWarning: Duplicate values are leading to incorrect results. Increase the number of neighbors for more accurate results.\n",
      "  warnings.warn(\n",
      "C:\\Users\\basde\\AppData\\Local\\Programs\\Python\\Python311\\Lib\\site-packages\\sklearn\\neighbors\\_lof.py:322: UserWarning: Duplicate values are leading to incorrect results. Increase the number of neighbors for more accurate results.\n",
      "  warnings.warn(\n",
      "C:\\Users\\basde\\AppData\\Local\\Programs\\Python\\Python311\\Lib\\site-packages\\sklearn\\neighbors\\_lof.py:322: UserWarning: Duplicate values are leading to incorrect results. Increase the number of neighbors for more accurate results.\n",
      "  warnings.warn(\n",
      "C:\\Users\\basde\\AppData\\Local\\Programs\\Python\\Python311\\Lib\\site-packages\\sklearn\\neighbors\\_lof.py:322: UserWarning: Duplicate values are leading to incorrect results. Increase the number of neighbors for more accurate results.\n",
      "  warnings.warn(\n",
      "C:\\Users\\basde\\AppData\\Local\\Programs\\Python\\Python311\\Lib\\site-packages\\sklearn\\neighbors\\_lof.py:322: UserWarning: Duplicate values are leading to incorrect results. Increase the number of neighbors for more accurate results.\n",
      "  warnings.warn(\n",
      "C:\\Users\\basde\\AppData\\Local\\Programs\\Python\\Python311\\Lib\\site-packages\\sklearn\\neighbors\\_lof.py:322: UserWarning: Duplicate values are leading to incorrect results. Increase the number of neighbors for more accurate results.\n",
      "  warnings.warn(\n",
      "C:\\Users\\basde\\AppData\\Local\\Programs\\Python\\Python311\\Lib\\site-packages\\sklearn\\neighbors\\_lof.py:322: UserWarning: Duplicate values are leading to incorrect results. Increase the number of neighbors for more accurate results.\n",
      "  warnings.warn(\n",
      "C:\\Users\\basde\\AppData\\Local\\Programs\\Python\\Python311\\Lib\\site-packages\\sklearn\\neighbors\\_lof.py:322: UserWarning: Duplicate values are leading to incorrect results. Increase the number of neighbors for more accurate results.\n",
      "  warnings.warn(\n",
      "C:\\Users\\basde\\AppData\\Local\\Programs\\Python\\Python311\\Lib\\site-packages\\sklearn\\neighbors\\_lof.py:322: UserWarning: Duplicate values are leading to incorrect results. Increase the number of neighbors for more accurate results.\n",
      "  warnings.warn(\n"
     ]
    }
   ],
   "source": [
    "# --- 2. Hyperparameter Tuning ---\n",
    "# We will test different combinations of hyperparameters to see how they affect the outcome.\n",
    "\n",
    "# Define the grid of parameters to test for LOF\n",
    "param_grid = {\n",
    "    'n_neighbors': [10, 20, 35, 50],\n",
    "    'contamination': [0.01, 0.05, 0.1]\n",
    "}\n",
    "\n",
    "# Store the results\n",
    "tuning_results = []\n",
    "\n",
    "print(\"Running hyperparameter tuning for Local Outlier Factor...\")\n",
    "for n_neigh in param_grid['n_neighbors']:\n",
    "    for cont in param_grid['contamination']:\n",
    "        lof = LocalOutlierFactor(n_neighbors=n_neigh, contamination=cont)\n",
    "        predictions = lof.fit_predict(data)\n",
    "        num_outliers = np.sum(predictions == -1)\n",
    "        tuning_results.append({\n",
    "            'n_neighbors': n_neigh,\n",
    "            'contamination': cont,\n",
    "            'num_outliers': num_outliers\n",
    "        })\n",
    "\n",
    "# Convert results to a DataFrame for easy viewing\n",
    "results_df = pd.DataFrame(tuning_results)\n",
    "\n",
    "\n"
   ]
  },
  {
   "cell_type": "code",
   "execution_count": 5,
   "id": "afc487d4-d161-415a-a886-a56acec0ac90",
   "metadata": {},
   "outputs": [
    {
     "name": "stdout",
     "output_type": "stream",
     "text": [
      "\n",
      "Tuning complete. Here are the results:\n",
      "    n_neighbors  contamination  num_outliers\n",
      "0            10           0.01           207\n",
      "1            10           0.05          1032\n",
      "2            10           0.10          2064\n",
      "3            20           0.01           207\n",
      "4            20           0.05          1031\n",
      "5            20           0.10          2064\n",
      "6            35           0.01           206\n",
      "7            35           0.05          1032\n",
      "8            35           0.10          2064\n",
      "9            50           0.01           207\n",
      "10           50           0.05          1032\n",
      "11           50           0.10          2064\n",
      "\n",
      "--- Interpretation ---\n",
      "Analyze this table to choose the best parameters. For this example, we'll proceed with n_neighbors=20 and contamination=0.05.\n"
     ]
    }
   ],
   "source": [
    "# --- 3. Display Tuning Results ---\n",
    "print(\"\\nTuning complete. Here are the results:\")\n",
    "print(results_df)\n",
    "print(\"\\n--- Interpretation ---\")\n",
    "print(\"Analyze this table to choose the best parameters. For this example, we'll proceed with n_neighbors=20 and contamination=0.05.\")\n",
    "\n",
    "\n"
   ]
  },
  {
   "cell_type": "code",
   "execution_count": 30,
   "id": "52270c66-43f3-4327-9be3-6a834a5dbc1f",
   "metadata": {},
   "outputs": [
    {
     "name": "stderr",
     "output_type": "stream",
     "text": [
      "C:\\Users\\basde\\AppData\\Local\\Programs\\Python\\Python311\\Lib\\site-packages\\sklearn\\neighbors\\_lof.py:322: UserWarning: Duplicate values are leading to incorrect results. Increase the number of neighbors for more accurate results.\n",
      "  warnings.warn(\n"
     ]
    }
   ],
   "source": [
    "# --- 4. Apply the Final Model ---\n",
    "# Based on the tuning results and domain knowledge, we select our final parameters.\n",
    "best_n_neighbors = 20\n",
    "best_contamination = 0.02\n",
    "\n",
    "# Create and fit the final model\n",
    "final_lof = LocalOutlierFactor(n_neighbors=best_n_neighbors, contamination=best_contamination)\n",
    "predictions = final_lof.fit_predict(data)\n",
    "\n",
    "# Get the indices of the outliers\n",
    "outlier_indices = np.where(predictions == -1)[0]\n",
    "\n",
    "# Get the outlier scores (negative_outlier_factor_)\n",
    "# Lower scores mean more abnormal.\n",
    "outlier_scores = final_lof.negative_outlier_factor_[outlier_indices]\n",
    "\n"
   ]
  },
  {
   "cell_type": "code",
   "execution_count": 31,
   "id": "4fd39c19-eeea-452b-b871-874f8c31e11a",
   "metadata": {},
   "outputs": [],
   "source": [
    "# 5. Create a DataFrame of the outliers\n",
    "outliers_df = df.loc[outlier_indices].copy()\n",
    "outliers_df['LOF_Score'] = outlier_scores\n",
    "\n",
    "\n"
   ]
  },
  {
   "cell_type": "code",
   "execution_count": 32,
   "id": "e562f34a-9a76-4f5b-bf16-e8d26eaa946b",
   "metadata": {},
   "outputs": [
    {
     "name": "stdout",
     "output_type": "stream",
     "text": [
      "\n",
      "--- Applying Final Model (n_neighbors=20, contamination=0.02) ---\n",
      "Found 413 outliers.\n",
      "\n",
      "DataFrame containing the identified outliers (first 5 rows):\n",
      "     MedInc  HouseAge  AveRooms  AveBedrms  Population  AveOccup  Latitude  \\\n",
      "52   1.1108      41.0  4.473611   1.184722      1959.0  2.720833     37.82   \n",
      "77   1.1111      19.0  5.830918   1.173913       721.0  3.483092     37.81   \n",
      "107  3.1691      52.0  4.165877   1.090047       686.0  1.625592     37.81   \n",
      "144  3.0812      38.0  4.628337   1.098563       951.0  1.952772     37.80   \n",
      "159  2.7477      52.0  4.333333   1.138716       918.0  1.900621     37.81   \n",
      "\n",
      "     Longitude     LOF_Score  \n",
      "52     -122.27 -1.306733e+00  \n",
      "77     -122.28 -1.292857e+00  \n",
      "107    -122.25 -1.252870e+00  \n",
      "144    -122.21 -1.262398e+00  \n",
      "159    -122.24 -1.002000e+07  \n"
     ]
    }
   ],
   "source": [
    "# --- 6. Display Final Outliers ---\n",
    "print(f\"\\n--- Applying Final Model (n_neighbors={best_n_neighbors}, contamination={best_contamination}) ---\")\n",
    "print(f\"Found {len(outliers_df)} outliers.\")\n",
    "print(\"\\nDataFrame containing the identified outliers (first 5 rows):\")\n",
    "print(outliers_df.head())"
   ]
  },
  {
   "cell_type": "code",
   "execution_count": 33,
   "id": "68de67c8-d046-428b-b223-2db983753483",
   "metadata": {},
   "outputs": [
    {
     "data": {
      "text/plain": [
       "count    4.130000e+02\n",
       "mean    -4.409963e+07\n",
       "std      3.262592e+08\n",
       "min     -3.266671e+09\n",
       "25%     -1.200000e+07\n",
       "50%     -4.220001e+06\n",
       "75%     -1.359197e+00\n",
       "max     -1.244730e+00\n",
       "Name: LOF_Score, dtype: float64"
      ]
     },
     "execution_count": 33,
     "metadata": {},
     "output_type": "execute_result"
    }
   ],
   "source": [
    "outliers_df['LOF_Score'].describe()"
   ]
  },
  {
   "cell_type": "code",
   "execution_count": null,
   "id": "86d3b344-f65a-4d57-baad-df58a91420db",
   "metadata": {},
   "outputs": [],
   "source": []
  },
  {
   "cell_type": "code",
   "execution_count": null,
   "id": "d0333a74-0e71-49cb-996b-1714ed3670d8",
   "metadata": {},
   "outputs": [],
   "source": []
  }
 ],
 "metadata": {
  "kernelspec": {
   "display_name": "Python 3 (ipykernel)",
   "language": "python",
   "name": "python3"
  },
  "language_info": {
   "codemirror_mode": {
    "name": "ipython",
    "version": 3
   },
   "file_extension": ".py",
   "mimetype": "text/x-python",
   "name": "python",
   "nbconvert_exporter": "python",
   "pygments_lexer": "ipython3",
   "version": "3.11.9"
  }
 },
 "nbformat": 4,
 "nbformat_minor": 5
}
