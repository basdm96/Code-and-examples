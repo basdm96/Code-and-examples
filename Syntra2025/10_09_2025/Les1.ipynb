{
 "cells": [
  {
   "cell_type": "code",
   "execution_count": 1,
   "id": "a78236f5-479c-4129-a3c3-326b66f6a717",
   "metadata": {},
   "outputs": [],
   "source": [
    "import pandas as pd"
   ]
  },
  {
   "cell_type": "code",
   "execution_count": 2,
   "id": "5cb63fec-20d5-4b99-ae62-bf97dbb73acf",
   "metadata": {},
   "outputs": [],
   "source": [
    "data = pd.read_csv(r\"C:\\Users\\basde\\Documents\\GitHub\\Code-and-examples\\Syntra2025\\10_09_2025\\Les 1-20250910\\belgium_community_les1.csv\", delimiter=';')\n"
   ]
  },
  {
   "cell_type": "code",
   "execution_count": 3,
   "id": "b459f4c8-30db-436e-a038-3b7b3063b00c",
   "metadata": {},
   "outputs": [
    {
     "name": "stdout",
     "output_type": "stream",
     "text": [
      "<class 'pandas.core.frame.DataFrame'>\n",
      "RangeIndex: 534 entries, 0 to 533\n",
      "Data columns (total 13 columns):\n",
      " #   Column               Non-Null Count  Dtype  \n",
      "---  ------               --------------  -----  \n",
      " 0   locality             534 non-null    object \n",
      " 1   type of property     534 non-null    object \n",
      " 2   subtype of property  62 non-null     object \n",
      " 3   price                534 non-null    int64  \n",
      " 4   sale type            534 non-null    object \n",
      " 5   number of rooms      534 non-null    int64  \n",
      " 6   area                 534 non-null    int64  \n",
      " 7   furnished            534 non-null    int64  \n",
      " 8   open fire            534 non-null    int64  \n",
      " 9   terrace              243 non-null    object \n",
      " 10  terrace area         243 non-null    float64\n",
      " 11  number of facades    534 non-null    int64  \n",
      " 12  building state       534 non-null    int64  \n",
      "dtypes: float64(1), int64(7), object(5)\n",
      "memory usage: 54.4+ KB\n"
     ]
    }
   ],
   "source": [
    "data.info()"
   ]
  },
  {
   "cell_type": "code",
   "execution_count": 4,
   "id": "4b837e62-22ea-49ae-bd23-f91a9739712e",
   "metadata": {},
   "outputs": [
    {
     "data": {
      "text/plain": [
       "array([nan, 'Duplex', 'Penthouse', 'App. rez-de-chausssee',\n",
       "       'App. profession liberale', \"Immeuble d'appartements\", 'Loft',\n",
       "       'Attique', 'Serviceflat', 'Appartement pour retraite'],\n",
       "      dtype=object)"
      ]
     },
     "execution_count": 4,
     "metadata": {},
     "output_type": "execute_result"
    }
   ],
   "source": [
    "data['subtype of property'].unique()"
   ]
  },
  {
   "cell_type": "code",
   "execution_count": 5,
   "id": "088914dd-8815-493c-9944-8c357acaf449",
   "metadata": {},
   "outputs": [
    {
     "data": {
      "text/plain": [
       "array(['Mouscron', 'Deurne', 'Wavre', 'Genk'], dtype=object)"
      ]
     },
     "execution_count": 5,
     "metadata": {},
     "output_type": "execute_result"
    }
   ],
   "source": [
    "data['locality'].unique()"
   ]
  },
  {
   "cell_type": "code",
   "execution_count": null,
   "id": "307d9820-80db-41ef-a8df-2b58cd16c61f",
   "metadata": {},
   "outputs": [],
   "source": []
  }
 ],
 "metadata": {
  "kernelspec": {
   "display_name": "Python 3 (ipykernel)",
   "language": "python",
   "name": "python3"
  },
  "language_info": {
   "codemirror_mode": {
    "name": "ipython",
    "version": 3
   },
   "file_extension": ".py",
   "mimetype": "text/x-python",
   "name": "python",
   "nbconvert_exporter": "python",
   "pygments_lexer": "ipython3",
   "version": "3.11.9"
  }
 },
 "nbformat": 4,
 "nbformat_minor": 5
}
