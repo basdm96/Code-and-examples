{
 "cells": [
  {
   "cell_type": "code",
   "execution_count": 1,
   "id": "20d2c34a-9dcf-4823-aed4-2f51140a6711",
   "metadata": {},
   "outputs": [],
   "source": [
    "import pandas as pd\n",
    "import numpy as np\n",
    "from scipy.spatial import distance\n",
    "from scipy.stats import chi2"
   ]
  },
  {
   "cell_type": "code",
   "execution_count": 2,
   "id": "055b105e-2e7d-4829-baa2-88d8f2035b5f",
   "metadata": {},
   "outputs": [],
   "source": [
    "df = pd.read_csv(r\"C:\\Users\\basde\\Downloads\\playground-series-s3e24\\train.csv\")"
   ]
  },
  {
   "cell_type": "code",
   "execution_count": 3,
   "id": "ec00103a-01fe-4445-a0da-2b2cf31d9fbd",
   "metadata": {},
   "outputs": [],
   "source": [
    "# Specify the columns to use for outlier detection\n",
    "feature_cols = df.drop('id',axis = 1).columns\n",
    "df_features = df[feature_cols]"
   ]
  },
  {
   "cell_type": "code",
   "execution_count": 4,
   "id": "a6f92475-542d-4b20-8e8f-d5149294fba2",
   "metadata": {},
   "outputs": [],
   "source": [
    "mean = df_features.mean().values\n",
    "covariance_matrix = df_features.cov().values\n",
    "inv_covariance_matrix = np.linalg.inv(covariance_matrix)"
   ]
  },
  {
   "cell_type": "code",
   "execution_count": 5,
   "id": "fdf68df4-f82f-4015-b536-7254d66db9cb",
   "metadata": {},
   "outputs": [],
   "source": [
    "df['mahalanobis'] = df.apply(\n",
    "    lambda row: distance.mahalanobis(row[feature_cols].values, mean, inv_covariance_matrix),\n",
    "    axis=1\n",
    "    )"
   ]
  },
  {
   "cell_type": "code",
   "execution_count": 6,
   "id": "a030985f-67d6-4e10-ba05-841b80f02714",
   "metadata": {},
   "outputs": [],
   "source": [
    "# 4. Set a threshold for identifying outliers\n",
    "# We use the chi-squared distribution\n",
    "df_vars = len(df.columns) -1 # Degrees of freedom (excluding the mahalanobis column)\n",
    "alpha = 0.01\n",
    "threshold = chi2.ppf((1 - alpha), df=df_vars)"
   ]
  },
  {
   "cell_type": "code",
   "execution_count": 7,
   "id": "628c07ec-12e3-4a92-b3f0-7fe7d3cdbd0d",
   "metadata": {},
   "outputs": [
    {
     "name": "stdout",
     "output_type": "stream",
     "text": [
      "Chi-squared threshold at alpha=0.01: 42.9798\n",
      "\n"
     ]
    }
   ],
   "source": [
    "print(f\"Chi-squared threshold at alpha={alpha}: {threshold:.4f}\\n\")"
   ]
  },
  {
   "cell_type": "code",
   "execution_count": 8,
   "id": "b9c05845-4cfd-4deb-b6f5-8fffe4467916",
   "metadata": {},
   "outputs": [],
   "source": [
    "outliers_df = df[df['mahalanobis'] > threshold]"
   ]
  },
  {
   "cell_type": "code",
   "execution_count": 9,
   "id": "242d2144-4c5e-4938-ada0-1ee6b1d14296",
   "metadata": {},
   "outputs": [
    {
     "name": "stdout",
     "output_type": "stream",
     "text": [
      "Found 25 outliers:\n",
      "            id  age  height(cm)  weight(kg)  waist(cm)  eyesight(left)  \\\n",
      "12273    12273   55         140          45       69.0             1.0   \n",
      "13787    13787   60         170          80       91.0             1.0   \n",
      "15691    15691   40         170          75       77.4             1.2   \n",
      "15898    15898   45         160          70       88.3             1.0   \n",
      "21041    21041   25         175          90       88.0             1.0   \n",
      "32148    32148   60         165          65       81.0             1.2   \n",
      "35901    35901   60         160          65       82.0             0.5   \n",
      "55119    55119   25         170          75       91.7             1.5   \n",
      "56061    56061   40         155          60       89.0             0.6   \n",
      "61041    61041   40         165          75       89.0             1.0   \n",
      "70634    70634   40         170          60       73.2             0.9   \n",
      "89833    89833   70         145          45       71.0             0.8   \n",
      "94519    94519   40         165          60       79.8             1.5   \n",
      "100443  100443   40         160          45       66.0             1.0   \n",
      "103445  103445   40         185          90       84.0             1.2   \n",
      "109197  109197   20         170          60       69.8             1.5   \n",
      "111220  111220   40         165          65       82.7             1.2   \n",
      "116757  116757   40         160          55       67.0             0.3   \n",
      "119842  119842   25         165          65       77.0             0.9   \n",
      "120029  120029   25         170          60       72.0             1.5   \n",
      "120247  120247   20         180          70       78.8             0.8   \n",
      "122670  122670   50         170          70       85.3             1.2   \n",
      "145531  145531   50         170          75       86.0             1.0   \n",
      "154455  154455   65         165          50       76.0             0.4   \n",
      "157745  157745   60         170          65       87.0             1.2   \n",
      "\n",
      "        eyesight(right)  hearing(left)  hearing(right)  systolic  ...   LDL  \\\n",
      "12273               0.8              1               1       118  ...  1660   \n",
      "13787               1.0              2               2       117  ...    94   \n",
      "15691               1.2              1               1       119  ...  1220   \n",
      "15898               1.0              1               1       123  ...   790   \n",
      "21041               1.2              1               1       125  ...  1070   \n",
      "32148               1.2              1               1       107  ...  1220   \n",
      "35901               0.5              1               1       100  ...  1120   \n",
      "55119               1.0              1               1       134  ...  1070   \n",
      "56061               1.0              1               1       113  ...   170   \n",
      "61041               1.2              1               1       132  ...    95   \n",
      "70634               1.0              1               1       124  ...   103   \n",
      "89833               0.1              1               1       128  ...   109   \n",
      "94519               1.2              1               1       108  ...  1200   \n",
      "100443              1.2              1               1        99  ...  1660   \n",
      "103445              0.9              1               1       125  ...    87   \n",
      "109197              1.2              1               1       117  ...  1860   \n",
      "111220              1.2              1               1       122  ...  1220   \n",
      "116757              1.0              1               1       106  ...    85   \n",
      "119842              1.0              1               1       110  ...    95   \n",
      "120029              1.5              1               1       126  ...  1010   \n",
      "120247              0.7              1               1       112  ...  1200   \n",
      "122670              0.9              1               1       136  ...   115   \n",
      "145531              0.9              1               1       120  ...   101   \n",
      "154455              0.6              1               1       131  ...    62   \n",
      "157745              0.8              1               1       142  ...  1120   \n",
      "\n",
      "        hemoglobin  Urine protein  serum creatinine  AST   ALT  Gtp  \\\n",
      "12273         14.7              1               0.7   21    19   22   \n",
      "13787         14.1              1               1.4   31  2914    2   \n",
      "15691         15.8              1               1.0   16    17   23   \n",
      "15898         15.8              1               0.9   24    33   38   \n",
      "21041         15.2              1               1.0   20    21   22   \n",
      "32148         15.4              1               1.1   17    15   38   \n",
      "35901         14.8              1               1.0   22    22   58   \n",
      "55119         17.2              1               1.0   20    26   36   \n",
      "56061         17.1              1               0.6   39   610  667   \n",
      "61041         16.6              1               0.8  527   713  582   \n",
      "70634         13.2              1               0.5  591   745   40   \n",
      "89833         13.2              1               9.9   27    19   25   \n",
      "94519         15.7              1               1.2   40    65   31   \n",
      "100443        12.1              1               0.8   22    19   14   \n",
      "103445        17.0              1               1.2  591   745  432   \n",
      "109197        15.1              1               1.2   20    16   60   \n",
      "111220        15.4              1               1.1   20    20   23   \n",
      "116757        13.3              1               0.5  778   740   95   \n",
      "119842        15.4              1               1.1  387    77   17   \n",
      "120029        14.7              1               0.9   14     9   19   \n",
      "120247        16.5              1               1.1   14    14   40   \n",
      "122670        16.0              1               1.1  656    28   80   \n",
      "145531        14.8              3               0.8  250  1612  138   \n",
      "154455        10.5              5               7.4   27    21   61   \n",
      "157745        15.0              1               0.8   32    48   33   \n",
      "\n",
      "        dental caries  smoking  mahalanobis  \n",
      "12273               1        0   131.407449  \n",
      "13787               0        1   229.308304  \n",
      "15691               0        1    96.469234  \n",
      "15898               0        0    62.971612  \n",
      "21041               0        0    84.803181  \n",
      "32148               1        1   106.002608  \n",
      "35901               0        1    88.733945  \n",
      "55119               0        0    84.185227  \n",
      "56061               0        1    48.365821  \n",
      "61041               1        1    56.948256  \n",
      "70634               0        0    65.612726  \n",
      "89833               0        0    60.672776  \n",
      "94519               0        0    94.118531  \n",
      "100443              0        0   131.050727  \n",
      "103445              0        1    62.224285  \n",
      "109197              0        0   148.654227  \n",
      "111220              0        0    96.515940  \n",
      "116757              0        0    85.274787  \n",
      "119842              0        0    48.419353  \n",
      "120029              0        0    79.909860  \n",
      "120247              0        1    96.407555  \n",
      "122670              1        1    87.538014  \n",
      "145531              0        1   110.230835  \n",
      "154455              0        0    45.537570  \n",
      "157745              0        0    87.999711  \n",
      "\n",
      "[25 rows x 25 columns]\n"
     ]
    }
   ],
   "source": [
    "print(f\"Found {len(outliers_df)} outliers:\")\n",
    "print(outliers_df)"
   ]
  },
  {
   "cell_type": "code",
   "execution_count": null,
   "id": "45523ba9-fb12-48cd-81fa-67abbe34fbe5",
   "metadata": {},
   "outputs": [],
   "source": []
  }
 ],
 "metadata": {
  "kernelspec": {
   "display_name": "Python 3 (ipykernel)",
   "language": "python",
   "name": "python3"
  },
  "language_info": {
   "codemirror_mode": {
    "name": "ipython",
    "version": 3
   },
   "file_extension": ".py",
   "mimetype": "text/x-python",
   "name": "python",
   "nbconvert_exporter": "python",
   "pygments_lexer": "ipython3",
   "version": "3.11.9"
  }
 },
 "nbformat": 4,
 "nbformat_minor": 5
}
