{
 "cells": [
  {
   "cell_type": "code",
   "execution_count": 1,
   "id": "4d583172-d1a4-45a5-8b98-7191bdedf49e",
   "metadata": {},
   "outputs": [],
   "source": [
    "import pandas as pd\n",
    "import numpy as np\n",
    "import seaborn as sns\n",
    "\n",
    "# IterativeImputer is still experimental, so we need to enable it explicitly\n",
    "from sklearn.experimental import enable_iterative_imputer\n",
    "from sklearn.impute import IterativeImputer"
   ]
  },
  {
   "cell_type": "code",
   "execution_count": 2,
   "id": "924b4293-0580-46dd-b44e-9070ac18a7cf",
   "metadata": {},
   "outputs": [],
   "source": [
    "df = sns.load_dataset('titanic')[['age', 'pclass', 'sibsp', 'parch', 'fare']]"
   ]
  },
  {
   "cell_type": "code",
   "execution_count": 3,
   "id": "6b3b3df5-0f09-4898-91d8-a59de20f374e",
   "metadata": {},
   "outputs": [
    {
     "name": "stdout",
     "output_type": "stream",
     "text": [
      "--- Original Data ---\n",
      "Original missing values:\n",
      "age       177\n",
      "pclass      0\n",
      "sibsp       0\n",
      "parch       0\n",
      "fare        0\n",
      "dtype: int64\n",
      "\n",
      "First 5 rows with missing 'age':\n",
      "    age  pclass  sibsp  parch     fare\n",
      "5   NaN       3      0      0   8.4583\n",
      "17  NaN       2      0      0  13.0000\n",
      "19  NaN       3      0      0   7.2250\n",
      "26  NaN       3      0      0   7.2250\n",
      "28  NaN       3      0      0   7.8792\n"
     ]
    }
   ],
   "source": [
    "print(\"--- Original Data ---\")\n",
    "print(\"Original missing values:\")\n",
    "print(df.isnull().sum())\n",
    "print(\"\\nFirst 5 rows with missing 'age':\")\n",
    "print(df[df['age'].isnull()].head())"
   ]
  },
  {
   "cell_type": "code",
   "execution_count": 4,
   "id": "626487e1-6567-4f4d-933e-effedeab0c89",
   "metadata": {},
   "outputs": [],
   "source": [
    "# 2. Create the IterativeImputer instance\n",
    "# It will model each feature as a function of the others and impute missing values.\n",
    "imputer = IterativeImputer(max_iter=10, random_state=0)"
   ]
  },
  {
   "cell_type": "code",
   "execution_count": 5,
   "id": "fe0b0bd4-950c-43f4-a6e9-67677767ab50",
   "metadata": {},
   "outputs": [],
   "source": [
    "# 3. Fit the imputer to the data and transform it\n",
    "# The imputer learns the relationships between columns and fills in the gaps.\n",
    "df_imputed_array = imputer.fit_transform(df)"
   ]
  },
  {
   "cell_type": "code",
   "execution_count": 6,
   "id": "cdc6589a-5c16-4fac-8681-7cda0c524e4c",
   "metadata": {},
   "outputs": [],
   "source": [
    "# 4. Convert the result back to a DataFrame\n",
    "# The imputer returns a NumPy array, so we reconstruct the DataFrame with original columns.\n",
    "df_imputed = pd.DataFrame(df_imputed_array, columns=df.columns)"
   ]
  },
  {
   "cell_type": "code",
   "execution_count": 7,
   "id": "7a231c63-bbf9-4e08-ad8b-383e30cd8942",
   "metadata": {},
   "outputs": [
    {
     "name": "stdout",
     "output_type": "stream",
     "text": [
      "\n",
      "--- Imputed Data ---\n",
      "Missing values after imputation:\n",
      "age       0\n",
      "pclass    0\n",
      "sibsp     0\n",
      "parch     0\n",
      "fare      0\n",
      "dtype: int64\n",
      "\n",
      "Same 5 rows, now with 'age' imputed:\n",
      "          age  pclass  sibsp  parch     fare\n",
      "5   27.617131     3.0    0.0    0.0   8.4583\n",
      "17  34.111643     2.0    0.0    0.0  13.0000\n",
      "19  27.639522     3.0    0.0    0.0   7.2250\n",
      "26  27.639522     3.0    0.0    0.0   7.2250\n",
      "28  27.627645     3.0    0.0    0.0   7.8792\n"
     ]
    }
   ],
   "source": [
    "print(\"\\n--- Imputed Data ---\")\n",
    "print(\"Missing values after imputation:\")\n",
    "print(df_imputed.isnull().sum())\n",
    "print(\"\\nSame 5 rows, now with 'age' imputed:\")\n",
    "print(df_imputed.iloc[df[df['age'].isnull()].index].head())\n"
   ]
  },
  {
   "cell_type": "code",
   "execution_count": null,
   "id": "bf85723f-a9f2-4f01-bd52-28760aa9760e",
   "metadata": {},
   "outputs": [],
   "source": []
  }
 ],
 "metadata": {
  "kernelspec": {
   "display_name": "Python 3 (ipykernel)",
   "language": "python",
   "name": "python3"
  },
  "language_info": {
   "codemirror_mode": {
    "name": "ipython",
    "version": 3
   },
   "file_extension": ".py",
   "mimetype": "text/x-python",
   "name": "python",
   "nbconvert_exporter": "python",
   "pygments_lexer": "ipython3",
   "version": "3.11.9"
  }
 },
 "nbformat": 4,
 "nbformat_minor": 5
}
