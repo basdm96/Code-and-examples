{
 "cells": [
  {
   "cell_type": "code",
   "execution_count": 1,
   "id": "5a179a82-dc66-420b-abd9-fcebf8d9f235",
   "metadata": {},
   "outputs": [],
   "source": [
    "# Import necessary libraries\n",
    "import pandas as pd\n",
    "from sklearn.datasets import load_iris\n",
    "\n",
    "\n",
    "\n"
   ]
  },
  {
   "cell_type": "code",
   "execution_count": 2,
   "id": "811a5cbc-cde9-478c-9e2f-11ca66751e86",
   "metadata": {},
   "outputs": [],
   "source": [
    "# --- When to Use This Technique ---\n",
    "# This initial data exploration is the very first step in any data analysis or machine learning project.\n",
    "# It's used to get a basic understanding of the dataset's structure, content, and quality.\n",
    "#\n",
    "# --- Data Requirements ---\n",
    "# This process works best with structured data, typically in a tabular format (like a CSV or database table).\n",
    "# No specific data types are required, as the techniques are designed to reveal those types.\n",
    "\n"
   ]
  },
  {
   "cell_type": "code",
   "execution_count": 3,
   "id": "c993270d-a9c1-400b-b299-b3556dbbe06b",
   "metadata": {},
   "outputs": [
    {
     "name": "stdout",
     "output_type": "stream",
     "text": [
      "--- 1. Dataset Loaded: Iris Flower Dataset ---\n",
      "The dataset is now loaded into a Pandas DataFrame.\n",
      "\n"
     ]
    }
   ],
   "source": [
    "# 1. Load a relevant sample dataset from scikit-learn\n",
    "# We'll use the famous Iris dataset, which contains measurements for three species of iris flowers.\n",
    "iris_data = load_iris()\n",
    "# Create a Pandas DataFrame for easier manipulation.\n",
    "# The data is in iris_data.data and the column names are in iris_data.feature_names.\n",
    "df = pd.DataFrame(data=iris_data.data, columns=iris_data.feature_names)\n",
    "# Add the target variable (species) to the DataFrame for context.\n",
    "df['species'] = iris_data.target_names[iris_data.target]\n",
    "\n",
    "print(\"--- 1. Dataset Loaded: Iris Flower Dataset ---\")\n",
    "print(\"The dataset is now loaded into a Pandas DataFrame.\\n\")\n",
    "\n",
    "\n"
   ]
  },
  {
   "cell_type": "code",
   "execution_count": 4,
   "id": "a5c3a00f-7ad1-4d7d-9f7f-c253a865e965",
   "metadata": {},
   "outputs": [
    {
     "name": "stdout",
     "output_type": "stream",
     "text": [
      "--- 2. Column Names (.columns) ---\n",
      "Index(['sepal length (cm)', 'sepal width (cm)', 'petal length (cm)',\n",
      "       'petal width (cm)', 'species'],\n",
      "      dtype='object')\n",
      "\n",
      "\n"
     ]
    }
   ],
   "source": [
    "# 2. What are the names of the columns (features)?\n",
    "# Use the .columns attribute to list all column names.\n",
    "print(\"--- 2. Column Names (.columns) ---\")\n",
    "print(df.columns)\n",
    "print(\"\\n\")\n",
    "\n",
    "\n"
   ]
  },
  {
   "cell_type": "code",
   "execution_count": 5,
   "id": "cc669438-ad32-48af-8b0a-aa0d2ece819c",
   "metadata": {},
   "outputs": [
    {
     "name": "stdout",
     "output_type": "stream",
     "text": [
      "--- 3. Dataset Dimensions (.shape) ---\n",
      "Number of rows (observations): 150\n",
      "Number of columns (features): 5\n",
      "\n",
      "\n"
     ]
    }
   ],
   "source": [
    "# 3. How many rows (observations) and columns are in the dataset?\n",
    "# Use the .shape attribute. It returns a tuple of (rows, columns).\n",
    "print(\"--- 3. Dataset Dimensions (.shape) ---\")\n",
    "rows, columns = df.shape\n",
    "print(f\"Number of rows (observations): {rows}\")\n",
    "print(f\"Number of columns (features): {columns}\")\n",
    "print(\"\\n\")\n",
    "\n",
    "\n"
   ]
  },
  {
   "cell_type": "code",
   "execution_count": 6,
   "id": "1d19c2bd-8a95-4aa8-acbd-3d11d907d045",
   "metadata": {},
   "outputs": [
    {
     "name": "stdout",
     "output_type": "stream",
     "text": [
      "--- 4. Data Types and Non-Null Values (.info) ---\n",
      "<class 'pandas.core.frame.DataFrame'>\n",
      "RangeIndex: 150 entries, 0 to 149\n",
      "Data columns (total 5 columns):\n",
      " #   Column             Non-Null Count  Dtype  \n",
      "---  ------             --------------  -----  \n",
      " 0   sepal length (cm)  150 non-null    float64\n",
      " 1   sepal width (cm)   150 non-null    float64\n",
      " 2   petal length (cm)  150 non-null    float64\n",
      " 3   petal width (cm)   150 non-null    float64\n",
      " 4   species            150 non-null    object \n",
      "dtypes: float64(4), object(1)\n",
      "memory usage: 6.0+ KB\n",
      "\n",
      "\n"
     ]
    }
   ],
   "source": [
    "# 4. What are the data types of each column?\n",
    "# Use the .info() method for a concise summary of the DataFrame.\n",
    "# This includes the index dtype and columns, non-null values, and memory usage.\n",
    "print(\"--- 4. Data Types and Non-Null Values (.info) ---\")\n",
    "# The .info() method prints its output directly, so we call it here.\n",
    "df.info()\n",
    "print(\"\\n\")\n",
    "\n",
    "\n"
   ]
  },
  {
   "cell_type": "code",
   "execution_count": 7,
   "id": "c0563251-cd13-4fc6-bd71-a744dcce2ee3",
   "metadata": {},
   "outputs": [
    {
     "name": "stdout",
     "output_type": "stream",
     "text": [
      "--- 5. First 5 Rows (.head) ---\n",
      "   sepal length (cm)  sepal width (cm)  petal length (cm)  petal width (cm)  \\\n",
      "0                5.1               3.5                1.4               0.2   \n",
      "1                4.9               3.0                1.4               0.2   \n",
      "2                4.7               3.2                1.3               0.2   \n",
      "3                4.6               3.1                1.5               0.2   \n",
      "4                5.0               3.6                1.4               0.2   \n",
      "\n",
      "  species  \n",
      "0  setosa  \n",
      "1  setosa  \n",
      "2  setosa  \n",
      "3  setosa  \n",
      "4  setosa  \n",
      "\n",
      "\n",
      "--- Last 5 Rows (.tail) ---\n",
      "     sepal length (cm)  sepal width (cm)  petal length (cm)  petal width (cm)  \\\n",
      "145                6.7               3.0                5.2               2.3   \n",
      "146                6.3               2.5                5.0               1.9   \n",
      "147                6.5               3.0                5.2               2.0   \n",
      "148                6.2               3.4                5.4               2.3   \n",
      "149                5.9               3.0                5.1               1.8   \n",
      "\n",
      "       species  \n",
      "145  virginica  \n",
      "146  virginica  \n",
      "147  virginica  \n",
      "148  virginica  \n",
      "149  virginica  \n",
      "\n",
      "\n"
     ]
    }
   ],
   "source": [
    "# 5. Show a sample of the data\n",
    "# Use .head() to see the first 5 rows and .tail() to see the last 5 rows.\n",
    "print(\"--- 5. First 5 Rows (.head) ---\")\n",
    "print(df.head())\n",
    "print(\"\\n\")\n",
    "\n",
    "print(\"--- Last 5 Rows (.tail) ---\")\n",
    "print(df.tail())\n",
    "print(\"\\n\")\n",
    "\n",
    "\n"
   ]
  },
  {
   "cell_type": "code",
   "execution_count": 8,
   "id": "d70b208e-5f6f-4b2e-8a82-d3fca345ce0a",
   "metadata": {},
   "outputs": [
    {
     "name": "stdout",
     "output_type": "stream",
     "text": [
      "--- 6. Descriptive Statistics for Numerical Columns (.describe) ---\n",
      "       sepal length (cm)  sepal width (cm)  petal length (cm)  \\\n",
      "count         150.000000        150.000000         150.000000   \n",
      "mean            5.843333          3.057333           3.758000   \n",
      "std             0.828066          0.435866           1.765298   \n",
      "min             4.300000          2.000000           1.000000   \n",
      "25%             5.100000          2.800000           1.600000   \n",
      "50%             5.800000          3.000000           4.350000   \n",
      "75%             6.400000          3.300000           5.100000   \n",
      "max             7.900000          4.400000           6.900000   \n",
      "\n",
      "       petal width (cm)  \n",
      "count        150.000000  \n",
      "mean           1.199333  \n",
      "std            0.762238  \n",
      "min            0.100000  \n",
      "25%            0.300000  \n",
      "50%            1.300000  \n",
      "75%            1.800000  \n",
      "max            2.500000  \n",
      "\n",
      "\n"
     ]
    }
   ],
   "source": [
    "# 6. Generate descriptive statistics for numerical columns\n",
    "# Use the .describe() method to get statistics like mean, std, min, max, etc.\n",
    "print(\"--- 6. Descriptive Statistics for Numerical Columns (.describe) ---\")\n",
    "print(df.describe())\n",
    "print(\"\\n\")\n",
    "\n"
   ]
  },
  {
   "cell_type": "code",
   "execution_count": 9,
   "id": "e7b65f6b-8d4c-4457-8cba-2d397e81e307",
   "metadata": {},
   "outputs": [
    {
     "name": "stdout",
     "output_type": "stream",
     "text": [
      "--- 7. Dataset Documentation (Data Dictionary) ---\n",
      ".. _iris_dataset:\n",
      "\n",
      "Iris plants dataset\n",
      "--------------------\n",
      "\n",
      "**Data Set Characteristics:**\n",
      "\n",
      ":Number of Instances: 150 (50 in each of three classes)\n",
      ":Number of Attributes: 4 numeric, predictive attributes and the class\n",
      ":Attribute Information:\n",
      "    - sepal length in cm\n",
      "    - sepal width in cm\n",
      "    - petal length in cm\n",
      "    - petal width in cm\n",
      "    - class:\n",
      "            - Iris-Setosa\n",
      "            - Iris-Versicolour\n",
      "            - Iris-Virginica\n",
      "\n",
      ":Summary Statistics:\n",
      "\n",
      "============== ==== ==== ======= ===== ====================\n",
      "                Min  Max   Mean    SD   Class Correlation\n",
      "============== ==== ==== ======= ===== ====================\n",
      "sepal length:   4.3  7.9   5.84   0.83    0.7826\n",
      "sepal width:    2.0  4.4   3.05   0.43   -0.4194\n",
      "petal length:   1.0  6.9   3.76   1.76    0.9490  (high!)\n",
      "petal width:    0.1  2.5   1.20   0.76    0.9565  (high!)\n",
      "============== ==== ==== ======= ===== ====================\n",
      "\n",
      ":Missing Attribute Values: None\n",
      ":Class Distribution: 33.3% for each of 3 classes.\n",
      ":Creator: R.A. Fisher\n",
      ":Donor: Michael Marshall (MARSHALL%PLU@io.arc.nasa.gov)\n",
      ":Date: July, 1988\n",
      "\n",
      "The famous Iris database, first used by Sir R.A. Fisher. The dataset is taken\n",
      "from Fisher's paper. Note that it's the same as in R, but not as in the UCI\n",
      "Machine Learning Repository, which has two wrong data points.\n",
      "\n",
      "This is perhaps the best known database to be found in the\n",
      "pattern recognition literature.  Fisher's paper is a classic in the field and\n",
      "is referenced frequently to this day.  (See Duda & Hart, for example.)  The\n",
      "data set contains 3 classes of 50 instances each, where each class refers to a\n",
      "type of iris plant.  One class is linearly separable from the other 2; the\n",
      "latter are NOT linearly separable from each other.\n",
      "\n",
      ".. dropdown:: References\n",
      "\n",
      "  - Fisher, R.A. \"The use of multiple measurements in taxonomic problems\"\n",
      "    Annual Eugenics, 7, Part II, 179-188 (1936); also in \"Contributions to\n",
      "    Mathematical Statistics\" (John Wiley, NY, 1950).\n",
      "  - Duda, R.O., & Hart, P.E. (1973) Pattern Classification and Scene Analysis.\n",
      "    (Q327.D83) John Wiley & Sons.  ISBN 0-471-22361-1.  See page 218.\n",
      "  - Dasarathy, B.V. (1980) \"Nosing Around the Neighborhood: A New System\n",
      "    Structure and Classification Rule for Recognition in Partially Exposed\n",
      "    Environments\".  IEEE Transactions on Pattern Analysis and Machine\n",
      "    Intelligence, Vol. PAMI-2, No. 1, 67-71.\n",
      "  - Gates, G.W. (1972) \"The Reduced Nearest Neighbor Rule\".  IEEE Transactions\n",
      "    on Information Theory, May 1972, 431-433.\n",
      "  - See also: 1988 MLC Proceedings, 54-64.  Cheeseman et al\"s AUTOCLASS II\n",
      "    conceptual clustering system finds 3 classes in the data.\n",
      "  - Many, many more ...\n",
      "\n"
     ]
    }
   ],
   "source": [
    "# 7. Check documentation (Data Dictionary)\n",
    "# For scikit-learn datasets, the description is available in the DESCR attribute.\n",
    "print(\"--- 7. Dataset Documentation (Data Dictionary) ---\")\n",
    "print(iris_data.DESCR)"
   ]
  }
 ],
 "metadata": {
  "kernelspec": {
   "display_name": "Python 3 (ipykernel)",
   "language": "python",
   "name": "python3"
  },
  "language_info": {
   "codemirror_mode": {
    "name": "ipython",
    "version": 3
   },
   "file_extension": ".py",
   "mimetype": "text/x-python",
   "name": "python",
   "nbconvert_exporter": "python",
   "pygments_lexer": "ipython3",
   "version": "3.11.9"
  }
 },
 "nbformat": 4,
 "nbformat_minor": 5
}
