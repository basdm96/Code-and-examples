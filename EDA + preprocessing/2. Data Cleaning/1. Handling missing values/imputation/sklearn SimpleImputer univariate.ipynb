{
 "cells": [
  {
   "cell_type": "code",
   "execution_count": 11,
   "id": "cf7890cd-d7a3-443d-a872-004fea8cc94e",
   "metadata": {},
   "outputs": [],
   "source": [
    "import pandas as pd\n",
    "import numpy as np\n",
    "import seaborn as sns\n",
    "from sklearn.impute import SimpleImputer\n",
    "from sklearn.pipeline import Pipeline\n",
    "from sklearn.compose import ColumnTransformer"
   ]
  },
  {
   "cell_type": "code",
   "execution_count": 12,
   "id": "8af0c155-f4c8-4c68-8451-c1b08e18c744",
   "metadata": {},
   "outputs": [
    {
     "name": "stdout",
     "output_type": "stream",
     "text": [
      "--- Original Dataframe with Missing Values ---\n",
      "    age embarked deck  survived\n",
      "0  22.0        S  NaN         0\n",
      "1  38.0        C    C         1\n",
      "2  26.0        S  NaN         1\n",
      "3  35.0        S    C         1\n",
      "4  35.0        S  NaN         0\n",
      "\n",
      "Missing values before imputation:\n",
      "age         177\n",
      "embarked      2\n",
      "deck        688\n",
      "survived      0\n",
      "dtype: int64\n"
     ]
    }
   ],
   "source": [
    "titanic_df = sns.load_dataset('titanic')[['age', 'embarked', 'deck', 'survived']]\n",
    "\n",
    "print(\"--- Original Dataframe with Missing Values ---\")\n",
    "print(titanic_df.head())\n",
    "print(\"\\nMissing values before imputation:\")\n",
    "print(titanic_df.isnull().sum())\n",
    "\n"
   ]
  },
  {
   "cell_type": "code",
   "execution_count": 13,
   "id": "b4a778e9-3f90-40bc-bfec-28eaabb5088e",
   "metadata": {},
   "outputs": [],
   "source": [
    "# 2. Define which columns to impute and with which strategy\n",
    "# We will use a ColumnTransformer to apply different imputers to different columns.\n",
    "\n",
    "# Use for numerical data without significant outliers. Fills with the column average.\n",
    "mean_imputer = SimpleImputer(strategy='mean')\n",
    "\n",
    "# Use for numerical data, especially with outliers. Fills with the robust middle value.\n",
    "median_imputer = SimpleImputer(strategy='median')\n",
    "\n",
    "# Use for categorical (string) or discrete numerical data. Fills with the most common value (mode).\n",
    "most_frequent_imputer = SimpleImputer(strategy='most_frequent')\n",
    "\n",
    "# Use to fill with a specific value (e.g., 0, 'Unknown') via the 'fill_value' parameter.\n",
    "constant_imputer = SimpleImputer(strategy='constant', fill_value='Unknown')\n",
    "\n"
   ]
  },
  {
   "cell_type": "code",
   "execution_count": 14,
   "id": "a88d4a35-c1ea-4c58-9f97-6435fb4adfb7",
   "metadata": {},
   "outputs": [],
   "source": [
    "# 3. Create a ColumnTransformer to apply different strategies to different columns\n",
    "# This preprocessor applies a specific imputer to each selected column.\n",
    "preprocessor = ColumnTransformer(\n",
    "    transformers=[\n",
    "        # Apply mean imputation to the 'age' column\n",
    "        ('age_imputer', mean_imputer, ['age']),\n",
    "        \n",
    "        # Apply most frequent imputation to the 'embarked' column\n",
    "        ('embarked_imputer', most_frequent_imputer, ['embarked']),\n",
    "        \n",
    "        # Apply constant imputation to the 'deck' column\n",
    "        ('deck_imputer', constant_imputer, ['deck'])\n",
    "    ],\n",
    "    remainder='passthrough'  # Keep other columns (like 'fare') untouched\n",
    ")\n",
    "\n",
    "\n"
   ]
  },
  {
   "cell_type": "code",
   "execution_count": 15,
   "id": "0ac84a5f-7baa-4e6e-90a2-21e82aa19a64",
   "metadata": {},
   "outputs": [],
   "source": [
    "# 4. Create and apply the full pipeline\n",
    "# While we only have one step here, using a Pipeline is a best practice.\n",
    "imputation_pipeline = Pipeline(steps=[('preprocessor', preprocessor)])\n",
    "\n"
   ]
  },
  {
   "cell_type": "code",
   "execution_count": 16,
   "id": "ad02ea41-4a5e-4561-b526-83ed4df4227a",
   "metadata": {},
   "outputs": [],
   "source": [
    "# Apply the pipeline to the dataframe\n",
    "titanic_imputed_array = imputation_pipeline.fit_transform(titanic_df)\n",
    "\n"
   ]
  },
  {
   "cell_type": "code",
   "execution_count": 17,
   "id": "93f130da-8969-4b8b-be21-61676b6c730a",
   "metadata": {},
   "outputs": [
    {
     "name": "stdout",
     "output_type": "stream",
     "text": [
      "\n",
      "--- DataFrame After Imputation ---\n",
      "    age embarked     deck survived\n",
      "0  22.0        S  Unknown        0\n",
      "1  38.0        C        C        1\n",
      "2  26.0        S  Unknown        1\n",
      "3  35.0        S        C        1\n",
      "4  35.0        S  Unknown        0\n",
      "\n",
      "Missing values after imputation:\n",
      "age         0\n",
      "embarked    0\n",
      "deck        0\n",
      "survived    0\n",
      "dtype: int64\n"
     ]
    }
   ],
   "source": [
    "# 5. Convert the result back to a DataFrame\n",
    "# The output of the pipeline is a NumPy array, so we need to get the new column order.\n",
    "# The ColumnTransformer changes the column order. We can get the correct order from it.\n",
    "new_columns = ['age', 'embarked', 'deck', 'survived'] # Based on the transformer and remainder order\n",
    "titanic_imputed_df = pd.DataFrame(titanic_imputed_array, columns=new_columns)\n",
    "\n",
    "print(\"\\n--- DataFrame After Imputation ---\")\n",
    "print(titanic_imputed_df.head())\n",
    "print(\"\\nMissing values after imputation:\")\n",
    "print(titanic_imputed_df.isnull().sum())"
   ]
  },
  {
   "cell_type": "code",
   "execution_count": null,
   "id": "4723d8e4-c43e-4596-bae8-f35da71bc8e4",
   "metadata": {},
   "outputs": [],
   "source": []
  },
  {
   "cell_type": "code",
   "execution_count": null,
   "id": "89e07d6f-a431-4994-86f1-3e1d56e9ec90",
   "metadata": {},
   "outputs": [],
   "source": []
  }
 ],
 "metadata": {
  "kernelspec": {
   "display_name": "Python 3 (ipykernel)",
   "language": "python",
   "name": "python3"
  },
  "language_info": {
   "codemirror_mode": {
    "name": "ipython",
    "version": 3
   },
   "file_extension": ".py",
   "mimetype": "text/x-python",
   "name": "python",
   "nbconvert_exporter": "python",
   "pygments_lexer": "ipython3",
   "version": "3.11.9"
  }
 },
 "nbformat": 4,
 "nbformat_minor": 5
}
